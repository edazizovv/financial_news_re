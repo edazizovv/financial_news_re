{
 "cells": [
  {
   "cell_type": "code",
   "execution_count": null,
   "metadata": {},
   "outputs": [],
   "source": []
  },
  {
   "cell_type": "code",
   "execution_count": null,
   "metadata": {},
   "outputs": [],
   "source": [
    "# clarify names\n",
    "\n",
    "data = data.rename(columns={'lag': 'news_horizon'})"
   ]
  },
  {
   "cell_type": "code",
   "execution_count": null,
   "metadata": {},
   "outputs": [],
   "source": [
    "d = './dataset.csv'\n",
    "data = pandas.read_csv(d)\n",
    "data = data.rename(columns={'lag': 'news_horizon'})\n",
    "\n",
    "tsi_names = ['news_time']\n",
    "y_names = ['open_LAG0']\n",
    "removes = ['ticker', 'time', 'id', 'title', 'news_time']"
   ]
  },
  {
   "cell_type": "code",
   "execution_count": null,
   "metadata": {},
   "outputs": [],
   "source": [
    "def load_data(data, tsi_names, y_names, removes):\n",
    "\n",
    "    # clarify names\n",
    "\n",
    "    exclude = y_names + removes\n",
    "    x_names = [x for x in data.columns.values if x not in exclude]\n",
    "    print(x_names)\n",
    "    \n",
    "    # sample (without folds)\n",
    "\n",
    "    kind = 'nofolds'\n",
    "    test_rate = 0.2\n",
    "    T_, X_, Y_ = numpy.array(tsi_names), numpy.array(x_names), numpy.array(y_names)\n",
    "    T, X, Y = data[T_].values, data[X_].values, data[Y_].values\n",
    "    T_train, X_train, Y_train, T_test, X_test, Y_test = ts_sampler(T, X, Y, None, test_rate, kind)\n",
    "    \n",
    "    return X_train, Y_train, X_test, Y_test, X_\n",
    "    "
   ]
  },
  {
   "cell_type": "code",
   "execution_count": null,
   "metadata": {},
   "outputs": [],
   "source": [
    "X_train, Y_train, X_test, Y_test, X_ = load_data(data, tsi_names, y_names, removes)"
   ]
  },
  {
   "cell_type": "code",
   "execution_count": null,
   "metadata": {},
   "outputs": [],
   "source": [
    "# sample (without folds)\n",
    "\n",
    "kind = 'nofolds'\n",
    "test_rate = 0.2\n",
    "T_, X_, Y_ = numpy.array(tsi_names), numpy.array(x_names), numpy.array(y_names)\n",
    "T, X, Y = data[T_].values, data[X_].values, data[Y_].values\n",
    "T_train, X_train, Y_train, T_test, X_test, Y_test = ts_sampler(T, X, Y, None, test_rate, kind)"
   ]
  },
  {
   "cell_type": "code",
   "execution_count": null,
   "metadata": {},
   "outputs": [],
   "source": [
    "#"
   ]
  },
  {
   "cell_type": "code",
   "execution_count": null,
   "metadata": {},
   "outputs": [],
   "source": [
    "# Let's discover"
   ]
  },
  {
   "cell_type": "code",
   "execution_count": null,
   "metadata": {},
   "outputs": [],
   "source": [
    "# "
   ]
  },
  {
   "cell_type": "code",
   "execution_count": null,
   "metadata": {},
   "outputs": [],
   "source": [
    "series = pandas.DataFrame(data={'series': Y_train.ravel()})"
   ]
  },
  {
   "cell_type": "code",
   "execution_count": null,
   "metadata": {},
   "outputs": [],
   "source": [
    "series.hist(bins=20)\n",
    "series['series'].value_counts()"
   ]
  },
  {
   "cell_type": "code",
   "execution_count": null,
   "metadata": {},
   "outputs": [],
   "source": [
    "series.hist(bins=20)\n",
    "series['series'].value_counts()"
   ]
  },
  {
   "cell_type": "code",
   "execution_count": null,
   "metadata": {},
   "outputs": [],
   "source": [
    "series.query(\"-0.003 <= series <= 0.003\").hist(bins=20)\n",
    "series.query(\"-0.003 <= series <= 0.003\")['series'].value_counts()"
   ]
  },
  {
   "cell_type": "code",
   "execution_count": null,
   "metadata": {},
   "outputs": [],
   "source": [
    "series.query(\"series >= 0.003\").hist(bins=20)\n",
    "series.query(\"series >= 0.003\")['series'].value_counts()"
   ]
  },
  {
   "cell_type": "code",
   "execution_count": null,
   "metadata": {},
   "outputs": [],
   "source": [
    "series.query(\"series <= -0.003\").hist(bins=20)\n",
    "series.query(\"series <= -0.003\")['series'].value_counts()"
   ]
  },
  {
   "cell_type": "code",
   "execution_count": null,
   "metadata": {},
   "outputs": [],
   "source": [
    "#"
   ]
  },
  {
   "cell_type": "code",
   "execution_count": null,
   "metadata": {},
   "outputs": [],
   "source": [
    "ols_model_sklearn = LinearRegression(fit_intercept=True, n_jobs=-1)\n",
    "ols_model_sklearn.fit(X=X_train, y=Y_train)"
   ]
  },
  {
   "cell_type": "code",
   "execution_count": null,
   "metadata": {},
   "outputs": [],
   "source": [
    "summary = get_ols_summary(ols_model_sklearn, X_train, Y_train, X_)\n",
    "Y_hat_train = ols_model_sklearn.predict(X_train)\n",
    "Y_hat_test = ols_model_sklearn.predict(X_test)\n",
    "print(\"{0:.4f}\".format(r2_adj(Y_train, Y_hat_train, X_train.shape[0], X_train.shape[1])))\n",
    "print(\"{0:.4f}\".format(r2_adj(Y_train, Y_hat_train, X_train.shape[0], X_train.shape[1])))\n",
    "summary"
   ]
  },
  {
   "cell_type": "code",
   "execution_count": null,
   "metadata": {},
   "outputs": [],
   "source": [
    "# shall we keep intercept?"
   ]
  },
  {
   "cell_type": "code",
   "execution_count": null,
   "metadata": {},
   "outputs": [],
   "source": [
    "ols_model_sklearn_params = {...}"
   ]
  },
  {
   "cell_type": "code",
   "execution_count": null,
   "metadata": {},
   "outputs": [],
   "source": [
    "# Feature Selection"
   ]
  },
  {
   "cell_type": "code",
   "execution_count": null,
   "metadata": {},
   "outputs": [],
   "source": [
    "def censory(model, XX, YY):\n",
    "    if XX.shape[1] == 0:\n",
    "        mask = numpy.array([False])\n",
    "    else:\n",
    "        p_values = get_ols_summary(model, XX, YY, list(range(XX.shape[1])))['Probabilities'].values[1:]\n",
    "        mask = p_values < 0.05\n",
    "    return mask"
   ]
  },
  {
   "cell_type": "code",
   "execution_count": null,
   "metadata": {},
   "outputs": [],
   "source": [
    "X_train_adj, Y_train_adj, X_test_adj, Y_test_adj, X_adj_ = recursive_batch(ols_model_sklearn, ols_model_sklearn_params, X_train, Y_train, censory, X_test, Y_test, X_)"
   ]
  },
  {
   "cell_type": "code",
   "execution_count": null,
   "metadata": {},
   "outputs": [],
   "source": [
    "ols_model_sklearn_adj = LinearRegression(**ols_model_sklearn_params)\n",
    "ols_model_sklearn_adj.fit(X=X_train_adj, y=Y_train_adj)"
   ]
  },
  {
   "cell_type": "code",
   "execution_count": null,
   "metadata": {},
   "outputs": [],
   "source": [
    "summary = get_ols_summary(ols_model_sklearn_adj, X_train_adj, Y_train_adj, X_adj_)\n",
    "Y_hat_train_adj = ols_model_sklearn_adj.predict(X_train_adj)\n",
    "Y_hat_test_adj = ols_model_sklearn_adj.predict(X_test_adj)\n",
    "print(\"{0:.4f}\".format(r2_adj(Y_train_adj, Y_hat_train_adj, X_train_adj.shape[0], X_train_adj.shape[1])))\n",
    "print(\"{0:.4f}\".format(r2_adj(Y_train_adj, Y_hat_train_adj, X_train_adj.shape[0], X_train_adj.shape[1])))\n",
    "summary"
   ]
  },
  {
   "cell_type": "code",
   "execution_count": null,
   "metadata": {},
   "outputs": [],
   "source": [
    "visualise_predictions(ols_model_sklearn_adj, X_train_adj, Y_train_adj, X_test_adj, Y_test_adj, time_series=True)"
   ]
  },
  {
   "cell_type": "code",
   "execution_count": null,
   "metadata": {},
   "outputs": [],
   "source": []
  }
 ],
 "metadata": {
  "kernelspec": {
   "display_name": "Python 3",
   "language": "python",
   "name": "python3"
  },
  "language_info": {
   "codemirror_mode": {
    "name": "ipython",
    "version": 3
   },
   "file_extension": ".py",
   "mimetype": "text/x-python",
   "name": "python",
   "nbconvert_exporter": "python",
   "pygments_lexer": "ipython3",
   "version": "3.8.3"
  }
 },
 "nbformat": 4,
 "nbformat_minor": 4
}
