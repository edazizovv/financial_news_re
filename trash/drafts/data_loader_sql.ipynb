{
 "cells": [
  {
   "cell_type": "code",
   "execution_count": 2,
   "metadata": {},
   "outputs": [
    {
     "data": {
      "text/plain": [
       "'2020-06-04T14:54:25.858250'"
      ]
     },
     "execution_count": 2,
     "metadata": {},
     "output_type": "execute_result"
    }
   ],
   "source": [
    "import datetime\n",
    "datetime.datetime.now().isoformat()"
   ]
  },
  {
   "cell_type": "code",
   "execution_count": null,
   "metadata": {},
   "outputs": [],
   "source": []
  },
  {
   "cell_type": "code",
   "execution_count": null,
   "metadata": {},
   "outputs": [],
   "source": [
    "# lagger\n",
    "\n",
    "data.to_sql(name=temp_name, con=conn, if_exists='replace', index=False)\n",
    "\n",
    "for column in lagging_columns:\n",
    "    query_execute = \"\"\"\n",
    "    -- https://stackoverflow.com/questions/13289304/postgresql-dynamic-value-as-table-name\n",
    "    DO\n",
    "    $$\n",
    "    DECLARE t_name TEXT;\n",
    "    DECLARE c_name TEXT;\n",
    "    DECLARE c_type TEXT;\n",
    "    DECLARE l_alias TEXT;\n",
    "    DECLARE n_lags INT;\n",
    "    BEGIN\n",
    "    t_name = '{0}';\n",
    "    c_name = '{1}';\n",
    "    l_alias = '{2}';\n",
    "    n_lags = {3};\n",
    "    SELECT data_type FROM information_schema.columns\n",
    "    WHERE 37=37\n",
    "    AND table_name = t_name\n",
    "    AND column_name = c_name\n",
    "    INTO c_type;\n",
    "    EXECUTE format('\n",
    "                   ALTER TABLE %I\n",
    "                   ADD COLUMN tmp_id TEXT;\n",
    "                   UPDATE %I\n",
    "                   SET tmp_id = CONCAT({5});',\n",
    "                   t_name,\n",
    "                   t_name);\n",
    "    FOR i IN 1..n_lags LOOP\n",
    "        EXECUTE format('\n",
    "                       ALTER TABLE %I\n",
    "                       ADD COLUMN %I %s ;\n",
    "                       WITH new_cc AS\n",
    "                       (\n",
    "                       SELECT tmp_id, LAG(%I, %s) OVER (PARTITION BY {4}) AS lg\n",
    "                       FROM %I\n",
    "                       )\n",
    "                       UPDATE %I\n",
    "                       SET %I = new_cc.lg\n",
    "                       FROM new_cc\n",
    "                       WHERE %I.tmp_id = new_cc.tmp_id', \n",
    "                       t_name,\n",
    "                       c_name || '_' || l_alias || i, \n",
    "                       c_type,\n",
    "                       c_name, \n",
    "                       i,\n",
    "                       t_name,\n",
    "                       t_name,\n",
    "                       c_name || '_LAG' || i,\n",
    "                       t_name);\n",
    "    END LOOP;\n",
    "    EXECUTE format('\n",
    "                   ALTER TABLE %I\n",
    "                   DROP COLUMN tmp_id; ',\n",
    "                   t_name)\n",
    "    END;\n",
    "    $$ LANGUAGE plpgsql;\n",
    "    \"\"\".format(temp_name, column_name, lag_alias, n_lags, identifiers, identifiers_and_time)\n",
    "\n",
    "query_select = \"\"\"\n",
    "SELECT *\n",
    "FROM {0}\n",
    ";\n",
    "\"\"\".format(temp_name)\n",
    "\n",
    "data = pandas.read_sql(sql=query_select, con=conn)"
   ]
  }
 ],
 "metadata": {
  "kernelspec": {
   "display_name": "Python 3",
   "language": "python",
   "name": "python3"
  },
  "language_info": {
   "codemirror_mode": {
    "name": "ipython",
    "version": 3
   },
   "file_extension": ".py",
   "mimetype": "text/x-python",
   "name": "python",
   "nbconvert_exporter": "python",
   "pygments_lexer": "ipython3",
   "version": "3.8.3"
  }
 },
 "nbformat": 4,
 "nbformat_minor": 4
}
