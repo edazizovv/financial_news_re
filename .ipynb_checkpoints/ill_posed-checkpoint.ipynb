{
 "cells": [
  {
   "cell_type": "code",
   "execution_count": 70,
   "metadata": {},
   "outputs": [],
   "source": [
    "import json\n",
    "import time\n",
    "import numpy\n",
    "import pandas"
   ]
  },
  {
   "cell_type": "code",
   "execution_count": 71,
   "metadata": {},
   "outputs": [],
   "source": [
    "from sklearn.metrics import r2_score\n",
    "from sklearn.model_selection import train_test_split\n",
    "from sklearn.preprocessing import StandardScaler, MinMaxScaler, MaxAbsScaler, Normalizer\n",
    "from sklearn.linear_model import LinearRegression, ElasticNet\n",
    "from sklearn.neighbors import KNeighborsRegressor, RadiusNeighborsRegressor\n",
    "from sklearn.svm import LinearSVR, SVR, NuSVR\n",
    "from sklearn.tree import DecisionTreeRegressor\n",
    "from sklearn.ensemble import ExtraTreesRegressor, RandomForestRegressor\n",
    "from lightgbm import LGBMRegressor\n",
    "from xgboost import XGBRegressor"
   ]
  },
  {
   "cell_type": "code",
   "execution_count": 72,
   "metadata": {},
   "outputs": [],
   "source": [
    "from news_embedder.overhelm import ner_pool, sentiment_pool, embedding_pool\n",
    "from news_embedder.configuration import Config"
   ]
  },
  {
   "cell_type": "code",
   "execution_count": 73,
   "metadata": {},
   "outputs": [
    {
     "data": {
      "text/html": [
       "<div>\n",
       "<style scoped>\n",
       "    .dataframe tbody tr th:only-of-type {\n",
       "        vertical-align: middle;\n",
       "    }\n",
       "\n",
       "    .dataframe tbody tr th {\n",
       "        vertical-align: top;\n",
       "    }\n",
       "\n",
       "    .dataframe thead th {\n",
       "        text-align: right;\n",
       "    }\n",
       "</style>\n",
       "<table border=\"1\" class=\"dataframe\">\n",
       "  <thead>\n",
       "    <tr style=\"text-align: right;\">\n",
       "      <th></th>\n",
       "      <th>Symbols</th>\n",
       "      <th>PublishDate</th>\n",
       "      <th>TranslatedHeadline</th>\n",
       "      <th>openBefore</th>\n",
       "      <th>openAfter</th>\n",
       "      <th>before_doff</th>\n",
       "      <th>afte_doff</th>\n",
       "    </tr>\n",
       "  </thead>\n",
       "  <tbody>\n",
       "    <tr>\n",
       "      <th>0</th>\n",
       "      <td>GAZP</td>\n",
       "      <td>2019-08-07 12:43:15</td>\n",
       "      <td>Gazprom is considering the sale of 3.7% of the...</td>\n",
       "      <td>230.760</td>\n",
       "      <td>227.650</td>\n",
       "      <td>0.030035</td>\n",
       "      <td>0.053299</td>\n",
       "    </tr>\n",
       "    <tr>\n",
       "      <th>1</th>\n",
       "      <td>SBER</td>\n",
       "      <td>2019-08-07 14:08:07</td>\n",
       "      <td>ICBC has the highest credit worthiness among t...</td>\n",
       "      <td>222.510</td>\n",
       "      <td>224.600</td>\n",
       "      <td>0.005637</td>\n",
       "      <td>0.661030</td>\n",
       "    </tr>\n",
       "    <tr>\n",
       "      <th>2</th>\n",
       "      <td>GMKN</td>\n",
       "      <td>2019-08-07 18:14:27</td>\n",
       "      <td>Norilsk Nickel on 20 August will publish a rep...</td>\n",
       "      <td>14728.000</td>\n",
       "      <td>14842.000</td>\n",
       "      <td>0.135035</td>\n",
       "      <td>0.489965</td>\n",
       "    </tr>\n",
       "    <tr>\n",
       "      <th>3</th>\n",
       "      <td>NLMK</td>\n",
       "      <td>2019-08-07 18:29:02</td>\n",
       "      <td>United States retain the duty on g/K NLMK stee...</td>\n",
       "      <td>144.640</td>\n",
       "      <td>145.100</td>\n",
       "      <td>0.145162</td>\n",
       "      <td>0.479838</td>\n",
       "    </tr>\n",
       "    <tr>\n",
       "      <th>4</th>\n",
       "      <td>UPRO</td>\n",
       "      <td>2019-08-08 09:32:30</td>\n",
       "      <td>German Uniper was moved to the beginning of 20...</td>\n",
       "      <td>2.675</td>\n",
       "      <td>2.674</td>\n",
       "      <td>0.022569</td>\n",
       "      <td>0.060764</td>\n",
       "    </tr>\n",
       "    <tr>\n",
       "      <th>...</th>\n",
       "      <td>...</td>\n",
       "      <td>...</td>\n",
       "      <td>...</td>\n",
       "      <td>...</td>\n",
       "      <td>...</td>\n",
       "      <td>...</td>\n",
       "      <td>...</td>\n",
       "    </tr>\n",
       "    <tr>\n",
       "      <th>4247</th>\n",
       "      <td>YNDX</td>\n",
       "      <td>2020-02-25 13:45:17</td>\n",
       "      <td>Yandex places convertible bonds for $1.25 bill...</td>\n",
       "      <td>2781.600</td>\n",
       "      <td>2733.000</td>\n",
       "      <td>0.031447</td>\n",
       "      <td>0.051887</td>\n",
       "    </tr>\n",
       "    <tr>\n",
       "      <th>4248</th>\n",
       "      <td>SBER</td>\n",
       "      <td>2020-02-25 14:08:31</td>\n",
       "      <td>Morgan Stanley raised the forecast of growth o...</td>\n",
       "      <td>246.570</td>\n",
       "      <td>244.750</td>\n",
       "      <td>0.005914</td>\n",
       "      <td>0.660752</td>\n",
       "    </tr>\n",
       "    <tr>\n",
       "      <th>4249</th>\n",
       "      <td>NVTK</td>\n",
       "      <td>2020-02-25 14:16:52</td>\n",
       "      <td>NOVATEK bought last week 608 776 thousand of s...</td>\n",
       "      <td>1065.200</td>\n",
       "      <td>1048.000</td>\n",
       "      <td>0.011713</td>\n",
       "      <td>0.654954</td>\n",
       "    </tr>\n",
       "    <tr>\n",
       "      <th>4250</th>\n",
       "      <td>YNDX</td>\n",
       "      <td>2020-02-25 14:32:54</td>\n",
       "      <td>\"Yandex.Taxi\" identifies project delivery, cha...</td>\n",
       "      <td>2793.000</td>\n",
       "      <td>2661.600</td>\n",
       "      <td>0.022847</td>\n",
       "      <td>0.643819</td>\n",
       "    </tr>\n",
       "    <tr>\n",
       "      <th>4251</th>\n",
       "      <td>NVTK</td>\n",
       "      <td>2020-02-25 15:15:49</td>\n",
       "      <td>NOVATEK bought last week 608 776 thousand of i...</td>\n",
       "      <td>1059.600</td>\n",
       "      <td>1048.000</td>\n",
       "      <td>0.010984</td>\n",
       "      <td>0.614016</td>\n",
       "    </tr>\n",
       "  </tbody>\n",
       "</table>\n",
       "<p>4252 rows × 7 columns</p>\n",
       "</div>"
      ],
      "text/plain": [
       "     Symbols         PublishDate  \\\n",
       "0       GAZP 2019-08-07 12:43:15   \n",
       "1       SBER 2019-08-07 14:08:07   \n",
       "2       GMKN 2019-08-07 18:14:27   \n",
       "3       NLMK 2019-08-07 18:29:02   \n",
       "4       UPRO 2019-08-08 09:32:30   \n",
       "...      ...                 ...   \n",
       "4247    YNDX 2020-02-25 13:45:17   \n",
       "4248    SBER 2020-02-25 14:08:31   \n",
       "4249    NVTK 2020-02-25 14:16:52   \n",
       "4250    YNDX 2020-02-25 14:32:54   \n",
       "4251    NVTK 2020-02-25 15:15:49   \n",
       "\n",
       "                                     TranslatedHeadline  openBefore  \\\n",
       "0     Gazprom is considering the sale of 3.7% of the...     230.760   \n",
       "1     ICBC has the highest credit worthiness among t...     222.510   \n",
       "2     Norilsk Nickel on 20 August will publish a rep...   14728.000   \n",
       "3     United States retain the duty on g/K NLMK stee...     144.640   \n",
       "4     German Uniper was moved to the beginning of 20...       2.675   \n",
       "...                                                 ...         ...   \n",
       "4247  Yandex places convertible bonds for $1.25 bill...    2781.600   \n",
       "4248  Morgan Stanley raised the forecast of growth o...     246.570   \n",
       "4249  NOVATEK bought last week 608 776 thousand of s...    1065.200   \n",
       "4250  \"Yandex.Taxi\" identifies project delivery, cha...    2793.000   \n",
       "4251  NOVATEK bought last week 608 776 thousand of i...    1059.600   \n",
       "\n",
       "      openAfter  before_doff  afte_doff  \n",
       "0       227.650     0.030035   0.053299  \n",
       "1       224.600     0.005637   0.661030  \n",
       "2     14842.000     0.135035   0.489965  \n",
       "3       145.100     0.145162   0.479838  \n",
       "4         2.674     0.022569   0.060764  \n",
       "...         ...          ...        ...  \n",
       "4247   2733.000     0.031447   0.051887  \n",
       "4248    244.750     0.005914   0.660752  \n",
       "4249   1048.000     0.011713   0.654954  \n",
       "4250   2661.600     0.022847   0.643819  \n",
       "4251   1048.000     0.010984   0.614016  \n",
       "\n",
       "[4252 rows x 7 columns]"
      ]
     },
     "execution_count": 73,
     "metadata": {},
     "output_type": "execute_result"
    }
   ],
   "source": [
    "d = './data/data/dataWithQuotes.xlsx'\n",
    "data = pandas.read_excel(d)\n",
    "data = data.drop(columns=['Unnamed: 0', 'Id', 'Headline', 'Content', 'FreeText', 'UrgencyCode', 'Rubrics', 'SourceId', 'TranslatedFull', 'timeBefore', 'timeAfter'])\n",
    "data"
   ]
  },
  {
   "cell_type": "code",
   "execution_count": 74,
   "metadata": {},
   "outputs": [
    {
     "data": {
      "text/plain": [
       "array(['Symbols', 'PublishDate', 'TranslatedHeadline', 'openBefore',\n",
       "       'openAfter', 'before_doff', 'afte_doff'], dtype=object)"
      ]
     },
     "execution_count": 74,
     "metadata": {},
     "output_type": "execute_result"
    }
   ],
   "source": [
    "data.columns.values"
   ]
  },
  {
   "cell_type": "code",
   "execution_count": 75,
   "metadata": {},
   "outputs": [
    {
     "data": {
      "text/html": [
       "<div>\n",
       "<style scoped>\n",
       "    .dataframe tbody tr th:only-of-type {\n",
       "        vertical-align: middle;\n",
       "    }\n",
       "\n",
       "    .dataframe tbody tr th {\n",
       "        vertical-align: top;\n",
       "    }\n",
       "\n",
       "    .dataframe thead th {\n",
       "        text-align: right;\n",
       "    }\n",
       "</style>\n",
       "<table border=\"1\" class=\"dataframe\">\n",
       "  <thead>\n",
       "    <tr style=\"text-align: right;\">\n",
       "      <th></th>\n",
       "      <th>Symbols</th>\n",
       "      <th>PublishDate</th>\n",
       "      <th>TranslatedHeadline</th>\n",
       "      <th>before_doff</th>\n",
       "      <th>afte_doff</th>\n",
       "      <th>target</th>\n",
       "    </tr>\n",
       "  </thead>\n",
       "  <tbody>\n",
       "    <tr>\n",
       "      <th>0</th>\n",
       "      <td>GAZP</td>\n",
       "      <td>2019-08-07 12:43:15</td>\n",
       "      <td>Gazprom is considering the sale of 3.7% of the...</td>\n",
       "      <td>0.030035</td>\n",
       "      <td>0.053299</td>\n",
       "      <td>-0.013477</td>\n",
       "    </tr>\n",
       "    <tr>\n",
       "      <th>1</th>\n",
       "      <td>SBER</td>\n",
       "      <td>2019-08-07 14:08:07</td>\n",
       "      <td>ICBC has the highest credit worthiness among t...</td>\n",
       "      <td>0.005637</td>\n",
       "      <td>0.661030</td>\n",
       "      <td>0.009393</td>\n",
       "    </tr>\n",
       "    <tr>\n",
       "      <th>2</th>\n",
       "      <td>GMKN</td>\n",
       "      <td>2019-08-07 18:14:27</td>\n",
       "      <td>Norilsk Nickel on 20 August will publish a rep...</td>\n",
       "      <td>0.135035</td>\n",
       "      <td>0.489965</td>\n",
       "      <td>0.007740</td>\n",
       "    </tr>\n",
       "    <tr>\n",
       "      <th>3</th>\n",
       "      <td>NLMK</td>\n",
       "      <td>2019-08-07 18:29:02</td>\n",
       "      <td>United States retain the duty on g/K NLMK stee...</td>\n",
       "      <td>0.145162</td>\n",
       "      <td>0.479838</td>\n",
       "      <td>0.003180</td>\n",
       "    </tr>\n",
       "    <tr>\n",
       "      <th>4</th>\n",
       "      <td>UPRO</td>\n",
       "      <td>2019-08-08 09:32:30</td>\n",
       "      <td>German Uniper was moved to the beginning of 20...</td>\n",
       "      <td>0.022569</td>\n",
       "      <td>0.060764</td>\n",
       "      <td>-0.000374</td>\n",
       "    </tr>\n",
       "    <tr>\n",
       "      <th>...</th>\n",
       "      <td>...</td>\n",
       "      <td>...</td>\n",
       "      <td>...</td>\n",
       "      <td>...</td>\n",
       "      <td>...</td>\n",
       "      <td>...</td>\n",
       "    </tr>\n",
       "    <tr>\n",
       "      <th>4247</th>\n",
       "      <td>YNDX</td>\n",
       "      <td>2020-02-25 13:45:17</td>\n",
       "      <td>Yandex places convertible bonds for $1.25 bill...</td>\n",
       "      <td>0.031447</td>\n",
       "      <td>0.051887</td>\n",
       "      <td>-0.017472</td>\n",
       "    </tr>\n",
       "    <tr>\n",
       "      <th>4248</th>\n",
       "      <td>SBER</td>\n",
       "      <td>2020-02-25 14:08:31</td>\n",
       "      <td>Morgan Stanley raised the forecast of growth o...</td>\n",
       "      <td>0.005914</td>\n",
       "      <td>0.660752</td>\n",
       "      <td>-0.007381</td>\n",
       "    </tr>\n",
       "    <tr>\n",
       "      <th>4249</th>\n",
       "      <td>NVTK</td>\n",
       "      <td>2020-02-25 14:16:52</td>\n",
       "      <td>NOVATEK bought last week 608 776 thousand of s...</td>\n",
       "      <td>0.011713</td>\n",
       "      <td>0.654954</td>\n",
       "      <td>-0.016147</td>\n",
       "    </tr>\n",
       "    <tr>\n",
       "      <th>4250</th>\n",
       "      <td>YNDX</td>\n",
       "      <td>2020-02-25 14:32:54</td>\n",
       "      <td>\"Yandex.Taxi\" identifies project delivery, cha...</td>\n",
       "      <td>0.022847</td>\n",
       "      <td>0.643819</td>\n",
       "      <td>-0.047046</td>\n",
       "    </tr>\n",
       "    <tr>\n",
       "      <th>4251</th>\n",
       "      <td>NVTK</td>\n",
       "      <td>2020-02-25 15:15:49</td>\n",
       "      <td>NOVATEK bought last week 608 776 thousand of i...</td>\n",
       "      <td>0.010984</td>\n",
       "      <td>0.614016</td>\n",
       "      <td>-0.010948</td>\n",
       "    </tr>\n",
       "  </tbody>\n",
       "</table>\n",
       "<p>4252 rows × 6 columns</p>\n",
       "</div>"
      ],
      "text/plain": [
       "     Symbols         PublishDate  \\\n",
       "0       GAZP 2019-08-07 12:43:15   \n",
       "1       SBER 2019-08-07 14:08:07   \n",
       "2       GMKN 2019-08-07 18:14:27   \n",
       "3       NLMK 2019-08-07 18:29:02   \n",
       "4       UPRO 2019-08-08 09:32:30   \n",
       "...      ...                 ...   \n",
       "4247    YNDX 2020-02-25 13:45:17   \n",
       "4248    SBER 2020-02-25 14:08:31   \n",
       "4249    NVTK 2020-02-25 14:16:52   \n",
       "4250    YNDX 2020-02-25 14:32:54   \n",
       "4251    NVTK 2020-02-25 15:15:49   \n",
       "\n",
       "                                     TranslatedHeadline  before_doff  \\\n",
       "0     Gazprom is considering the sale of 3.7% of the...     0.030035   \n",
       "1     ICBC has the highest credit worthiness among t...     0.005637   \n",
       "2     Norilsk Nickel on 20 August will publish a rep...     0.135035   \n",
       "3     United States retain the duty on g/K NLMK stee...     0.145162   \n",
       "4     German Uniper was moved to the beginning of 20...     0.022569   \n",
       "...                                                 ...          ...   \n",
       "4247  Yandex places convertible bonds for $1.25 bill...     0.031447   \n",
       "4248  Morgan Stanley raised the forecast of growth o...     0.005914   \n",
       "4249  NOVATEK bought last week 608 776 thousand of s...     0.011713   \n",
       "4250  \"Yandex.Taxi\" identifies project delivery, cha...     0.022847   \n",
       "4251  NOVATEK bought last week 608 776 thousand of i...     0.010984   \n",
       "\n",
       "      afte_doff    target  \n",
       "0      0.053299 -0.013477  \n",
       "1      0.661030  0.009393  \n",
       "2      0.489965  0.007740  \n",
       "3      0.479838  0.003180  \n",
       "4      0.060764 -0.000374  \n",
       "...         ...       ...  \n",
       "4247   0.051887 -0.017472  \n",
       "4248   0.660752 -0.007381  \n",
       "4249   0.654954 -0.016147  \n",
       "4250   0.643819 -0.047046  \n",
       "4251   0.614016 -0.010948  \n",
       "\n",
       "[4252 rows x 6 columns]"
      ]
     },
     "execution_count": 75,
     "metadata": {},
     "output_type": "execute_result"
    }
   ],
   "source": [
    "data['target'] = data['openAfter'] / data['openBefore'] - 1\n",
    "data = data.drop(columns=['openAfter', 'openBefore'])\n",
    "data"
   ]
  },
  {
   "cell_type": "code",
   "execution_count": 76,
   "metadata": {},
   "outputs": [
    {
     "data": {
      "text/plain": [
       "GAZP    752\n",
       "MOEX    475\n",
       "ROSN    306\n",
       "SBER    305\n",
       "LKOH    274\n",
       "       ... \n",
       "UTAR      1\n",
       "BANE      1\n",
       "MRKU      1\n",
       "MRKC      1\n",
       "AQUA      1\n",
       "Name: Symbols, Length: 66, dtype: int64"
      ]
     },
     "execution_count": 76,
     "metadata": {},
     "output_type": "execute_result"
    }
   ],
   "source": [
    "data['Symbols'].value_counts()"
   ]
  },
  {
   "cell_type": "code",
   "execution_count": null,
   "metadata": {},
   "outputs": [],
   "source": []
  },
  {
   "cell_type": "code",
   "execution_count": 77,
   "metadata": {},
   "outputs": [],
   "source": [
    "# Embed"
   ]
  },
  {
   "cell_type": "code",
   "execution_count": 78,
   "metadata": {},
   "outputs": [],
   "source": [
    "data = data.rename(columns={'TranslatedHeadline': 'Text'})"
   ]
  },
  {
   "cell_type": "code",
   "execution_count": 79,
   "metadata": {},
   "outputs": [
    {
     "name": "stdout",
     "output_type": "stream",
     "text": [
      "Size of the data being treated is:\n",
      "\tN of texts = 4252\n",
      "\tTotal N of characters = 411259\n",
      "Total run time = 2.57 seconds\n"
     ]
    },
    {
     "data": {
      "text/html": [
       "<div>\n",
       "<style scoped>\n",
       "    .dataframe tbody tr th:only-of-type {\n",
       "        vertical-align: middle;\n",
       "    }\n",
       "\n",
       "    .dataframe tbody tr th {\n",
       "        vertical-align: top;\n",
       "    }\n",
       "\n",
       "    .dataframe thead th {\n",
       "        text-align: right;\n",
       "    }\n",
       "</style>\n",
       "<table border=\"1\" class=\"dataframe\">\n",
       "  <thead>\n",
       "    <tr style=\"text-align: right;\">\n",
       "      <th></th>\n",
       "      <th>Symbols</th>\n",
       "      <th>PublishDate</th>\n",
       "      <th>Text</th>\n",
       "      <th>before_doff</th>\n",
       "      <th>afte_doff</th>\n",
       "      <th>target</th>\n",
       "      <th>polarity</th>\n",
       "      <th>subjectivity</th>\n",
       "    </tr>\n",
       "  </thead>\n",
       "  <tbody>\n",
       "    <tr>\n",
       "      <th>0</th>\n",
       "      <td>GAZP</td>\n",
       "      <td>2019-08-07 12:43:15</td>\n",
       "      <td>Gazprom is considering the sale of 3.7% of the...</td>\n",
       "      <td>0.030035</td>\n",
       "      <td>0.053299</td>\n",
       "      <td>-0.013477</td>\n",
       "      <td>0.000000</td>\n",
       "      <td>0.000000</td>\n",
       "    </tr>\n",
       "    <tr>\n",
       "      <th>1</th>\n",
       "      <td>SBER</td>\n",
       "      <td>2019-08-07 14:08:07</td>\n",
       "      <td>ICBC has the highest credit worthiness among t...</td>\n",
       "      <td>0.005637</td>\n",
       "      <td>0.661030</td>\n",
       "      <td>0.009393</td>\n",
       "      <td>0.000000</td>\n",
       "      <td>0.000000</td>\n",
       "    </tr>\n",
       "    <tr>\n",
       "      <th>2</th>\n",
       "      <td>GMKN</td>\n",
       "      <td>2019-08-07 18:14:27</td>\n",
       "      <td>Norilsk Nickel on 20 August will publish a rep...</td>\n",
       "      <td>0.135035</td>\n",
       "      <td>0.489965</td>\n",
       "      <td>0.007740</td>\n",
       "      <td>0.136364</td>\n",
       "      <td>0.454545</td>\n",
       "    </tr>\n",
       "    <tr>\n",
       "      <th>3</th>\n",
       "      <td>NLMK</td>\n",
       "      <td>2019-08-07 18:29:02</td>\n",
       "      <td>United States retain the duty on g/K NLMK stee...</td>\n",
       "      <td>0.145162</td>\n",
       "      <td>0.479838</td>\n",
       "      <td>0.003180</td>\n",
       "      <td>0.000000</td>\n",
       "      <td>1.000000</td>\n",
       "    </tr>\n",
       "    <tr>\n",
       "      <th>4</th>\n",
       "      <td>UPRO</td>\n",
       "      <td>2019-08-08 09:32:30</td>\n",
       "      <td>German Uniper was moved to the beginning of 20...</td>\n",
       "      <td>0.022569</td>\n",
       "      <td>0.060764</td>\n",
       "      <td>-0.000374</td>\n",
       "      <td>0.000000</td>\n",
       "      <td>0.000000</td>\n",
       "    </tr>\n",
       "    <tr>\n",
       "      <th>...</th>\n",
       "      <td>...</td>\n",
       "      <td>...</td>\n",
       "      <td>...</td>\n",
       "      <td>...</td>\n",
       "      <td>...</td>\n",
       "      <td>...</td>\n",
       "      <td>...</td>\n",
       "      <td>...</td>\n",
       "    </tr>\n",
       "    <tr>\n",
       "      <th>9620</th>\n",
       "      <td>NaN</td>\n",
       "      <td>NaT</td>\n",
       "      <td>NaN</td>\n",
       "      <td>NaN</td>\n",
       "      <td>NaN</td>\n",
       "      <td>NaN</td>\n",
       "      <td>0.000000</td>\n",
       "      <td>0.700000</td>\n",
       "    </tr>\n",
       "    <tr>\n",
       "      <th>9621</th>\n",
       "      <td>NaN</td>\n",
       "      <td>NaT</td>\n",
       "      <td>NaN</td>\n",
       "      <td>NaN</td>\n",
       "      <td>NaN</td>\n",
       "      <td>NaN</td>\n",
       "      <td>-0.050000</td>\n",
       "      <td>0.533333</td>\n",
       "    </tr>\n",
       "    <tr>\n",
       "      <th>9622</th>\n",
       "      <td>NaN</td>\n",
       "      <td>NaT</td>\n",
       "      <td>NaN</td>\n",
       "      <td>NaN</td>\n",
       "      <td>NaN</td>\n",
       "      <td>NaN</td>\n",
       "      <td>-0.800000</td>\n",
       "      <td>1.000000</td>\n",
       "    </tr>\n",
       "    <tr>\n",
       "      <th>9623</th>\n",
       "      <td>NaN</td>\n",
       "      <td>NaT</td>\n",
       "      <td>NaN</td>\n",
       "      <td>NaN</td>\n",
       "      <td>NaN</td>\n",
       "      <td>NaN</td>\n",
       "      <td>0.250000</td>\n",
       "      <td>0.333333</td>\n",
       "    </tr>\n",
       "    <tr>\n",
       "      <th>9624</th>\n",
       "      <td>NaN</td>\n",
       "      <td>NaT</td>\n",
       "      <td>NaN</td>\n",
       "      <td>NaN</td>\n",
       "      <td>NaN</td>\n",
       "      <td>NaN</td>\n",
       "      <td>0.250000</td>\n",
       "      <td>0.333333</td>\n",
       "    </tr>\n",
       "  </tbody>\n",
       "</table>\n",
       "<p>9625 rows × 8 columns</p>\n",
       "</div>"
      ],
      "text/plain": [
       "     Symbols         PublishDate  \\\n",
       "0       GAZP 2019-08-07 12:43:15   \n",
       "1       SBER 2019-08-07 14:08:07   \n",
       "2       GMKN 2019-08-07 18:14:27   \n",
       "3       NLMK 2019-08-07 18:29:02   \n",
       "4       UPRO 2019-08-08 09:32:30   \n",
       "...      ...                 ...   \n",
       "9620     NaN                 NaT   \n",
       "9621     NaN                 NaT   \n",
       "9622     NaN                 NaT   \n",
       "9623     NaN                 NaT   \n",
       "9624     NaN                 NaT   \n",
       "\n",
       "                                                   Text  before_doff  \\\n",
       "0     Gazprom is considering the sale of 3.7% of the...     0.030035   \n",
       "1     ICBC has the highest credit worthiness among t...     0.005637   \n",
       "2     Norilsk Nickel on 20 August will publish a rep...     0.135035   \n",
       "3     United States retain the duty on g/K NLMK stee...     0.145162   \n",
       "4     German Uniper was moved to the beginning of 20...     0.022569   \n",
       "...                                                 ...          ...   \n",
       "9620                                                NaN          NaN   \n",
       "9621                                                NaN          NaN   \n",
       "9622                                                NaN          NaN   \n",
       "9623                                                NaN          NaN   \n",
       "9624                                                NaN          NaN   \n",
       "\n",
       "      afte_doff    target  polarity  subjectivity  \n",
       "0      0.053299 -0.013477  0.000000      0.000000  \n",
       "1      0.661030  0.009393  0.000000      0.000000  \n",
       "2      0.489965  0.007740  0.136364      0.454545  \n",
       "3      0.479838  0.003180  0.000000      1.000000  \n",
       "4      0.060764 -0.000374  0.000000      0.000000  \n",
       "...         ...       ...       ...           ...  \n",
       "9620        NaN       NaN  0.000000      0.700000  \n",
       "9621        NaN       NaN -0.050000      0.533333  \n",
       "9622        NaN       NaN -0.800000      1.000000  \n",
       "9623        NaN       NaN  0.250000      0.333333  \n",
       "9624        NaN       NaN  0.250000      0.333333  \n",
       "\n",
       "[9625 rows x 8 columns]"
      ]
     },
     "execution_count": 79,
     "metadata": {},
     "output_type": "execute_result"
    }
   ],
   "source": [
    "config = Config()\n",
    "config.model = {}\n",
    "\n",
    "\n",
    "run_time = time.time()\n",
    "n_char = data['Text'].apply(lambda x: len(x)).sum()\n",
    "print('Size of the data being treated is:\\n\\tN of texts = {}\\n\\tTotal N of characters = {}'.format(data.shape[0], n_char))\n",
    "\n",
    "# result_data = ner_pool(data, ['spacy'], config)\n",
    "# result_data = sentiment_pool(data, ['textblob'], config)\n",
    "result_data = embedding_pool(data, ['use'], config)\n",
    "\n",
    "\n",
    "run_time = time.time() - run_time\n",
    "print('Total run time = {0:.2f} seconds'.format(run_time))\n",
    "\n",
    "result_data"
   ]
  },
  {
   "cell_type": "code",
   "execution_count": null,
   "metadata": {},
   "outputs": [],
   "source": []
  },
  {
   "cell_type": "code",
   "execution_count": 40,
   "metadata": {},
   "outputs": [],
   "source": [
    "# Discovery"
   ]
  },
  {
   "cell_type": "code",
   "execution_count": 62,
   "metadata": {},
   "outputs": [
    {
     "data": {
      "text/plain": [
       "<matplotlib.axes._subplots.AxesSubplot at 0x16b0fc228e0>"
      ]
     },
     "execution_count": 62,
     "metadata": {},
     "output_type": "execute_result"
    },
    {
     "data": {
      "image/png": "[encoded data removed]",
      "text/plain": [
       "<Figure size 432x288 with 1 Axes>"
      ]
     },
     "metadata": {
      "needs_background": "light"
     },
     "output_type": "display_data"
    }
   ],
   "source": [
    "pandas.Series(Y_train.ravel()).hist(bins=100)"
   ]
  },
  {
   "cell_type": "code",
   "execution_count": 42,
   "metadata": {},
   "outputs": [],
   "source": [
    "# Modelling"
   ]
  },
  {
   "cell_type": "code",
   "execution_count": 43,
   "metadata": {},
   "outputs": [],
   "source": [
    "# set model specification\n",
    "\n",
    "tsi_names = ['PublishDate']\n",
    "y_names = ['target']\n",
    "x_names = [x for x in data.columns.values if x not in y_names and x not in tsi_names]"
   ]
  },
  {
   "cell_type": "code",
   "execution_count": 44,
   "metadata": {},
   "outputs": [
    {
     "data": {
      "text/plain": [
       "{'StandardScaler': {},\n",
       " 'MinMaxScaler': {'feature_range': [[0, 1], [-1, 1]]},\n",
       " 'MaxAbsScaler': {},\n",
       " 'Normalizer': {'norm': ['l1', 'l2', 'max']}}"
      ]
     },
     "execution_count": 44,
     "metadata": {},
     "output_type": "execute_result"
    }
   ],
   "source": [
    "# transformations\n",
    "# all of them are in the .json file\n",
    "\n",
    "with open('./transformers.json') as f:\n",
    "    transformers = json.load(f)\n",
    "\n",
    "transformers"
   ]
  },
  {
   "cell_type": "code",
   "execution_count": null,
   "metadata": {},
   "outputs": [],
   "source": []
  },
  {
   "cell_type": "code",
   "execution_count": null,
   "metadata": {},
   "outputs": [],
   "source": []
  },
  {
   "cell_type": "code",
   "execution_count": 57,
   "metadata": {},
   "outputs": [],
   "source": [
    "# sample\n",
    "\n",
    "test_rate = 0.2\n",
    "T_, X_, Y_ = numpy.array(tsi_names), numpy.array(x_names), numpy.array(y_names)\n",
    "T, X, Y = data[T_].values, data[X_].values, data[Y_].values\n",
    "T_train, T_test, X_train, X_test, Y_train, Y_test = train_test_split(T, X, Y, test_size=test_rate)"
   ]
  },
  {
   "cell_type": "code",
   "execution_count": 46,
   "metadata": {},
   "outputs": [],
   "source": [
    "\"\"\"\n",
    "model realisation party A-00-1-SK: sklearn-interfaced models\n",
    "\"\"\"\n",
    "pass"
   ]
  },
  {
   "cell_type": "code",
   "execution_count": 47,
   "metadata": {},
   "outputs": [
    {
     "data": {
      "text/plain": [
       "{'LinearRegression': {'n_jobs': [-1]},\n",
       " 'ElasticNet': {'alpha': [0.01, 0.1, 0.25, 0.5, 0.75, 0.95, 0.99],\n",
       "  'l1_ratio': [0, 0.01, 0.1, 0.25, 0.5, 0.75, 0.95, 0.99],\n",
       "  'max_iter': [100000]},\n",
       " 'KNeighborsRegressor': {'n_neighbors': [2, 3, 5, 8, 10],\n",
       "  'weights': ['uniform', 'distance'],\n",
       "  'p': [1, 2],\n",
       "  'n_jobs': [-1]},\n",
       " 'LinearSVR': {'epsilon': [0.0, 0.1, 0.5, 1.0],\n",
       "  'C': [0.1, 1.0, 10.0, 100.0],\n",
       "  'max_iter': [100000]},\n",
       " 'SVR': {'kernel': ['poly', 'rbf', 'sigmoid'],\n",
       "  'gamma': ['auto', 'scale'],\n",
       "  'C': [0.1, 1.0, 10.0, 100.0],\n",
       "  'epsilon': [0.0, 0.1, 0.5, 1.0],\n",
       "  'shrinking': [True, False],\n",
       "  'max_iter': [100000]},\n",
       " 'NuSVR': {'nu': [0.1, 0.25, 0.5, 0.75, 1.0],\n",
       "  'C': [0.1, 1.0, 10.0, 100.0],\n",
       "  'kernel': ['poly', 'rbf', 'sigmoid'],\n",
       "  'gamma': ['auto', 'scale'],\n",
       "  'shrinking': [True, False],\n",
       "  'max_iter': [100000]},\n",
       " 'DecisionTreeRegressor': {'splitter': ['best', 'random'],\n",
       "  'max_depth': [None, 10, 5, 2],\n",
       "  'max_features': ['auto', 'sqrt', 'log2']},\n",
       " 'ExtraTreesRegressor': {'n_estimators': [10, 50, 100, 200, 500, 1000],\n",
       "  'max_depth': [None, 10, 5, 2],\n",
       "  'max_features': ['auto', 'sqrt', 'log2'],\n",
       "  'n_jobs': [-1]},\n",
       " 'RandomForestRegressor': {'n_estimators': [10, 50, 100, 200, 500, 1000],\n",
       "  'max_depth': [None, 10, 5, 2],\n",
       "  'max_features': ['auto', 'sqrt', 'log2'],\n",
       "  'n_jobs': [-1]},\n",
       " 'LGBMRegressor': {'max_depth': [-1, 10, 5, 2],\n",
       "  'learning_rate': [0.01, 0.1, 0.5],\n",
       "  'n_estimators': [10, 50, 100, 200],\n",
       "  'class_weight': ['balanced', None],\n",
       "  'subsample': [1.0, 0.95, 0.9],\n",
       "  'reg_alpha': [0.0, 0.1, 0.25, 0.5, 0.75, 0.9, 1.0],\n",
       "  'reg_lambda': [0.0, 0.1, 0.25, 0.5, 0.75, 0.9, 1.0],\n",
       "  'n_jobs': [-1]},\n",
       " 'XGBRegressor': {'n_estimators': [10, 50, 100, 200],\n",
       "  'learning_rate': [0.01, 0.1, 0.5],\n",
       "  'n_jobs': [-1],\n",
       "  'subsample': [1.0, 0.95, 0.9],\n",
       "  'reg_alpha': [0.0, 0.1, 0.25, 0.5, 0.75, 0.9, 1.0],\n",
       "  'reg_lambda': [0.0, 0.1, 0.25, 0.5, 0.75, 0.9, 1.0]}}"
      ]
     },
     "execution_count": 47,
     "metadata": {},
     "output_type": "execute_result"
    }
   ],
   "source": [
    "# models\n",
    "# all of them are stored in .json file with possible parameters\n",
    "\n",
    "with open('./models_params.json') as f:\n",
    "    models_params = json.load(f)\n",
    "\n",
    "models_params"
   ]
  },
  {
   "cell_type": "code",
   "execution_count": 48,
   "metadata": {},
   "outputs": [],
   "source": [
    "def multiply_params(params):\n",
    "    keys = numpy.array(list(params.keys()))\n",
    "    dims = numpy.array([len(params[keys[j]]) for j in numpy.arange(keys.shape[0])])\n",
    "    result = []\n",
    "    for j in numpy.arange(dims.prod()):\n",
    "        curr = j\n",
    "        res = {}\n",
    "        for k in numpy.arange(keys.shape[0]):\n",
    "            ix = curr % dims[k]\n",
    "            res[keys[k]] = params[keys[k]][ix]\n",
    "            curr = curr // dims[k]\n",
    "        result.append(res)\n",
    "    return result\n"
   ]
  },
  {
   "cell_type": "code",
   "execution_count": 49,
   "metadata": {},
   "outputs": [],
   "source": [
    "def r2_adj(y_true, y_pred, dim0, dim1):\n",
    "    r2 = r2_score(y_true, y_pred)\n",
    "    result = 1 - (1 - r2) * (dim0 - 1) / (dim0 - dim1 -1)\n",
    "    return result"
   ]
  },
  {
   "cell_type": "code",
   "execution_count": 50,
   "metadata": {},
   "outputs": [
    {
     "data": {
      "text/plain": [
       "((851, 1), (3401, 1))"
      ]
     },
     "execution_count": 50,
     "metadata": {},
     "output_type": "execute_result"
    }
   ],
   "source": [
    "X_train.shape, X_test.shape"
   ]
  },
  {
   "cell_type": "code",
   "execution_count": 51,
   "metadata": {},
   "outputs": [
    {
     "data": {
      "text/plain": [
       "7"
      ]
     },
     "execution_count": 51,
     "metadata": {},
     "output_type": "execute_result"
    }
   ],
   "source": [
    "dim_transform = 0\n",
    "for transformer_name, transformer_params in transformers.items():\n",
    "    multiple_transformer_params = multiply_params(transformer_params)\n",
    "    dim_transform += len(multiple_transformer_params)\n",
    "dim_transform"
   ]
  },
  {
   "cell_type": "code",
   "execution_count": 52,
   "metadata": {},
   "outputs": [
    {
     "data": {
      "text/plain": [
       "16569"
      ]
     },
     "execution_count": 52,
     "metadata": {},
     "output_type": "execute_result"
    }
   ],
   "source": [
    "dim_models = 0\n",
    "for model_name, model_args in models_params.items():\n",
    "    multiple_model_args = multiply_params(model_args)\n",
    "    dim_models += len(multiple_model_args)\n",
    "dim_models"
   ]
  },
  {
   "cell_type": "code",
   "execution_count": 53,
   "metadata": {},
   "outputs": [
    {
     "name": "stdout",
     "output_type": "stream",
     "text": [
      "Total N of experiments: 115983\n"
     ]
    }
   ],
   "source": [
    "print('Total N of experiments: {}'.format(dim_transform * dim_models))"
   ]
  },
  {
   "cell_type": "code",
   "execution_count": null,
   "metadata": {},
   "outputs": [],
   "source": [
    "# well, let's loop over that all (NO GOD PLEASE NOOOOOO)\n",
    "# (kind: nofolds)\n",
    "\n",
    "serie = 'USE'\n",
    "scorer = r2_adj\n",
    "report = pandas.DataFrame(columns=['XP', 'trans', 'trans_p', 'model', 'model_p', 'sc_train', 'sc_test', 'time'])\n",
    "verbose_step = 1000\n",
    "\n",
    "#_ = 1\n",
    "xp = 1\n",
    "total_time = time.time()\n",
    "for transformer_name, transformer_params in transformers.items():\n",
    "    multiple_transformer_params = multiply_params(transformer_params)\n",
    "    for transformer_param in multiple_transformer_params:\n",
    "        x_transformer, y_transformer = locals()[transformer_name](**transformer_param), locals()[transformer_name](**transformer_param)\n",
    "        x_transformer.fit(X_train)\n",
    "        y_transformer.fit(Y_train)\n",
    "        for model_name, model_args in models_params.items():\n",
    "            multiple_model_args = multiply_params(model_args)\n",
    "            for model_arg in multiple_model_args:\n",
    "                model_time = time.time()\n",
    "                model = locals()[model_name](**model_arg)\n",
    "                X_train_transformed = x_transformer.transform(X_train)\n",
    "                X_test_transformed = x_transformer.transform(X_test)\n",
    "                Y_train_transformed = y_transformer.transform(Y_train)\n",
    "                model.fit(X_train_transformed, Y_train_transformed.ravel())\n",
    "                Y_hat_train_transformed = model.predict(X_train_transformed)\n",
    "                Y_hat_test_transformed = model.predict(X_test_transformed)\n",
    "                Y_hat_train = y_transformer.inverse_transform(Y_hat_train_transformed.reshape(-1, 1))\n",
    "                Y_hat_test = y_transformer.inverse_transform(Y_hat_test_transformed.reshape(-1, 1))\n",
    "                score_train = scorer(Y_train, Y_hat_train, X_train.shape[0], X_train.shape[1])\n",
    "                score_test = scorer(Y_test, Y_hat_test, X_test.shape[0], X_test.shape[1])\n",
    "                model_time = time.time() - model_time\n",
    "                result = {'serie': serie, 'XP': xp, 'trans': transformer_name, 'trans_p': str(transformer_param), 'model': model_name, 'model_p': str(model_arg), 'sc_train': score_train, 'sc_test': score_test, 'time': model_time}\n",
    "                report = report.append(result, ignore_index=True)\n",
    "                #if _ == 1:\n",
    "                #    print(model_name)\n",
    "                if xp % verbose_step == 0:\n",
    "                    print(xp)\n",
    "                xp += 1\n",
    "        _ += 1\n",
    "total_time = time.time() - total_time\n",
    "print('N experiments: {0:10}; Spent time: {1:.0f}h {2:.0f}m {3:.0f}s'.format(xp, (total_time // 3600), ((total_time // 60) % 60), ((total_time % 3600) % 60)))"
   ]
  }
 ],
 "metadata": {
  "kernelspec": {
   "display_name": "Python 3",
   "language": "python",
   "name": "python3"
  },
  "language_info": {
   "codemirror_mode": {
    "name": "ipython",
    "version": 3
   },
   "file_extension": ".py",
   "mimetype": "text/x-python",
   "name": "python",
   "nbconvert_exporter": "python",
   "pygments_lexer": "ipython3",
   "version": "3.8.2"
  }
 },
 "nbformat": 4,
 "nbformat_minor": 4
}
