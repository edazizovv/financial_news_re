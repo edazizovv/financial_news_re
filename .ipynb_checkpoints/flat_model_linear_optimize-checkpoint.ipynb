{
 "cells": [
  {
   "cell_type": "code",
   "execution_count": null,
   "metadata": {},
   "outputs": [],
   "source": [
    "#"
   ]
  },
  {
   "cell_type": "code",
   "execution_count": null,
   "metadata": {},
   "outputs": [],
   "source": [
    "import json\n",
    "import time\n",
    "import numpy\n",
    "import pandas\n",
    "from scipy import stats\n",
    "from data.flat import load\n",
    "from matplotlib import pyplot\n",
    "from matplotlib import lines as mlines"
   ]
  },
  {
   "cell_type": "code",
   "execution_count": null,
   "metadata": {},
   "outputs": [],
   "source": [
    "from sklearn.metrics import r2_score\n",
    "from sklearn.preprocessing import StandardScaler, MinMaxScaler, MaxAbsScaler, Normalizer\n",
    "from sklearn.linear_model import LinearRegression"
   ]
  },
  {
   "cell_type": "code",
   "execution_count": null,
   "metadata": {},
   "outputs": [],
   "source": [
    "k = 'C:/Users/MainUser/Desktop/OpenAPI_sandbox.txt'\n",
    "crs = open(k, \"r\")\n",
    "for columns in ( raw.strip().split() for raw in crs ):\n",
    "    api_key = columns[0]"
   ]
  },
  {
   "cell_type": "code",
   "execution_count": null,
   "metadata": {},
   "outputs": [],
   "source": []
  },
  {
   "cell_type": "code",
   "execution_count": null,
   "metadata": {},
   "outputs": [],
   "source": []
  },
  {
   "cell_type": "code",
   "execution_count": null,
   "metadata": {},
   "outputs": [],
   "source": []
  },
  {
   "cell_type": "code",
   "execution_count": null,
   "metadata": {},
   "outputs": [],
   "source": []
  },
  {
   "cell_type": "code",
   "execution_count": null,
   "metadata": {},
   "outputs": [],
   "source": []
  },
  {
   "cell_type": "code",
   "execution_count": null,
   "metadata": {},
   "outputs": [],
   "source": []
  },
  {
   "cell_type": "code",
   "execution_count": null,
   "metadata": {},
   "outputs": [],
   "source": []
  },
  {
   "cell_type": "code",
   "execution_count": null,
   "metadata": {},
   "outputs": [],
   "source": []
  },
  {
   "cell_type": "code",
   "execution_count": null,
   "metadata": {},
   "outputs": [],
   "source": [
    "def load_data(n_lags):\n",
    "    \n",
    "    target_quotes = ['MSFT']\n",
    "    news_horizon = 1\n",
    "    effect_horizon = n_lags\n",
    "    \n",
    "    data = await load(api_key, target_quotes, news_horizon, effect_horizon)\n",
    "    \n",
    "    a = data.sort_values(by=['id', 'time'])\n",
    "    a = a[~a['title'].isna() & ~a['open_HOZ0_PCT1'].isna()]\n",
    "    data = a.copy()\n",
    "    \n",
    "    data = data.dropna()\n",
    "    \n",
    "    # clarify names\n",
    "\n",
    "    data = data.rename(columns={'lag': 'news_horizon'})\n",
    "    \n",
    "    tsi_names = ['news_time']\n",
    "    y_names = ['open_HOZ0_PCT1']\n",
    "    removes = ['news_horizon']\n",
    "    x_names = [x for x in data.columns.values if 'open' in x and x not in (y_names + removes)]\n",
    "    \n",
    "    \n",
    "    # sample (without folds)\n",
    "\n",
    "    kind = 'nofolds'\n",
    "    test_rate = 0.2\n",
    "    T_, X_, Y_ = numpy.array(tsi_names), numpy.array(x_names), numpy.array(y_names)\n",
    "    T, X, Y = data[T_].values, data[X_].values, data[Y_].values\n",
    "    T_train, X_train, Y_train, T_test, X_test, Y_test = ts_sampler(T, X, Y, None, test_rate, kind)\n",
    "    \n",
    "    return X_train, Y_train, X_test, Y_test, X_\n",
    "    "
   ]
  },
  {
   "cell_type": "code",
   "execution_count": null,
   "metadata": {},
   "outputs": [],
   "source": [
    "def censory(model, XX, YY):\n",
    "    if XX.shape[1] == 0:\n",
    "        mask = numpy.array([False])\n",
    "    else:\n",
    "        p_values = get_ols_summary(model, XX, YY, list(range(XX.shape[1])))['Probabilities'].values[1:]\n",
    "        mask = p_values < 0.05\n",
    "    return mask"
   ]
  },
  {
   "cell_type": "code",
   "execution_count": null,
   "metadata": {},
   "outputs": [],
   "source": [
    "def golags(max_lag):\n",
    "    report = pandas.DataFrame(columns=['R2_adj', 'n_lags', 'd1'])\n",
    "    for n_lags in [x + 1 for x in range(max_lag)]:\n",
    "        X_train, Y_train, X_test, Y_test, X_ = load_data(n_lags)\n",
    "        params = {'n_jobs': -1, 'fit_intercept': False}\n",
    "        model = LinearRegression(**params)\n",
    "        model.fit(X=X_train, y=Y_train)\n",
    "        X_train_adj, Y_train_adj, X_test_adj, Y_test_adj, X_adj_ = recursive_batch(model, params, X_train, Y_train, censory, X_test, Y_test, X_)\n",
    "        model = LinearRegression(**params)\n",
    "        model.fit(X=X_train_adj, y=Y_train_adj)\n",
    "        result = {'R2_adj': r2_adj(Y_train_adj, Y_hat_train_adj, X_train_adj.shape[0], X_train_adj.shape[1]), \n",
    "                  'n_lags': n_lags, 'd1': X_train_adj.shape[1]}\n",
    "        report = report.append(result, ignore_index=True)\n",
    "    return report"
   ]
  }
 ],
 "metadata": {
  "kernelspec": {
   "display_name": "Python 3",
   "language": "python",
   "name": "python3"
  },
  "language_info": {
   "codemirror_mode": {
    "name": "ipython",
    "version": 3
   },
   "file_extension": ".py",
   "mimetype": "text/x-python",
   "name": "python",
   "nbconvert_exporter": "python",
   "pygments_lexer": "ipython3",
   "version": "3.8.3"
  }
 },
 "nbformat": 4,
 "nbformat_minor": 4
}
