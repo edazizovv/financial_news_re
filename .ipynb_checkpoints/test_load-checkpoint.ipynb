{
 "cells": [
  {
   "cell_type": "code",
   "execution_count": 1,
   "metadata": {},
   "outputs": [
    {
     "name": "stderr",
     "output_type": "stream",
     "text": [
      "E:\\venv\\financial_news_re\\lib\\site-packages\\pandas_datareader\\compat\\__init__.py:7: FutureWarning: pandas.util.testing is deprecated. Use the functions in the public API at pandas.testing instead.\n",
      "  from pandas.util.testing import assert_frame_equal\n"
     ]
    }
   ],
   "source": [
    "import json\n",
    "import time\n",
    "import numpy\n",
    "import pandas\n",
    "from data.flat_sql import Loader"
   ]
  },
  {
   "cell_type": "code",
   "execution_count": 2,
   "metadata": {},
   "outputs": [],
   "source": [
    "k = 'C:/Users/MainUser/Desktop/OpenAPI_sandbox.txt'\n",
    "crs = open(k, \"r\")\n",
    "for columns in (raw.strip().split() for raw in crs):\n",
    "    api_key = columns[0]"
   ]
  },
  {
   "cell_type": "code",
   "execution_count": 3,
   "metadata": {},
   "outputs": [],
   "source": [
    "target_quotes = ['MSFT']\n",
    "news_horizon = 100\n",
    "effect_horizon = 100"
   ]
  },
  {
   "cell_type": "code",
   "execution_count": 4,
   "metadata": {},
   "outputs": [],
   "source": [
    "db_config = 'C:/Users/MainUser/Desktop/config.json'\n",
    "news_titles_source = './data/data/rex.xlsx'"
   ]
  },
  {
   "cell_type": "code",
   "execution_count": 5,
   "metadata": {
    "scrolled": false
   },
   "outputs": [],
   "source": [
    "loader = Loader(api_key, target_quotes, news_horizon, effect_horizon, db_config, reload_quotes=True,\n",
    "                 news_titles_source=news_titles_source, verbose=True, base_option='without')\n",
    "# loader = Loader(api_key, target_quotes, news_horizon, effect_horizon, db_config, reload_quotes=False,\n",
    "#                  news_titles_source=None, verbose=True, base_option='without')"
   ]
  },
  {
   "cell_type": "code",
   "execution_count": null,
   "metadata": {
    "scrolled": false
   },
   "outputs": [
    {
     "name": "stdout",
     "output_type": "stream",
     "text": [
      "Reading\n",
      "Skipped Connection\n",
      "Preparing News Titles Frame\n"
     ]
    },
    {
     "name": "stderr",
     "output_type": "stream",
     "text": [
      "E:\\venv\\financial_news_re\\lib\\site-packages\\pandas\\core\\arrays\\datetimelike.py:1265: PerformanceWarning: Adding/subtracting array of DateOffsets to DatetimeArray not vectorized\n",
      "  warnings.warn(\n"
     ]
    },
    {
     "name": "stdout",
     "output_type": "stream",
     "text": [
      "Preparing Quotes\n",
      "Getting Dates\n",
      "Filling Quotes\n",
      "Getting Dates\n",
      "Lagging Quotes\n",
      "Evaluating Quotes Percents\n"
     ]
    }
   ],
   "source": [
    "data = await loader.read()"
   ]
  },
  {
   "cell_type": "code",
   "execution_count": null,
   "metadata": {},
   "outputs": [],
   "source": [
    "data.dropna().sort_values(by=['title', 'lag'])"
   ]
  },
  {
   "cell_type": "code",
   "execution_count": null,
   "metadata": {},
   "outputs": [],
   "source": [
    "d = './dataset.csv'\n",
    "data.dropna().sort_values(by=['title', 'lag']).to_csv(d, index=False)"
   ]
  },
  {
   "cell_type": "code",
   "execution_count": null,
   "metadata": {},
   "outputs": [],
   "source": []
  }
 ],
 "metadata": {
  "kernelspec": {
   "display_name": "Python 3",
   "language": "python",
   "name": "python3"
  },
  "language_info": {
   "codemirror_mode": {
    "name": "ipython",
    "version": 3
   },
   "file_extension": ".py",
   "mimetype": "text/x-python",
   "name": "python",
   "nbconvert_exporter": "python",
   "pygments_lexer": "ipython3",
   "version": "3.8.3"
  }
 },
 "nbformat": 4,
 "nbformat_minor": 4
}
