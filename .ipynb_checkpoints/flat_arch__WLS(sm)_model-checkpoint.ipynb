{
 "cells": [
  {
   "cell_type": "code",
   "execution_count": 1,
   "metadata": {},
   "outputs": [],
   "source": [
    "#"
   ]
  },
  {
   "cell_type": "code",
   "execution_count": 2,
   "metadata": {},
   "outputs": [
    {
     "name": "stderr",
     "output_type": "stream",
     "text": [
      "E:\\venv\\financial_news_re\\lib\\site-packages\\pandas_datareader\\compat\\__init__.py:7: FutureWarning: pandas.util.testing is deprecated. Use the functions in the public API at pandas.testing instead.\n",
      "  from pandas.util.testing import assert_frame_equal\n"
     ]
    }
   ],
   "source": [
    "import json\n",
    "import time\n",
    "import numpy\n",
    "import pandas\n",
    "from scipy import stats\n",
    "from data.flat import load\n",
    "from matplotlib import pyplot\n",
    "from matplotlib import lines as mlines"
   ]
  },
  {
   "cell_type": "code",
   "execution_count": null,
   "metadata": {},
   "outputs": [],
   "source": []
  },
  {
   "cell_type": "code",
   "execution_count": 3,
   "metadata": {},
   "outputs": [],
   "source": [
    "from m_utils.measures import r2_adj\n",
    "from m_utils.sampling import ts_sampler\n",
    "from m_utils.summarization import get_ols_summary\n",
    "from m_utils.feature_selection import recursive_batch"
   ]
  },
  {
   "cell_type": "code",
   "execution_count": null,
   "metadata": {},
   "outputs": [],
   "source": []
  },
  {
   "cell_type": "code",
   "execution_count": 4,
   "metadata": {},
   "outputs": [],
   "source": [
    "def load_data(data, tsi_names, y_names, removes, test_rate, n_folds):\n",
    "\n",
    "    # clarify names\n",
    "\n",
    "    exclude = y_names + removes\n",
    "    x_names = [x for x in data.columns.values if (x not in exclude and 'LAG0' not in x)]\n",
    "    \n",
    "    # sample (without folds)\n",
    "\n",
    "    data_train, data_test = ts_sampler(data, n_folds, test_rate)\n",
    "    X_, Y_ = numpy.array(x_names), numpy.array(y_names)\n",
    "    X_train, Y_train = [x[X_].values for x in data_train], [x[Y_].values for x in data_train]\n",
    "    X_test, Y_test = data_test[X_].values, data_test[Y_].values\n",
    "    \n",
    "    print('Fold shape: {0}'.format(X_train[0].shape))\n",
    "    print('Test shape: {0}'.format(X_test.shape))\n",
    "    \n",
    "    return X_train, Y_train, X_test, Y_test, X_\n",
    "    "
   ]
  },
  {
   "cell_type": "code",
   "execution_count": 5,
   "metadata": {},
   "outputs": [],
   "source": [
    "def censory(model, XX, YY):\n",
    "    if XX.shape[1] == 0:\n",
    "        mask = numpy.array([False])\n",
    "    else:\n",
    "        p_values = get_ols_summary(model, XX, YY, list(range(XX.shape[1])))['Probabilities'].values[1:]\n",
    "        mask = p_values < 0.05\n",
    "    return mask"
   ]
  },
  {
   "cell_type": "code",
   "execution_count": 6,
   "metadata": {},
   "outputs": [],
   "source": [
    "def golags(tsi_names, y_names, removes, test_rate=0.2, n_folds=1):\n",
    "    report = pandas.DataFrame(columns=['R2_adj', 'd1', 'X_adj_'])\n",
    "    X_train, Y_train, X_test, Y_test, X_ = load_data(data, tsi_names, y_names, removes, test_rate, n_folds)\n",
    "    params = {'n_jobs': -1, 'fit_intercept': False}\n",
    "    model = LinearRegression\n",
    "    for j in range(len(X_train)):\n",
    "        \n",
    "        model_adj, X_train_adj, Y_train_adj, X_test_adj, Y_test_adj, X_adj_ = recursive_batch(model, params, X_train[j], Y_train[j], censory, X_test, Y_test, X_)\n",
    "        Y_hat_train_adj = model_adj.predict(X_train_adj)\n",
    "        Y_hat_test_adj = model_adj.predict(X_test_adj)\n",
    "        result = {'R2_adj': r2_adj(Y_train_adj, Y_hat_train_adj, X_train_adj.shape[0], X_train_adj.shape[1]), \n",
    "                  'd1': X_train_adj.shape[1], 'X_adj_': X_adj_}\n",
    "        report = report.append(result, ignore_index=True)\n",
    "\n",
    "    return report"
   ]
  },
  {
   "cell_type": "code",
   "execution_count": null,
   "metadata": {},
   "outputs": [],
   "source": [
    "d = './dataset.csv'\n",
    "data = pandas.read_csv(d)\n",
    "data = data.rename(columns={'lag': 'news_horizon'})\n",
    "data = data.set_index(['ticker', 'time', 'news_horizon'], drop=False)\n",
    "data = data.sort_index()\n",
    "\n",
    "tsi_names = ['news_time']\n",
    "y_names = ['open_LAG0']\n",
    "removes = ['ticker', 'time', 'id', 'title', 'news_time']\n",
    "\n",
    "report = golags(tsi_names, y_names, removes, n_folds=5)\n",
    "report"
   ]
  }
 ],
 "metadata": {
  "kernelspec": {
   "display_name": "Python 3",
   "language": "python",
   "name": "python3"
  },
  "language_info": {
   "codemirror_mode": {
    "name": "ipython",
    "version": 3
   },
   "file_extension": ".py",
   "mimetype": "text/x-python",
   "name": "python",
   "nbconvert_exporter": "python",
   "pygments_lexer": "ipython3",
   "version": "3.8.3"
  }
 },
 "nbformat": 4,
 "nbformat_minor": 4
}
