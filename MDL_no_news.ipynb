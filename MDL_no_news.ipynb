{
 "cells": [
  {
   "cell_type": "code",
   "execution_count": 1,
   "metadata": {},
   "outputs": [],
   "source": [
    "#\n",
    "import pytz\n",
    "import pandas\n",
    "import datetime\n",
    "from matplotlib import pyplot"
   ]
  },
  {
   "cell_type": "code",
   "execution_count": 2,
   "metadata": {},
   "outputs": [],
   "source": [
    "#\n",
    "from m_utils.transform import lag_it\n",
    "from mpydge.wrap.new_data import DataHandler, MaskHandler\n",
    "from mpydge.chaotic.the_new_pipe import SimplePipe\n",
    "from new_insane import Insane, Neakt\n",
    "from new_insane import XBR\n",
    "from new_insane import MAE, R2_adj\n",
    "from reporter import reported_n_muted"
   ]
  },
  {
   "cell_type": "code",
   "execution_count": null,
   "metadata": {},
   "outputs": [],
   "source": [
    "\n",
    "print(\"Process Started:\\t {0}\".format(datetime.datetime.utcnow().replace(tzinfo=pytz.utc)))\n",
    "#\n",
    "d = './result.csv'\n",
    "\n",
    "dataset = pandas.read_csv(d, sep=';')\n",
    "\n",
    "dataset = dataset.set_index(['time'])\n",
    "# dataset = dataset.sort_index(ascending=True)\n",
    "\n",
    "# dataset = lag_it(dataset, n_lags=1, exactly=False)\n",
    "dataset = dataset.dropna()"
   ]
  },
  {
   "cell_type": "code",
   "execution_count": null,
   "metadata": {},
   "outputs": [],
   "source": [
    "\n",
    "target = 'close_LAG0'\n",
    "qualitative = []\n",
    "quantitative = [x for x in dogtag.columns.values if 'LAG0' not in x]"
   ]
  },
  {
   "cell_type": "code",
   "execution_count": null,
   "metadata": {},
   "outputs": [],
   "source": [
    "\n",
    "X_names = [qualitative + quantitative + [target], qualitative + quantitative]\n",
    "Y_names = [target, target]\n",
    "outputs_0 = qualitative + quantitative + [target]\n",
    "output_spec = [{x: 'float64' for x in outputs_0}, {target: 'float64'}]"
   ]
  },
  {
   "cell_type": "code",
   "execution_count": null,
   "metadata": {},
   "outputs": [],
   "source": [
    "\n",
    "g_mask = [x in quantitative for x in X_names[0]]  # !\n",
    "target_mask = [x == target for x in X_names[0]]"
   ]
  },
  {
   "cell_type": "code",
   "execution_count": 3,
   "metadata": {},
   "outputs": [
    {
     "ename": "NameError",
     "evalue": "name 'g_mask' is not defined",
     "output_type": "error",
     "traceback": [
      "\u001b[1;31m---------------------------------------------------------------------------\u001b[0m",
      "\u001b[1;31mNameError\u001b[0m                                 Traceback (most recent call last)",
      "\u001b[1;32m<ipython-input-3-561a1201d04b>\u001b[0m in \u001b[0;36m<module>\u001b[1;34m\u001b[0m\n\u001b[0;32m      1\u001b[0m \u001b[1;31m# they are similar both for target and factors, remove redundant, pls\u001b[0m\u001b[1;33m\u001b[0m\u001b[1;33m\u001b[0m\u001b[1;33m\u001b[0m\u001b[0m\n\u001b[1;32m----> 2\u001b[1;33m maskeds = [{Insane(my_name='Nothing'): g_mask, Insane(my_name='Nothing'): target_mask},\n\u001b[0m\u001b[0;32m      3\u001b[0m            \u001b[1;33m{\u001b[0m\u001b[0mInsane\u001b[0m\u001b[1;33m(\u001b[0m\u001b[0mmy_name\u001b[0m\u001b[1;33m=\u001b[0m\u001b[1;34m'TanhLnPct'\u001b[0m\u001b[1;33m)\u001b[0m\u001b[1;33m:\u001b[0m \u001b[0mg_mask\u001b[0m\u001b[1;33m,\u001b[0m \u001b[0mInsane\u001b[0m\u001b[1;33m(\u001b[0m\u001b[0mmy_name\u001b[0m\u001b[1;33m=\u001b[0m\u001b[1;34m'TanhLnPct'\u001b[0m\u001b[1;33m)\u001b[0m\u001b[1;33m:\u001b[0m \u001b[0mtarget_mask\u001b[0m\u001b[1;33m}\u001b[0m\u001b[1;33m,\u001b[0m\u001b[1;33m\u001b[0m\u001b[1;33m\u001b[0m\u001b[0m\n\u001b[0;32m      4\u001b[0m            \u001b[1;33m{\u001b[0m\u001b[0mInsane\u001b[0m\u001b[1;33m(\u001b[0m\u001b[0mmy_name\u001b[0m\u001b[1;33m=\u001b[0m\u001b[1;34m'LnPct'\u001b[0m\u001b[1;33m)\u001b[0m\u001b[1;33m:\u001b[0m \u001b[0mg_mask\u001b[0m\u001b[1;33m,\u001b[0m \u001b[0mInsane\u001b[0m\u001b[1;33m(\u001b[0m\u001b[0mmy_name\u001b[0m\u001b[1;33m=\u001b[0m\u001b[1;34m'LnPct'\u001b[0m\u001b[1;33m)\u001b[0m\u001b[1;33m:\u001b[0m \u001b[0mtarget_mask\u001b[0m\u001b[1;33m}\u001b[0m\u001b[1;33m,\u001b[0m\u001b[1;33m\u001b[0m\u001b[1;33m\u001b[0m\u001b[0m\n\u001b[0;32m      5\u001b[0m            \u001b[1;33m{\u001b[0m\u001b[0mInsane\u001b[0m\u001b[1;33m(\u001b[0m\u001b[0mmy_name\u001b[0m\u001b[1;33m=\u001b[0m\u001b[1;34m'Whiten'\u001b[0m\u001b[1;33m)\u001b[0m\u001b[1;33m:\u001b[0m \u001b[0mg_mask\u001b[0m\u001b[1;33m,\u001b[0m \u001b[0mInsane\u001b[0m\u001b[1;33m(\u001b[0m\u001b[0mmy_name\u001b[0m\u001b[1;33m=\u001b[0m\u001b[1;34m'Whiten'\u001b[0m\u001b[1;33m)\u001b[0m\u001b[1;33m:\u001b[0m \u001b[0mtarget_mask\u001b[0m\u001b[1;33m}\u001b[0m\u001b[1;33m,\u001b[0m\u001b[1;33m\u001b[0m\u001b[1;33m\u001b[0m\u001b[0m\n",
      "\u001b[1;31mNameError\u001b[0m: name 'g_mask' is not defined"
     ]
    }
   ],
   "source": [
    "\n",
    "# they are similar both for target and factors, remove redundant, pls\n",
    "maskeds = [{Insane(my_name='Nothing'): g_mask, Insane(my_name='Nothing'): target_mask},\n",
    "           {Insane(my_name='TanhLnPct'): g_mask, Insane(my_name='TanhLnPct'): target_mask},\n",
    "           {Insane(my_name='LnPct'): g_mask, Insane(my_name='LnPct'): target_mask},\n",
    "           {Insane(my_name='Whiten'): g_mask, Insane(my_name='Whiten'): target_mask},\n",
    "           {Insane(my_name='TanhWhiten'): g_mask, Insane(my_name='TanhWhiten'): target_mask}]\n",
    "\n",
    "maskeds_coded = ['Nothing', 'TanhLnPct', 'LnPct', 'Whiten', 'TanhWhiten']"
   ]
  },
  {
   "cell_type": "code",
   "execution_count": null,
   "metadata": {},
   "outputs": [],
   "source": [
    "\n",
    "train_rate = 0.7\n",
    "full_len = dogtag.shape[0]\n",
    "train_len = int(full_len * train_rate)\n",
    "test_len = full_len - train_len\n",
    "\n",
    "train_mask = [x < train_len for x in range(dogtag.shape[0])]\n",
    "test_mask = [x >= train_len for x in range(dogtag.shape[0])]\n",
    "sample_mask = MaskHandler(train=train_mask, validation=None, test=test_mask)\n",
    "dta = DataHandler(data_frame=dogtag, qualitative=qualitative, quantitative=quantitative, sample_mask=sample_mask)\n",
    "dta.sample()"
   ]
  },
  {
   "cell_type": "code",
   "execution_count": null,
   "metadata": {},
   "outputs": [],
   "source": [
    "\n",
    "ys_true_train = []\n",
    "ys_true_test = []\n",
    "ys_hat_train = []\n",
    "ys_hat_test = []\n",
    "\n",
    "maes_train, r2_js_train = [], []\n",
    "maes_test, r2_js_test = [], []\n",
    "\n",
    "report_measures = pandas.DataFrame(columns=['iteration', 'fold', 'measure', 'value'])\n",
    "report_values = pandas.DataFrame(columns=['iteration', 'fold', 'tix', 'y_true', 'y_hat'])\n",
    "\n",
    "models = [XBR]\n",
    "models_names = ['XBR']\n"
   ]
  },
  {
   "cell_type": "code",
   "execution_count": null,
   "metadata": {},
   "outputs": [],
   "source": [
    "\n",
    "for i in range(len(models_names)):\n",
    "\n",
    "    items = [Neakt, models[i]]\n",
    "    for j in range(len(maskeds_coded)):\n",
    "\n",
    "        items_args = [{'masked': maskeds[j], 'coded': maskeds_coded[j]}, {'rfe_cv': True}]\n",
    "        pipe = SimplePipe(data=dta, items=items, items_args=items_args,\n",
    "                          X_names=X_names, Y_names=Y_names, output_spec=output_spec)\n",
    "\n",
    "        pipe.fit()\n",
    "        pipe_on_train = pipe.infer(on='train')\n",
    "        pipe_on_test = pipe.infer(on='test')\n",
    "\n",
    "        reversed_train = pipe.the_pipe[0].backward(pipe_on_train.train[list(output_spec[0].keys())].values)\n",
    "        reversed_test = pipe.the_pipe[0].backward(pipe_on_test.test[list(output_spec[0].keys())].values)\n",
    "\n",
    "        ys_true_train.append(dta.train[target].values)\n",
    "        ys_true_test.append(dta.test[target].values)\n",
    "        ys_hat_train.append(reversed_train[:, -1])\n",
    "        ys_hat_test.append(reversed_test[:, -1])\n",
    "\n",
    "        maes_train.append(MAE(y_true=dta.train[target].values, y_pred=reversed_train[:, -1]))\n",
    "        r2_js_train.append(R2_adj(y_true=dta.train[target].values, y_pred=reversed_train[:, -1], dim1=len(list(output_spec[0].keys()))))\n",
    "        maes_test.append(MAE(y_true=dta.test[target].values, y_pred=reversed_test[:, -1]))\n",
    "        r2_js_test.append(R2_adj(y_true=dta.test[target].values, y_pred=reversed_test[:, -1], dim1=len(list(output_spec[0].keys()))))\n",
    "\n",
    "        report_measures_ = {'iteration': ['{0} | {1} | noNEWS | enabledRFE'.format(maskeds_coded[j], models_names[i])] * 4,\n",
    "                            'fold': ['train', 'train', 'test', 'test'],\n",
    "                            'measure': ['MAE', 'R2_adj', 'MAE', 'R2_adj'],\n",
    "                            'value': [maes_train[-1], r2_js_train[-1], maes_test[-1], r2_js_test[-1]]}\n",
    "\n",
    "        report_values_ = {'iteration': ['{0} | {1} | noNEWS | enabledRFE'.format(maskeds_coded[j], models_names[i])] * full_len,\n",
    "                          'fold': ['train'] * train_len + ['test'] * test_len,\n",
    "                          'tix': list(range(train_len)) + list(range(test_len)),\n",
    "                          'y_true': list(ys_true_train[-1]) + list(ys_true_test[-1]),\n",
    "                          'y_hat': list(ys_hat_train[-1]) + list(ys_hat_test[-1])}\n",
    "\n",
    "        report_measures = report_measures.append(pandas.DataFrame(data=report_measures_), ignore_index=True)\n",
    "        report_values = report_values.append(pandas.DataFrame(data=report_values_), ignore_index=True)\n"
   ]
  },
  {
   "cell_type": "code",
   "execution_count": null,
   "metadata": {},
   "outputs": [],
   "source": [
    "\n",
    "# pyplot.plot(range(train_len), ys_true_train[0], 'navy', range(train_len), ys_hat_train[0], 'orange')\n",
    "# pyplot.plot(range(test_len), ys_true_test[0], 'navy', range(test_len), ys_hat_test[0], 'orange')"
   ]
  },
  {
   "cell_type": "code",
   "execution_count": null,
   "metadata": {},
   "outputs": [],
   "source": [
    "\n",
    "report_code = 'simpleA_ex-1'\n",
    "\n",
    "date_now = datetime.datetime.utcnow().replace(tzinfo=pytz.utc)\n",
    "\n",
    "report_measures['code'] = report_code\n",
    "report_measures['date'] = date_now\n",
    "report_values['code'] = report_code\n",
    "report_values['date'] = date_now\n",
    "\n",
    "# reported_n_muted(report_measures=report_measures, report_values=report_values)\n",
    "\n",
    "print(\"Process Finished:\\t {0}\".format(datetime.datetime.utcnow().replace(tzinfo=pytz.utc)))"
   ]
  }
 ],
 "metadata": {
  "kernelspec": {
   "display_name": "Python 3",
   "language": "python",
   "name": "python3"
  },
  "language_info": {
   "codemirror_mode": {
    "name": "ipython",
    "version": 3
   },
   "file_extension": ".py",
   "mimetype": "text/x-python",
   "name": "python",
   "nbconvert_exporter": "python",
   "pygments_lexer": "ipython3",
   "version": "3.8.5"
  }
 },
 "nbformat": 4,
 "nbformat_minor": 4
}
