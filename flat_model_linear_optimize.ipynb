{
 "cells": [
  {
   "cell_type": "code",
   "execution_count": 1,
   "metadata": {},
   "outputs": [],
   "source": [
    "#"
   ]
  },
  {
   "cell_type": "code",
   "execution_count": 1,
   "metadata": {},
   "outputs": [
    {
     "name": "stderr",
     "output_type": "stream",
     "text": [
      "E:\\venv\\financial_news_re\\lib\\site-packages\\pandas_datareader\\compat\\__init__.py:7: FutureWarning: pandas.util.testing is deprecated. Use the functions in the public API at pandas.testing instead.\n",
      "  from pandas.util.testing import assert_frame_equal\n"
     ]
    }
   ],
   "source": [
    "import json\n",
    "import time\n",
    "import numpy\n",
    "import pandas\n",
    "from scipy import stats\n",
    "from data.flat import load\n",
    "from matplotlib import pyplot\n",
    "from matplotlib import lines as mlines"
   ]
  },
  {
   "cell_type": "code",
   "execution_count": 2,
   "metadata": {},
   "outputs": [],
   "source": [
    "from sklearn.metrics import r2_score\n",
    "from sklearn.preprocessing import StandardScaler, MinMaxScaler, MaxAbsScaler, Normalizer\n",
    "from sklearn.linear_model import LinearRegression"
   ]
  },
  {
   "cell_type": "code",
   "execution_count": 5,
   "metadata": {},
   "outputs": [],
   "source": [
    "from m_utils.measures import r2_adj\n",
    "from m_utils.sampling import ts_sampler\n",
    "from m_utils.summarization import get_ols_summary\n",
    "from m_utils.feature_selection import recursive_batch"
   ]
  },
  {
   "cell_type": "code",
   "execution_count": null,
   "metadata": {},
   "outputs": [],
   "source": []
  },
  {
   "cell_type": "code",
   "execution_count": null,
   "metadata": {},
   "outputs": [],
   "source": []
  },
  {
   "cell_type": "code",
   "execution_count": null,
   "metadata": {},
   "outputs": [],
   "source": []
  },
  {
   "cell_type": "code",
   "execution_count": null,
   "metadata": {
    "scrolled": false
   },
   "outputs": [],
   "source": []
  },
  {
   "cell_type": "code",
   "execution_count": null,
   "metadata": {},
   "outputs": [],
   "source": []
  },
  {
   "cell_type": "code",
   "execution_count": null,
   "metadata": {
    "scrolled": false
   },
   "outputs": [],
   "source": []
  },
  {
   "cell_type": "code",
   "execution_count": null,
   "metadata": {
    "scrolled": false
   },
   "outputs": [],
   "source": []
  },
  {
   "cell_type": "code",
   "execution_count": null,
   "metadata": {},
   "outputs": [],
   "source": []
  },
  {
   "cell_type": "code",
   "execution_count": null,
   "metadata": {
    "scrolled": false
   },
   "outputs": [],
   "source": []
  },
  {
   "cell_type": "code",
   "execution_count": null,
   "metadata": {},
   "outputs": [],
   "source": []
  },
  {
   "cell_type": "code",
   "execution_count": null,
   "metadata": {},
   "outputs": [],
   "source": []
  },
  {
   "cell_type": "code",
   "execution_count": null,
   "metadata": {},
   "outputs": [],
   "source": []
  },
  {
   "cell_type": "code",
   "execution_count": null,
   "metadata": {},
   "outputs": [],
   "source": []
  },
  {
   "cell_type": "code",
   "execution_count": null,
   "metadata": {},
   "outputs": [],
   "source": []
  },
  {
   "cell_type": "code",
   "execution_count": null,
   "metadata": {},
   "outputs": [],
   "source": []
  },
  {
   "cell_type": "code",
   "execution_count": 7,
   "metadata": {},
   "outputs": [],
   "source": [
    "def load_data(data, tsi_names, y_names, removes, test_rate, n_folds):\n",
    "\n",
    "    # clarify names\n",
    "\n",
    "    exclude = y_names + removes\n",
    "    x_names = [x for x in data.columns.values if (x not in exclude and 'LAG0' not in x)]\n",
    "    \n",
    "    # sample (without folds)\n",
    "\n",
    "    data_train, data_test = ts_sampler(data, n_folds, test_rate)\n",
    "    X_, Y_ = numpy.array(x_names), numpy.array(y_names)\n",
    "    X_train, Y_train = [x[X_].values for x in data_train], [x[Y_].values for x in data_train]\n",
    "    X_test, Y_test = data_test[X_].values, data_test[Y_].values\n",
    "    \n",
    "    print('Fold shape: {0}'.format(X_train[0].shape))\n",
    "    print('Test shape: {0}'.format(X_test.shape))\n",
    "    \n",
    "    return X_train, Y_train, X_test, Y_test, X_\n",
    "    "
   ]
  },
  {
   "cell_type": "code",
   "execution_count": 8,
   "metadata": {},
   "outputs": [],
   "source": [
    "def censory(model, XX, YY):\n",
    "    if XX.shape[1] == 0:\n",
    "        mask = numpy.array([False])\n",
    "    else:\n",
    "        p_values = get_ols_summary(model, XX, YY, list(range(XX.shape[1])))['Probabilities'].values[1:]\n",
    "        mask = p_values < 0.05\n",
    "    return mask"
   ]
  },
  {
   "cell_type": "code",
   "execution_count": 9,
   "metadata": {},
   "outputs": [],
   "source": [
    "def golags(tsi_names, y_names, removes, test_rate=0.2, n_folds=1):\n",
    "    report = pandas.DataFrame(columns=['R2_adj', 'd1', 'X_adj_'])\n",
    "    X_train, Y_train, X_test, Y_test, X_ = load_data(data, tsi_names, y_names, removes, test_rate, n_folds)\n",
    "    params = {'n_jobs': -1, 'fit_intercept': False}\n",
    "    model = LinearRegression\n",
    "    for j in range(len(X_train)):\n",
    "        \n",
    "        model_adj, X_train_adj, Y_train_adj, X_test_adj, Y_test_adj, X_adj_ = recursive_batch(model, params, X_train[j], Y_train[j], censory, X_test, Y_test, X_)\n",
    "        Y_hat_train_adj = model_adj.predict(X_train_adj)\n",
    "        Y_hat_test_adj = model_adj.predict(X_test_adj)\n",
    "        result = {'R2_adj': r2_adj(Y_train_adj, Y_hat_train_adj, X_train_adj.shape[0], X_train_adj.shape[1]), \n",
    "                  'd1': X_train_adj.shape[1], 'X_adj_': X_adj_}\n",
    "        report = report.append(result, ignore_index=True)\n",
    "\n",
    "    return report"
   ]
  },
  {
   "cell_type": "code",
   "execution_count": 10,
   "metadata": {
    "scrolled": false
   },
   "outputs": [
    {
     "name": "stdout",
     "output_type": "stream",
     "text": [
      "Fold shape: (21483, 501)\n",
      "Test shape: (36978, 501)\n"
     ]
    },
    {
     "name": "stderr",
     "output_type": "stream",
     "text": [
      "E:\\venv\\financial_news_re\\lib\\site-packages\\m_utils\\summarization.py:22: RuntimeWarning: invalid value encountered in sqrt\n",
      "  sd_b = numpy.sqrt(var_b)\n",
      "E:\\venv\\financial_news_re\\lib\\site-packages\\scipy\\stats\\_distn_infrastructure.py:903: RuntimeWarning: invalid value encountered in greater\n",
      "  return (a < x) & (x < b)\n",
      "E:\\venv\\financial_news_re\\lib\\site-packages\\scipy\\stats\\_distn_infrastructure.py:903: RuntimeWarning: invalid value encountered in less\n",
      "  return (a < x) & (x < b)\n",
      "E:\\venv\\financial_news_re\\lib\\site-packages\\scipy\\stats\\_distn_infrastructure.py:1827: RuntimeWarning: invalid value encountered in greater_equal\n",
      "  cond2 = (x >= np.asarray(_b)) & cond0\n",
      "<ipython-input-8-e985140f5040>:6: RuntimeWarning: invalid value encountered in less\n",
      "  mask = p_values < 0.05\n",
      "E:\\venv\\financial_news_re\\lib\\site-packages\\m_utils\\summarization.py:22: RuntimeWarning: invalid value encountered in sqrt\n",
      "  sd_b = numpy.sqrt(var_b)\n",
      "E:\\venv\\financial_news_re\\lib\\site-packages\\scipy\\stats\\_distn_infrastructure.py:903: RuntimeWarning: invalid value encountered in greater\n",
      "  return (a < x) & (x < b)\n",
      "E:\\venv\\financial_news_re\\lib\\site-packages\\scipy\\stats\\_distn_infrastructure.py:903: RuntimeWarning: invalid value encountered in less\n",
      "  return (a < x) & (x < b)\n",
      "E:\\venv\\financial_news_re\\lib\\site-packages\\scipy\\stats\\_distn_infrastructure.py:1827: RuntimeWarning: invalid value encountered in greater_equal\n",
      "  cond2 = (x >= np.asarray(_b)) & cond0\n",
      "<ipython-input-8-e985140f5040>:6: RuntimeWarning: invalid value encountered in less\n",
      "  mask = p_values < 0.05\n",
      "E:\\venv\\financial_news_re\\lib\\site-packages\\m_utils\\summarization.py:22: RuntimeWarning: invalid value encountered in sqrt\n",
      "  sd_b = numpy.sqrt(var_b)\n",
      "E:\\venv\\financial_news_re\\lib\\site-packages\\scipy\\stats\\_distn_infrastructure.py:903: RuntimeWarning: invalid value encountered in greater\n",
      "  return (a < x) & (x < b)\n",
      "E:\\venv\\financial_news_re\\lib\\site-packages\\scipy\\stats\\_distn_infrastructure.py:903: RuntimeWarning: invalid value encountered in less\n",
      "  return (a < x) & (x < b)\n",
      "E:\\venv\\financial_news_re\\lib\\site-packages\\scipy\\stats\\_distn_infrastructure.py:1827: RuntimeWarning: invalid value encountered in greater_equal\n",
      "  cond2 = (x >= np.asarray(_b)) & cond0\n",
      "<ipython-input-8-e985140f5040>:6: RuntimeWarning: invalid value encountered in less\n",
      "  mask = p_values < 0.05\n",
      "E:\\venv\\financial_news_re\\lib\\site-packages\\m_utils\\summarization.py:22: RuntimeWarning: invalid value encountered in sqrt\n",
      "  sd_b = numpy.sqrt(var_b)\n",
      "E:\\venv\\financial_news_re\\lib\\site-packages\\scipy\\stats\\_distn_infrastructure.py:903: RuntimeWarning: invalid value encountered in greater\n",
      "  return (a < x) & (x < b)\n",
      "E:\\venv\\financial_news_re\\lib\\site-packages\\scipy\\stats\\_distn_infrastructure.py:903: RuntimeWarning: invalid value encountered in less\n",
      "  return (a < x) & (x < b)\n",
      "E:\\venv\\financial_news_re\\lib\\site-packages\\scipy\\stats\\_distn_infrastructure.py:1827: RuntimeWarning: invalid value encountered in greater_equal\n",
      "  cond2 = (x >= np.asarray(_b)) & cond0\n",
      "<ipython-input-8-e985140f5040>:6: RuntimeWarning: invalid value encountered in less\n",
      "  mask = p_values < 0.05\n",
      "E:\\venv\\financial_news_re\\lib\\site-packages\\m_utils\\summarization.py:22: RuntimeWarning: invalid value encountered in sqrt\n",
      "  sd_b = numpy.sqrt(var_b)\n",
      "E:\\venv\\financial_news_re\\lib\\site-packages\\scipy\\stats\\_distn_infrastructure.py:903: RuntimeWarning: invalid value encountered in greater\n",
      "  return (a < x) & (x < b)\n",
      "E:\\venv\\financial_news_re\\lib\\site-packages\\scipy\\stats\\_distn_infrastructure.py:903: RuntimeWarning: invalid value encountered in less\n",
      "  return (a < x) & (x < b)\n",
      "E:\\venv\\financial_news_re\\lib\\site-packages\\scipy\\stats\\_distn_infrastructure.py:1827: RuntimeWarning: invalid value encountered in greater_equal\n",
      "  cond2 = (x >= np.asarray(_b)) & cond0\n",
      "<ipython-input-8-e985140f5040>:6: RuntimeWarning: invalid value encountered in less\n",
      "  mask = p_values < 0.05\n",
      "E:\\venv\\financial_news_re\\lib\\site-packages\\m_utils\\summarization.py:22: RuntimeWarning: invalid value encountered in sqrt\n",
      "  sd_b = numpy.sqrt(var_b)\n",
      "E:\\venv\\financial_news_re\\lib\\site-packages\\scipy\\stats\\_distn_infrastructure.py:903: RuntimeWarning: invalid value encountered in greater\n",
      "  return (a < x) & (x < b)\n",
      "E:\\venv\\financial_news_re\\lib\\site-packages\\scipy\\stats\\_distn_infrastructure.py:903: RuntimeWarning: invalid value encountered in less\n",
      "  return (a < x) & (x < b)\n",
      "E:\\venv\\financial_news_re\\lib\\site-packages\\scipy\\stats\\_distn_infrastructure.py:1827: RuntimeWarning: invalid value encountered in greater_equal\n",
      "  cond2 = (x >= np.asarray(_b)) & cond0\n",
      "<ipython-input-8-e985140f5040>:6: RuntimeWarning: invalid value encountered in less\n",
      "  mask = p_values < 0.05\n",
      "E:\\venv\\financial_news_re\\lib\\site-packages\\m_utils\\summarization.py:22: RuntimeWarning: invalid value encountered in sqrt\n",
      "  sd_b = numpy.sqrt(var_b)\n",
      "E:\\venv\\financial_news_re\\lib\\site-packages\\scipy\\stats\\_distn_infrastructure.py:903: RuntimeWarning: invalid value encountered in greater\n",
      "  return (a < x) & (x < b)\n",
      "E:\\venv\\financial_news_re\\lib\\site-packages\\scipy\\stats\\_distn_infrastructure.py:903: RuntimeWarning: invalid value encountered in less\n",
      "  return (a < x) & (x < b)\n",
      "E:\\venv\\financial_news_re\\lib\\site-packages\\scipy\\stats\\_distn_infrastructure.py:1827: RuntimeWarning: invalid value encountered in greater_equal\n",
      "  cond2 = (x >= np.asarray(_b)) & cond0\n",
      "<ipython-input-8-e985140f5040>:6: RuntimeWarning: invalid value encountered in less\n",
      "  mask = p_values < 0.05\n",
      "E:\\venv\\financial_news_re\\lib\\site-packages\\m_utils\\summarization.py:22: RuntimeWarning: invalid value encountered in sqrt\n",
      "  sd_b = numpy.sqrt(var_b)\n",
      "E:\\venv\\financial_news_re\\lib\\site-packages\\scipy\\stats\\_distn_infrastructure.py:903: RuntimeWarning: invalid value encountered in greater\n",
      "  return (a < x) & (x < b)\n",
      "E:\\venv\\financial_news_re\\lib\\site-packages\\scipy\\stats\\_distn_infrastructure.py:903: RuntimeWarning: invalid value encountered in less\n",
      "  return (a < x) & (x < b)\n",
      "E:\\venv\\financial_news_re\\lib\\site-packages\\scipy\\stats\\_distn_infrastructure.py:1827: RuntimeWarning: invalid value encountered in greater_equal\n",
      "  cond2 = (x >= np.asarray(_b)) & cond0\n",
      "<ipython-input-8-e985140f5040>:6: RuntimeWarning: invalid value encountered in less\n",
      "  mask = p_values < 0.05\n"
     ]
    }
   ],
   "source": [
    "d = './dataset.csv'\n",
    "data = pandas.read_csv(d)\n",
    "data = data.rename(columns={'lag': 'news_horizon'})\n",
    "data = data.set_index(['ticker', 'time', 'news_horizon'], drop=False)\n",
    "data = data.sort_index()\n",
    "\n",
    "tsi_names = ['news_time']\n",
    "y_names = ['open_LAG0']\n",
    "removes = ['ticker', 'time', 'id', 'title', 'news_time']\n",
    "\n",
    "X_ = golags(tsi_names, y_names, removes, n_folds=5)"
   ]
  },
  {
   "cell_type": "code",
   "execution_count": 12,
   "metadata": {
    "scrolled": false
   },
   "outputs": [
    {
     "data": {
      "text/html": [
       "<div>\n",
       "<style scoped>\n",
       "    .dataframe tbody tr th:only-of-type {\n",
       "        vertical-align: middle;\n",
       "    }\n",
       "\n",
       "    .dataframe tbody tr th {\n",
       "        vertical-align: top;\n",
       "    }\n",
       "\n",
       "    .dataframe thead th {\n",
       "        text-align: right;\n",
       "    }\n",
       "</style>\n",
       "<table border=\"1\" class=\"dataframe\">\n",
       "  <thead>\n",
       "    <tr style=\"text-align: right;\">\n",
       "      <th></th>\n",
       "      <th>R2_adj</th>\n",
       "      <th>d1</th>\n",
       "      <th>X_adj_</th>\n",
       "    </tr>\n",
       "  </thead>\n",
       "  <tbody>\n",
       "    <tr>\n",
       "      <th>0</th>\n",
       "      <td>0.601345</td>\n",
       "      <td>115</td>\n",
       "      <td>[volume_LAG2, open_LAG3, high_LAG3, volume_LAG...</td>\n",
       "    </tr>\n",
       "    <tr>\n",
       "      <th>1</th>\n",
       "      <td>0.999784</td>\n",
       "      <td>231</td>\n",
       "      <td>[close_LAG1, high_LAG1, open_LAG2, low_LAG2, v...</td>\n",
       "    </tr>\n",
       "    <tr>\n",
       "      <th>2</th>\n",
       "      <td>0.987352</td>\n",
       "      <td>216</td>\n",
       "      <td>[low_LAG1, open_LAG2, low_LAG2, volume_LAG2, o...</td>\n",
       "    </tr>\n",
       "    <tr>\n",
       "      <th>3</th>\n",
       "      <td>0.685673</td>\n",
       "      <td>115</td>\n",
       "      <td>[low_LAG1, volume_LAG1, open_LAG3, close_LAG3,...</td>\n",
       "    </tr>\n",
       "    <tr>\n",
       "      <th>4</th>\n",
       "      <td>0.956138</td>\n",
       "      <td>125</td>\n",
       "      <td>[open_LAG1, close_LAG1, low_LAG1, close_LAG2, ...</td>\n",
       "    </tr>\n",
       "  </tbody>\n",
       "</table>\n",
       "</div>"
      ],
      "text/plain": [
       "     R2_adj   d1                                             X_adj_\n",
       "0  0.601345  115  [volume_LAG2, open_LAG3, high_LAG3, volume_LAG...\n",
       "1  0.999784  231  [close_LAG1, high_LAG1, open_LAG2, low_LAG2, v...\n",
       "2  0.987352  216  [low_LAG1, open_LAG2, low_LAG2, volume_LAG2, o...\n",
       "3  0.685673  115  [low_LAG1, volume_LAG1, open_LAG3, close_LAG3,...\n",
       "4  0.956138  125  [open_LAG1, close_LAG1, low_LAG1, close_LAG2, ..."
      ]
     },
     "execution_count": 12,
     "metadata": {},
     "output_type": "execute_result"
    }
   ],
   "source": [
    "X_"
   ]
  },
  {
   "cell_type": "code",
   "execution_count": null,
   "metadata": {},
   "outputs": [],
   "source": []
  },
  {
   "cell_type": "code",
   "execution_count": null,
   "metadata": {},
   "outputs": [],
   "source": []
  },
  {
   "cell_type": "code",
   "execution_count": null,
   "metadata": {},
   "outputs": [],
   "source": []
  },
  {
   "cell_type": "code",
   "execution_count": null,
   "metadata": {},
   "outputs": [],
   "source": []
  },
  {
   "cell_type": "code",
   "execution_count": null,
   "metadata": {},
   "outputs": [],
   "source": []
  },
  {
   "cell_type": "code",
   "execution_count": null,
   "metadata": {
    "scrolled": false
   },
   "outputs": [],
   "source": []
  },
  {
   "cell_type": "code",
   "execution_count": null,
   "metadata": {},
   "outputs": [],
   "source": []
  },
  {
   "cell_type": "code",
   "execution_count": null,
   "metadata": {},
   "outputs": [],
   "source": []
  },
  {
   "cell_type": "code",
   "execution_count": null,
   "metadata": {},
   "outputs": [],
   "source": []
  }
 ],
 "metadata": {
  "kernelspec": {
   "display_name": "Python 3",
   "language": "python",
   "name": "python3"
  },
  "language_info": {
   "codemirror_mode": {
    "name": "ipython",
    "version": 3
   },
   "file_extension": ".py",
   "mimetype": "text/x-python",
   "name": "python",
   "nbconvert_exporter": "python",
   "pygments_lexer": "ipython3",
   "version": "3.8.3"
  }
 },
 "nbformat": 4,
 "nbformat_minor": 4
}
