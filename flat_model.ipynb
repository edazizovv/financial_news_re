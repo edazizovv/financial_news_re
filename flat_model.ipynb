{
 "cells": [
  {
   "cell_type": "code",
   "execution_count": 1,
   "metadata": {},
   "outputs": [],
   "source": [
    "\"\"\"\n",
    "GENERAL OPTIONS:\n",
    "\n",
    "    regime: SOLO (MSFT)\n",
    "    kinds:  YIELD ITSELF\n",
    "    \n",
    "\"\"\"\n",
    "pass"
   ]
  },
  {
   "cell_type": "code",
   "execution_count": 2,
   "metadata": {},
   "outputs": [
    {
     "name": "stderr",
     "output_type": "stream",
     "text": [
      "E:\\venv\\financial_news_re\\lib\\site-packages\\pandas_datareader\\compat\\__init__.py:7: FutureWarning: pandas.util.testing is deprecated. Use the functions in the public API at pandas.testing instead.\n",
      "  from pandas.util.testing import assert_frame_equal\n"
     ]
    }
   ],
   "source": [
    "import json\n",
    "import time\n",
    "import numpy\n",
    "import pandas\n",
    "from data.flat import load"
   ]
  },
  {
   "cell_type": "code",
   "execution_count": 3,
   "metadata": {},
   "outputs": [],
   "source": [
    "from sklearn.metrics import r2_score\n",
    "from sklearn.preprocessing import StandardScaler, MinMaxScaler, MaxAbsScaler, Normalizer\n",
    "from sklearn.linear_model import LinearRegression, ElasticNet\n",
    "from sklearn.neighbors import KNeighborsRegressor, RadiusNeighborsRegressor\n",
    "from sklearn.svm import LinearSVR, SVR, NuSVR\n",
    "from sklearn.tree import DecisionTreeRegressor\n",
    "from sklearn.ensemble import ExtraTreesRegressor, RandomForestRegressor\n",
    "from lightgbm import LGBMRegressor\n",
    "from xgboost import XGBRegressor"
   ]
  },
  {
   "cell_type": "code",
   "execution_count": 3,
   "metadata": {},
   "outputs": [],
   "source": [
    "k = 'C:/Users/MainUser/Desktop/AlphaVantage.txt'\n",
    "# k = 'C:/Users/MainUser/Desktop/OpenAPI_sandbox.txt'\n",
    "crs = open(k, \"r\")\n",
    "for columns in ( raw.strip().split() for raw in crs ):\n",
    "    api_key = columns[0]"
   ]
  },
  {
   "cell_type": "code",
   "execution_count": 4,
   "metadata": {},
   "outputs": [],
   "source": [
    "target_quotes = ['MSFT']\n",
    "news_horizon = 10\n",
    "effect_horizon = 1\n",
    "max_quotes_lag = 10"
   ]
  },
  {
   "cell_type": "code",
   "execution_count": 5,
   "metadata": {},
   "outputs": [
    {
     "name": "stdout",
     "output_type": "stream",
     "text": [
      "(40,)\n",
      "(39,)\n",
      "(39,)\n",
      "(29,)\n",
      "(9625,)\n",
      "(24,)\n"
     ]
    },
    {
     "data": {
      "text/html": [
       "<div>\n",
       "<style scoped>\n",
       "    .dataframe tbody tr th:only-of-type {\n",
       "        vertical-align: middle;\n",
       "    }\n",
       "\n",
       "    .dataframe tbody tr th {\n",
       "        vertical-align: top;\n",
       "    }\n",
       "\n",
       "    .dataframe thead th {\n",
       "        text-align: right;\n",
       "    }\n",
       "</style>\n",
       "<table border=\"1\" class=\"dataframe\">\n",
       "  <thead>\n",
       "    <tr style=\"text-align: right;\">\n",
       "      <th></th>\n",
       "      <th>index</th>\n",
       "      <th>open_hori1_LAG0</th>\n",
       "      <th>high_hori1_LAG0</th>\n",
       "      <th>low_hori1_LAG0</th>\n",
       "      <th>close_hori1_LAG0</th>\n",
       "      <th>volume_hori1_LAG0</th>\n",
       "      <th>open_hori1_LAG1</th>\n",
       "      <th>high_hori1_LAG1</th>\n",
       "      <th>low_hori1_LAG1</th>\n",
       "      <th>close_hori1_LAG1</th>\n",
       "      <th>...</th>\n",
       "      <th>high_hori1_LAG10</th>\n",
       "      <th>low_hori1_LAG10</th>\n",
       "      <th>close_hori1_LAG10</th>\n",
       "      <th>volume_hori1_LAG10</th>\n",
       "      <th>ticker</th>\n",
       "      <th>id</th>\n",
       "      <th>time</th>\n",
       "      <th>title</th>\n",
       "      <th>lag</th>\n",
       "      <th>target_date</th>\n",
       "    </tr>\n",
       "  </thead>\n",
       "  <tbody>\n",
       "    <tr>\n",
       "      <th>0</th>\n",
       "      <td>2019-09-04</td>\n",
       "      <td>-0.00502549</td>\n",
       "      <td>-0.00355872</td>\n",
       "      <td>-0.00571512</td>\n",
       "      <td>-0.0115527</td>\n",
       "      <td>0.0480404</td>\n",
       "      <td>0.0185931</td>\n",
       "      <td>0.0144315</td>\n",
       "      <td>0.00420044</td>\n",
       "      <td>0.0133784</td>\n",
       "      <td>...</td>\n",
       "      <td>-0.00115349</td>\n",
       "      <td>-0.00258671</td>\n",
       "      <td>0.00837826</td>\n",
       "      <td>0.150151</td>\n",
       "      <td>MSFT</td>\n",
       "      <td>141465</td>\n",
       "      <td>2019-08-29 22:36:30.057</td>\n",
       "      <td>Shares rally, bond yields rise as China fuels ...</td>\n",
       "      <td>6</td>\n",
       "      <td>2019-09-04</td>\n",
       "    </tr>\n",
       "    <tr>\n",
       "      <th>1</th>\n",
       "      <td>2019-09-04</td>\n",
       "      <td>-0.00502549</td>\n",
       "      <td>-0.00355872</td>\n",
       "      <td>-0.00571512</td>\n",
       "      <td>-0.0115527</td>\n",
       "      <td>0.0480404</td>\n",
       "      <td>0.0185931</td>\n",
       "      <td>0.0144315</td>\n",
       "      <td>0.00420044</td>\n",
       "      <td>0.0133784</td>\n",
       "      <td>...</td>\n",
       "      <td>-0.00115349</td>\n",
       "      <td>-0.00258671</td>\n",
       "      <td>0.00837826</td>\n",
       "      <td>0.150151</td>\n",
       "      <td>MSFT</td>\n",
       "      <td>141466</td>\n",
       "      <td>2019-08-29 22:36:30.057</td>\n",
       "      <td>Argentine bond prices fall, country risk soars...</td>\n",
       "      <td>6</td>\n",
       "      <td>2019-09-04</td>\n",
       "    </tr>\n",
       "    <tr>\n",
       "      <th>2</th>\n",
       "      <td>2019-09-04</td>\n",
       "      <td>-0.00502549</td>\n",
       "      <td>-0.00355872</td>\n",
       "      <td>-0.00571512</td>\n",
       "      <td>-0.0115527</td>\n",
       "      <td>0.0480404</td>\n",
       "      <td>0.0185931</td>\n",
       "      <td>0.0144315</td>\n",
       "      <td>0.00420044</td>\n",
       "      <td>0.0133784</td>\n",
       "      <td>...</td>\n",
       "      <td>-0.00115349</td>\n",
       "      <td>-0.00258671</td>\n",
       "      <td>0.00837826</td>\n",
       "      <td>0.150151</td>\n",
       "      <td>MSFT</td>\n",
       "      <td>141467</td>\n",
       "      <td>2019-08-29 22:36:30.057</td>\n",
       "      <td>Huawei under probe by U.S. prosecutors over ne...</td>\n",
       "      <td>6</td>\n",
       "      <td>2019-09-04</td>\n",
       "    </tr>\n",
       "    <tr>\n",
       "      <th>3</th>\n",
       "      <td>2019-09-04</td>\n",
       "      <td>-0.00502549</td>\n",
       "      <td>-0.00355872</td>\n",
       "      <td>-0.00571512</td>\n",
       "      <td>-0.0115527</td>\n",
       "      <td>0.0480404</td>\n",
       "      <td>0.0185931</td>\n",
       "      <td>0.0144315</td>\n",
       "      <td>0.00420044</td>\n",
       "      <td>0.0133784</td>\n",
       "      <td>...</td>\n",
       "      <td>-0.00115349</td>\n",
       "      <td>-0.00258671</td>\n",
       "      <td>0.00837826</td>\n",
       "      <td>0.150151</td>\n",
       "      <td>MSFT</td>\n",
       "      <td>141468</td>\n",
       "      <td>2019-08-29 22:36:30.057</td>\n",
       "      <td>As U.S. Treasuries sizzle, some bond investors...</td>\n",
       "      <td>6</td>\n",
       "      <td>2019-09-04</td>\n",
       "    </tr>\n",
       "    <tr>\n",
       "      <th>4</th>\n",
       "      <td>2019-09-04</td>\n",
       "      <td>-0.00502549</td>\n",
       "      <td>-0.00355872</td>\n",
       "      <td>-0.00571512</td>\n",
       "      <td>-0.0115527</td>\n",
       "      <td>0.0480404</td>\n",
       "      <td>0.0185931</td>\n",
       "      <td>0.0144315</td>\n",
       "      <td>0.00420044</td>\n",
       "      <td>0.0133784</td>\n",
       "      <td>...</td>\n",
       "      <td>-0.00115349</td>\n",
       "      <td>-0.00258671</td>\n",
       "      <td>0.00837826</td>\n",
       "      <td>0.150151</td>\n",
       "      <td>MSFT</td>\n",
       "      <td>141469</td>\n",
       "      <td>2019-08-29 22:36:30.057</td>\n",
       "      <td>China trade comments lift Wall Street as tech,...</td>\n",
       "      <td>6</td>\n",
       "      <td>2019-09-04</td>\n",
       "    </tr>\n",
       "    <tr>\n",
       "      <th>...</th>\n",
       "      <td>...</td>\n",
       "      <td>...</td>\n",
       "      <td>...</td>\n",
       "      <td>...</td>\n",
       "      <td>...</td>\n",
       "      <td>...</td>\n",
       "      <td>...</td>\n",
       "      <td>...</td>\n",
       "      <td>...</td>\n",
       "      <td>...</td>\n",
       "      <td>...</td>\n",
       "      <td>...</td>\n",
       "      <td>...</td>\n",
       "      <td>...</td>\n",
       "      <td>...</td>\n",
       "      <td>...</td>\n",
       "      <td>...</td>\n",
       "      <td>...</td>\n",
       "      <td>...</td>\n",
       "      <td>...</td>\n",
       "      <td>...</td>\n",
       "    </tr>\n",
       "    <tr>\n",
       "      <th>51182</th>\n",
       "      <td>2019-10-14</td>\n",
       "      <td>0.00307824</td>\n",
       "      <td>0.00527479</td>\n",
       "      <td>-0.000143349</td>\n",
       "      <td>0.000931566</td>\n",
       "      <td>0.879911</td>\n",
       "      <td>-0.0116329</td>\n",
       "      <td>-0.00964405</td>\n",
       "      <td>-0.00896057</td>\n",
       "      <td>-0.00415235</td>\n",
       "      <td>...</td>\n",
       "      <td>0.00822469</td>\n",
       "      <td>-0.00823777</td>\n",
       "      <td>-0.0093505</td>\n",
       "      <td>0.220753</td>\n",
       "      <td>MSFT</td>\n",
       "      <td>406845</td>\n",
       "      <td>2019-10-05 06:04:32.200</td>\n",
       "      <td>U.S. unemployment rate hits 3.5%; job growth m...</td>\n",
       "      <td>9</td>\n",
       "      <td>2019-10-14</td>\n",
       "    </tr>\n",
       "    <tr>\n",
       "      <th>51183</th>\n",
       "      <td>2019-10-14</td>\n",
       "      <td>0.00307824</td>\n",
       "      <td>0.00527479</td>\n",
       "      <td>-0.000143349</td>\n",
       "      <td>0.000931566</td>\n",
       "      <td>0.879911</td>\n",
       "      <td>-0.0116329</td>\n",
       "      <td>-0.00964405</td>\n",
       "      <td>-0.00896057</td>\n",
       "      <td>-0.00415235</td>\n",
       "      <td>...</td>\n",
       "      <td>0.00822469</td>\n",
       "      <td>-0.00823777</td>\n",
       "      <td>-0.0093505</td>\n",
       "      <td>0.220753</td>\n",
       "      <td>MSFT</td>\n",
       "      <td>406846</td>\n",
       "      <td>2019-10-05 06:04:32.200</td>\n",
       "      <td>Instant View: U.S. September payrolls lower th...</td>\n",
       "      <td>9</td>\n",
       "      <td>2019-10-14</td>\n",
       "    </tr>\n",
       "    <tr>\n",
       "      <th>51184</th>\n",
       "      <td>2019-10-14</td>\n",
       "      <td>0.00307824</td>\n",
       "      <td>0.00527479</td>\n",
       "      <td>-0.000143349</td>\n",
       "      <td>0.000931566</td>\n",
       "      <td>0.879911</td>\n",
       "      <td>-0.0116329</td>\n",
       "      <td>-0.00964405</td>\n",
       "      <td>-0.00896057</td>\n",
       "      <td>-0.00415235</td>\n",
       "      <td>...</td>\n",
       "      <td>0.00822469</td>\n",
       "      <td>-0.00823777</td>\n",
       "      <td>-0.0093505</td>\n",
       "      <td>0.220753</td>\n",
       "      <td>MSFT</td>\n",
       "      <td>406895</td>\n",
       "      <td>2019-10-05 06:12:19.239</td>\n",
       "      <td>Hong Kong metro stays shut after night of viol...</td>\n",
       "      <td>9</td>\n",
       "      <td>2019-10-14</td>\n",
       "    </tr>\n",
       "    <tr>\n",
       "      <th>51185</th>\n",
       "      <td>2019-10-14</td>\n",
       "      <td>0.00307824</td>\n",
       "      <td>0.00527479</td>\n",
       "      <td>-0.000143349</td>\n",
       "      <td>0.000931566</td>\n",
       "      <td>0.879911</td>\n",
       "      <td>-0.0116329</td>\n",
       "      <td>-0.00964405</td>\n",
       "      <td>-0.00896057</td>\n",
       "      <td>-0.00415235</td>\n",
       "      <td>...</td>\n",
       "      <td>0.00822469</td>\n",
       "      <td>-0.00823777</td>\n",
       "      <td>-0.0093505</td>\n",
       "      <td>0.220753</td>\n",
       "      <td>MSFT</td>\n",
       "      <td>406995</td>\n",
       "      <td>2019-10-05 06:28:54.713</td>\n",
       "      <td>UPDATE 3-PayPal becomes first member to exit F...</td>\n",
       "      <td>9</td>\n",
       "      <td>2019-10-14</td>\n",
       "    </tr>\n",
       "    <tr>\n",
       "      <th>51186</th>\n",
       "      <td>2019-10-14</td>\n",
       "      <td>0.00307824</td>\n",
       "      <td>0.00527479</td>\n",
       "      <td>-0.000143349</td>\n",
       "      <td>0.000931566</td>\n",
       "      <td>0.879911</td>\n",
       "      <td>-0.0116329</td>\n",
       "      <td>-0.00964405</td>\n",
       "      <td>-0.00896057</td>\n",
       "      <td>-0.00415235</td>\n",
       "      <td>...</td>\n",
       "      <td>0.00822469</td>\n",
       "      <td>-0.00823777</td>\n",
       "      <td>-0.0093505</td>\n",
       "      <td>0.220753</td>\n",
       "      <td>MSFT</td>\n",
       "      <td>407015</td>\n",
       "      <td>2019-10-05 06:28:58.138</td>\n",
       "      <td>PayPal becomes first member to exit Facebook's...</td>\n",
       "      <td>9</td>\n",
       "      <td>2019-10-14</td>\n",
       "    </tr>\n",
       "  </tbody>\n",
       "</table>\n",
       "<p>51187 rows × 62 columns</p>\n",
       "</div>"
      ],
      "text/plain": [
       "            index open_hori1_LAG0 high_hori1_LAG0 low_hori1_LAG0  \\\n",
       "0      2019-09-04     -0.00502549     -0.00355872    -0.00571512   \n",
       "1      2019-09-04     -0.00502549     -0.00355872    -0.00571512   \n",
       "2      2019-09-04     -0.00502549     -0.00355872    -0.00571512   \n",
       "3      2019-09-04     -0.00502549     -0.00355872    -0.00571512   \n",
       "4      2019-09-04     -0.00502549     -0.00355872    -0.00571512   \n",
       "...           ...             ...             ...            ...   \n",
       "51182  2019-10-14      0.00307824      0.00527479   -0.000143349   \n",
       "51183  2019-10-14      0.00307824      0.00527479   -0.000143349   \n",
       "51184  2019-10-14      0.00307824      0.00527479   -0.000143349   \n",
       "51185  2019-10-14      0.00307824      0.00527479   -0.000143349   \n",
       "51186  2019-10-14      0.00307824      0.00527479   -0.000143349   \n",
       "\n",
       "      close_hori1_LAG0 volume_hori1_LAG0 open_hori1_LAG1 high_hori1_LAG1  \\\n",
       "0           -0.0115527         0.0480404       0.0185931       0.0144315   \n",
       "1           -0.0115527         0.0480404       0.0185931       0.0144315   \n",
       "2           -0.0115527         0.0480404       0.0185931       0.0144315   \n",
       "3           -0.0115527         0.0480404       0.0185931       0.0144315   \n",
       "4           -0.0115527         0.0480404       0.0185931       0.0144315   \n",
       "...                ...               ...             ...             ...   \n",
       "51182      0.000931566          0.879911      -0.0116329     -0.00964405   \n",
       "51183      0.000931566          0.879911      -0.0116329     -0.00964405   \n",
       "51184      0.000931566          0.879911      -0.0116329     -0.00964405   \n",
       "51185      0.000931566          0.879911      -0.0116329     -0.00964405   \n",
       "51186      0.000931566          0.879911      -0.0116329     -0.00964405   \n",
       "\n",
       "      low_hori1_LAG1 close_hori1_LAG1  ... high_hori1_LAG10 low_hori1_LAG10  \\\n",
       "0         0.00420044        0.0133784  ...      -0.00115349     -0.00258671   \n",
       "1         0.00420044        0.0133784  ...      -0.00115349     -0.00258671   \n",
       "2         0.00420044        0.0133784  ...      -0.00115349     -0.00258671   \n",
       "3         0.00420044        0.0133784  ...      -0.00115349     -0.00258671   \n",
       "4         0.00420044        0.0133784  ...      -0.00115349     -0.00258671   \n",
       "...              ...              ...  ...              ...             ...   \n",
       "51182    -0.00896057      -0.00415235  ...       0.00822469     -0.00823777   \n",
       "51183    -0.00896057      -0.00415235  ...       0.00822469     -0.00823777   \n",
       "51184    -0.00896057      -0.00415235  ...       0.00822469     -0.00823777   \n",
       "51185    -0.00896057      -0.00415235  ...       0.00822469     -0.00823777   \n",
       "51186    -0.00896057      -0.00415235  ...       0.00822469     -0.00823777   \n",
       "\n",
       "      close_hori1_LAG10 volume_hori1_LAG10 ticker      id  \\\n",
       "0            0.00837826           0.150151   MSFT  141465   \n",
       "1            0.00837826           0.150151   MSFT  141466   \n",
       "2            0.00837826           0.150151   MSFT  141467   \n",
       "3            0.00837826           0.150151   MSFT  141468   \n",
       "4            0.00837826           0.150151   MSFT  141469   \n",
       "...                 ...                ...    ...     ...   \n",
       "51182        -0.0093505           0.220753   MSFT  406845   \n",
       "51183        -0.0093505           0.220753   MSFT  406846   \n",
       "51184        -0.0093505           0.220753   MSFT  406895   \n",
       "51185        -0.0093505           0.220753   MSFT  406995   \n",
       "51186        -0.0093505           0.220753   MSFT  407015   \n",
       "\n",
       "                         time  \\\n",
       "0     2019-08-29 22:36:30.057   \n",
       "1     2019-08-29 22:36:30.057   \n",
       "2     2019-08-29 22:36:30.057   \n",
       "3     2019-08-29 22:36:30.057   \n",
       "4     2019-08-29 22:36:30.057   \n",
       "...                       ...   \n",
       "51182 2019-10-05 06:04:32.200   \n",
       "51183 2019-10-05 06:04:32.200   \n",
       "51184 2019-10-05 06:12:19.239   \n",
       "51185 2019-10-05 06:28:54.713   \n",
       "51186 2019-10-05 06:28:58.138   \n",
       "\n",
       "                                                   title lag target_date  \n",
       "0      Shares rally, bond yields rise as China fuels ...   6  2019-09-04  \n",
       "1      Argentine bond prices fall, country risk soars...   6  2019-09-04  \n",
       "2      Huawei under probe by U.S. prosecutors over ne...   6  2019-09-04  \n",
       "3      As U.S. Treasuries sizzle, some bond investors...   6  2019-09-04  \n",
       "4      China trade comments lift Wall Street as tech,...   6  2019-09-04  \n",
       "...                                                  ...  ..         ...  \n",
       "51182  U.S. unemployment rate hits 3.5%; job growth m...   9  2019-10-14  \n",
       "51183  Instant View: U.S. September payrolls lower th...   9  2019-10-14  \n",
       "51184  Hong Kong metro stays shut after night of viol...   9  2019-10-14  \n",
       "51185  UPDATE 3-PayPal becomes first member to exit F...   9  2019-10-14  \n",
       "51186  PayPal becomes first member to exit Facebook's...   9  2019-10-14  \n",
       "\n",
       "[51187 rows x 62 columns]"
      ]
     },
     "execution_count": 5,
     "metadata": {},
     "output_type": "execute_result"
    }
   ],
   "source": [
    "from data.flat import load_old\n",
    "\n",
    "doa = load_old(api_key, target_quotes, news_horizon, effect_horizon, max_quotes_lag, show_shapes=True)\n",
    "doa"
   ]
  },
  {
   "cell_type": "code",
   "execution_count": 5,
   "metadata": {
    "scrolled": false
   },
   "outputs": [
    {
     "ename": "AttributeError",
     "evalue": "'datetime.date' object has no attribute 'tzinfo'",
     "output_type": "error",
     "traceback": [
      "\u001b[1;31m---------------------------------------------------------------------------\u001b[0m",
      "\u001b[1;31mAttributeError\u001b[0m                            Traceback (most recent call last)",
      "\u001b[1;32m<ipython-input-5-4708d9cad0a0>\u001b[0m in \u001b[0;36m<module>\u001b[1;34m\u001b[0m\n\u001b[1;32m----> 1\u001b[1;33m \u001b[0mdata\u001b[0m \u001b[1;33m=\u001b[0m \u001b[1;32mawait\u001b[0m \u001b[0mload\u001b[0m\u001b[1;33m(\u001b[0m\u001b[0mapi_key\u001b[0m\u001b[1;33m,\u001b[0m \u001b[0mtarget_quotes\u001b[0m\u001b[1;33m,\u001b[0m \u001b[0mnews_horizon\u001b[0m\u001b[1;33m,\u001b[0m \u001b[0meffect_horizon\u001b[0m\u001b[1;33m,\u001b[0m \u001b[0mmax_quotes_lag\u001b[0m\u001b[1;33m,\u001b[0m \u001b[0mshow_shapes\u001b[0m\u001b[1;33m=\u001b[0m\u001b[1;32mTrue\u001b[0m\u001b[1;33m)\u001b[0m\u001b[1;33m\u001b[0m\u001b[1;33m\u001b[0m\u001b[0m\n\u001b[0m\u001b[0;32m      2\u001b[0m \u001b[0mdata\u001b[0m\u001b[1;33m\u001b[0m\u001b[1;33m\u001b[0m\u001b[0m\n",
      "\u001b[1;32mC:\\Sygm\\RAMP\\IP-02\\OSTRTA\\financial_news_re\\data\\flat.py\u001b[0m in \u001b[0;36mload\u001b[1;34m(api_key, target_quotes, news_horizon, effect_horizon, max_quotes_lag, show_shapes, news_show)\u001b[0m\n\u001b[0;32m    178\u001b[0m                                             token=api_key))\n\u001b[0;32m    179\u001b[0m     \"\"\"\n\u001b[1;32m--> 180\u001b[1;33m     quotes_data = await call_them_all(tickers=target_quotes,\n\u001b[0m\u001b[0;32m    181\u001b[0m                                       \u001b[0mstart_date\u001b[0m\u001b[1;33m=\u001b[0m\u001b[0mbeginning_date\u001b[0m\u001b[1;33m,\u001b[0m \u001b[0mend_date\u001b[0m\u001b[1;33m=\u001b[0m\u001b[0mending_date\u001b[0m\u001b[1;33m,\u001b[0m\u001b[1;33m\u001b[0m\u001b[1;33m\u001b[0m\u001b[0m\n\u001b[0;32m    182\u001b[0m                                       token=api_key)\n",
      "\u001b[1;32mC:\\Sygm\\RAMP\\IP-02\\OSTRTA\\financial_news_re\\data\\flat.py\u001b[0m in \u001b[0;36mcall_them_all\u001b[1;34m(tickers, start_date, end_date, token)\u001b[0m\n\u001b[0;32m    142\u001b[0m     \u001b[0mresult\u001b[0m \u001b[1;33m=\u001b[0m \u001b[1;33m[\u001b[0m\u001b[1;33m]\u001b[0m\u001b[1;33m\u001b[0m\u001b[1;33m\u001b[0m\u001b[0m\n\u001b[0;32m    143\u001b[0m     \u001b[1;32mfor\u001b[0m \u001b[0mticker\u001b[0m \u001b[1;32min\u001b[0m \u001b[0mtickers\u001b[0m\u001b[1;33m:\u001b[0m\u001b[1;33m\u001b[0m\u001b[1;33m\u001b[0m\u001b[0m\n\u001b[1;32m--> 144\u001b[1;33m         \u001b[0mresy\u001b[0m \u001b[1;33m=\u001b[0m \u001b[1;32mawait\u001b[0m \u001b[0mmin_partitor\u001b[0m\u001b[1;33m(\u001b[0m\u001b[0mticker\u001b[0m\u001b[1;33m=\u001b[0m\u001b[0mticker\u001b[0m\u001b[1;33m,\u001b[0m \u001b[0mstart_date\u001b[0m\u001b[1;33m=\u001b[0m\u001b[0mstart_date\u001b[0m\u001b[1;33m,\u001b[0m \u001b[0mend_date\u001b[0m\u001b[1;33m=\u001b[0m\u001b[0mend_date\u001b[0m\u001b[1;33m,\u001b[0m \u001b[0mtoken\u001b[0m\u001b[1;33m=\u001b[0m\u001b[0mtoken\u001b[0m\u001b[1;33m)\u001b[0m\u001b[1;33m\u001b[0m\u001b[1;33m\u001b[0m\u001b[0m\n\u001b[0m\u001b[0;32m    145\u001b[0m         \u001b[0mresy\u001b[0m\u001b[1;33m[\u001b[0m\u001b[1;34m'ticker'\u001b[0m\u001b[1;33m]\u001b[0m \u001b[1;33m=\u001b[0m \u001b[0mticker\u001b[0m\u001b[1;33m\u001b[0m\u001b[1;33m\u001b[0m\u001b[0m\n\u001b[0;32m    146\u001b[0m         \u001b[0mresult\u001b[0m\u001b[1;33m.\u001b[0m\u001b[0mappend\u001b[0m\u001b[1;33m(\u001b[0m\u001b[0mresy\u001b[0m\u001b[1;33m)\u001b[0m\u001b[1;33m\u001b[0m\u001b[1;33m\u001b[0m\u001b[0m\n",
      "\u001b[1;32mC:\\Sygm\\RAMP\\IP-02\\OSTRTA\\financial_news_re\\data\\flat.py\u001b[0m in \u001b[0;36mmin_partitor\u001b[1;34m(ticker, start_date, end_date, token)\u001b[0m\n\u001b[0;32m    126\u001b[0m             \u001b[1;31m# print(start_part)\u001b[0m\u001b[1;33m\u001b[0m\u001b[1;33m\u001b[0m\u001b[1;33m\u001b[0m\u001b[0m\n\u001b[0;32m    127\u001b[0m             \u001b[1;31m# print(end_part)\u001b[0m\u001b[1;33m\u001b[0m\u001b[1;33m\u001b[0m\u001b[1;33m\u001b[0m\u001b[0m\n\u001b[1;32m--> 128\u001b[1;33m             \u001b[0mresy\u001b[0m \u001b[1;33m=\u001b[0m \u001b[1;32mawait\u001b[0m \u001b[0mshow_my_time_candles\u001b[0m\u001b[1;33m(\u001b[0m\u001b[0mticker\u001b[0m\u001b[1;33m=\u001b[0m\u001b[0mticker\u001b[0m\u001b[1;33m,\u001b[0m \u001b[0mstart_date\u001b[0m\u001b[1;33m=\u001b[0m\u001b[0mstart_part\u001b[0m\u001b[1;33m,\u001b[0m \u001b[0mend_date\u001b[0m\u001b[1;33m=\u001b[0m\u001b[0mend_part\u001b[0m\u001b[1;33m,\u001b[0m \u001b[0mtoken\u001b[0m\u001b[1;33m=\u001b[0m\u001b[0mtoken\u001b[0m\u001b[1;33m)\u001b[0m\u001b[1;33m\u001b[0m\u001b[1;33m\u001b[0m\u001b[0m\n\u001b[0m\u001b[0;32m    129\u001b[0m             \u001b[0mresult\u001b[0m\u001b[1;33m.\u001b[0m\u001b[0mappend\u001b[0m\u001b[1;33m(\u001b[0m\u001b[0mresy\u001b[0m\u001b[1;33m)\u001b[0m\u001b[1;33m\u001b[0m\u001b[1;33m\u001b[0m\u001b[0m\n\u001b[0;32m    130\u001b[0m         \u001b[0mstart_part\u001b[0m \u001b[1;33m=\u001b[0m \u001b[0mstart_date\u001b[0m \u001b[1;33m+\u001b[0m \u001b[0mdatetime\u001b[0m\u001b[1;33m.\u001b[0m\u001b[0mtimedelta\u001b[0m\u001b[1;33m(\u001b[0m\u001b[0mdays\u001b[0m\u001b[1;33m=\u001b[0m\u001b[0mdiff\u001b[0m\u001b[1;33m.\u001b[0m\u001b[0mdays\u001b[0m\u001b[1;33m)\u001b[0m\u001b[1;33m\u001b[0m\u001b[1;33m\u001b[0m\u001b[0m\n",
      "\u001b[1;32mC:\\Sygm\\RAMP\\IP-02\\OSTRTA\\financial_news_re\\data\\flat.py\u001b[0m in \u001b[0;36mshow_my_time_candles\u001b[1;34m(ticker, token, start_date, end_date, interval)\u001b[0m\n\u001b[0;32m     90\u001b[0m             \u001b[0mfigi\u001b[0m \u001b[1;33m=\u001b[0m \u001b[0minstrument\u001b[0m\u001b[1;33m.\u001b[0m\u001b[0mfigi\u001b[0m\u001b[1;33m\u001b[0m\u001b[1;33m\u001b[0m\u001b[0m\n\u001b[0;32m     91\u001b[0m \u001b[1;33m\u001b[0m\u001b[0m\n\u001b[1;32m---> 92\u001b[1;33m             candles = await client.market.candles.get(\n\u001b[0m\u001b[0;32m     93\u001b[0m                 \u001b[1;31m# figi='BBG000B9XRY4',\u001b[0m\u001b[1;33m\u001b[0m\u001b[1;33m\u001b[0m\u001b[1;33m\u001b[0m\u001b[0m\n\u001b[0;32m     94\u001b[0m                 \u001b[1;31m# figi=ticker,\u001b[0m\u001b[1;33m\u001b[0m\u001b[1;33m\u001b[0m\u001b[1;33m\u001b[0m\u001b[0m\n",
      "\u001b[1;32mE:\\venv\\financial_news_re\\lib\\site-packages\\tinkoff\\investments\\api\\market.py\u001b[0m in \u001b[0;36mget\u001b[1;34m(self, figi, dt_from, dt_to, interval)\u001b[0m\n\u001b[0;32m     77\u001b[0m     \u001b[1;32masync\u001b[0m \u001b[1;32mdef\u001b[0m \u001b[0mget\u001b[0m\u001b[1;33m(\u001b[0m\u001b[0mself\u001b[0m\u001b[1;33m,\u001b[0m \u001b[0mfigi\u001b[0m\u001b[1;33m,\u001b[0m \u001b[0mdt_from\u001b[0m\u001b[1;33m,\u001b[0m \u001b[0mdt_to\u001b[0m\u001b[1;33m,\u001b[0m \u001b[0minterval\u001b[0m\u001b[1;33m)\u001b[0m\u001b[1;33m:\u001b[0m\u001b[1;33m\u001b[0m\u001b[1;33m\u001b[0m\u001b[0m\n\u001b[0;32m     78\u001b[0m         \u001b[1;31m# type: (FigiName, datetime, datetime, CandleResolution) -> List[Candle]\u001b[0m\u001b[1;33m\u001b[0m\u001b[1;33m\u001b[0m\u001b[1;33m\u001b[0m\u001b[0m\n\u001b[1;32m---> 79\u001b[1;33m         \u001b[1;32mif\u001b[0m \u001b[1;32mnot\u001b[0m \u001b[0mdt_from\u001b[0m\u001b[1;33m.\u001b[0m\u001b[0mtzinfo\u001b[0m\u001b[1;33m:\u001b[0m\u001b[1;33m\u001b[0m\u001b[1;33m\u001b[0m\u001b[0m\n\u001b[0m\u001b[0;32m     80\u001b[0m             \u001b[0mdt_from\u001b[0m \u001b[1;33m=\u001b[0m \u001b[0mdt_from\u001b[0m\u001b[1;33m.\u001b[0m\u001b[0mreplace\u001b[0m\u001b[1;33m(\u001b[0m\u001b[0mtzinfo\u001b[0m\u001b[1;33m=\u001b[0m\u001b[0mtimezone\u001b[0m\u001b[1;33m.\u001b[0m\u001b[0mutc\u001b[0m\u001b[1;33m)\u001b[0m\u001b[1;33m\u001b[0m\u001b[1;33m\u001b[0m\u001b[0m\n\u001b[0;32m     81\u001b[0m         \u001b[1;32mif\u001b[0m \u001b[1;32mnot\u001b[0m \u001b[0mdt_to\u001b[0m\u001b[1;33m.\u001b[0m\u001b[0mtzinfo\u001b[0m\u001b[1;33m:\u001b[0m\u001b[1;33m\u001b[0m\u001b[1;33m\u001b[0m\u001b[0m\n",
      "\u001b[1;31mAttributeError\u001b[0m: 'datetime.date' object has no attribute 'tzinfo'"
     ]
    }
   ],
   "source": [
    "data = await load(api_key, target_quotes, news_horizon, effect_horizon, max_quotes_lag, show_shapes=True)\n",
    "data"
   ]
  },
  {
   "cell_type": "code",
   "execution_count": null,
   "metadata": {},
   "outputs": [],
   "source": []
  },
  {
   "cell_type": "code",
   "execution_count": 7,
   "metadata": {},
   "outputs": [],
   "source": [
    "\"\"\"\n",
    "model group A-00\n",
    "\n",
    "targets: prc increase D2D for {open price; close price; max price; min price; volume}\n",
    "fields: any transform of the target\n",
    "\"\"\"\n",
    "pass"
   ]
  },
  {
   "cell_type": "code",
   "execution_count": 8,
   "metadata": {},
   "outputs": [],
   "source": [
    "\"\"\"\n",
    "model A-00-1: open price\n",
    "\"\"\"\n",
    "pass"
   ]
  },
  {
   "cell_type": "code",
   "execution_count": 9,
   "metadata": {},
   "outputs": [],
   "source": [
    "# step 1: prepare data"
   ]
  },
  {
   "cell_type": "code",
   "execution_count": 10,
   "metadata": {},
   "outputs": [],
   "source": [
    "# clarify names\n",
    "\n",
    "data = data.rename(columns={'lag': 'news_horizon'})"
   ]
  },
  {
   "cell_type": "code",
   "execution_count": 11,
   "metadata": {},
   "outputs": [],
   "source": [
    "# set model specification\n",
    "\n",
    "tsi_names = ['target_date']\n",
    "y_names = ['open_hori1_LAG0']\n",
    "x_names = [x for x in data.columns.values if 'open' in x and x not in y_names] + ['news_horizon']"
   ]
  },
  {
   "cell_type": "code",
   "execution_count": 12,
   "metadata": {},
   "outputs": [
    {
     "data": {
      "text/plain": [
       "{'StandardScaler': {},\n",
       " 'MinMaxScaler': {'feature_range': [[0, 1], [-1, 1]]},\n",
       " 'MaxAbsScaler': {},\n",
       " 'Normalizer': {'norm': ['l1', 'l2', 'max']}}"
      ]
     },
     "execution_count": 12,
     "metadata": {},
     "output_type": "execute_result"
    }
   ],
   "source": [
    "# transformations\n",
    "# all of them are in the .json file\n",
    "\n",
    "with open('./transformers.json') as f:\n",
    "    transformers = json.load(f)\n",
    "\n",
    "transformers"
   ]
  },
  {
   "cell_type": "code",
   "execution_count": 13,
   "metadata": {},
   "outputs": [],
   "source": [
    "# sampling function\n",
    "\n",
    "def ts_sampler(T, X, Y, n_folds, test_rate, kind):\n",
    "    if kind == 'nofolds':\n",
    "        thresh = int((1 - test_rate) * X.shape[0])\n",
    "        T_train, X_train, Y_train, T_test, X_test, Y_test = T[:thresh, :], X[:thresh, :], Y[:thresh, :], T[thresh:, :], X[thresh:, :], Y[thresh:, :]\n",
    "    if kind == 'folded':\n",
    "        thresh = int((1 - test_rate) * X.shape[0])\n",
    "        T_train, X_train, Y_train, T_test, X_test, Y_test = T[:thresh, :], X[:thresh, :], Y[:thresh, :], T[thresh:, :], X[thresh:, :], Y[thresh:, :]\n",
    "        fold_length = thresh / n_folds\n",
    "        fold_bounds = [(int(j * fold_length), int((j + 1) * fold_length)) for j in range(n_folds)]\n",
    "        T_train = [T_train[fold_bounds[j][0]:T_train[fold_bounds[j][1]], :] for j in range(n_folds)]\n",
    "        X_train = [X_train[fold_bounds[j][0]:X_train[fold_bounds[j][1]], :] for j in range(n_folds)]\n",
    "        Y_train = [Y_train[fold_bounds[j][0]:Y_train[fold_bounds[j][1]], :] for j in range(n_folds)]\n",
    "    return T_train, X_train, Y_train, T_test, X_test, Y_test\n",
    "    "
   ]
  },
  {
   "cell_type": "code",
   "execution_count": 14,
   "metadata": {},
   "outputs": [],
   "source": [
    "\"\"\"\n",
    "# sample (with folds)\n",
    "\n",
    "kind = 'folded'\n",
    "n_folds, test_rate = 3, 0.2\n",
    "T_, X_, Y_ = numpy.array(tsi_names), numpy.array(x_names), numpy.array(y_names)\n",
    "T, X, Y = data[T_].values, data[X_].values, data[Y_].values\n",
    "T_train, X_train, Y_train, T_test, X_test, Y_test = ts_sampler(T, X, Y, n_folds, test_rate, kind)\n",
    "\"\"\"\n",
    "pass"
   ]
  },
  {
   "cell_type": "code",
   "execution_count": 15,
   "metadata": {},
   "outputs": [],
   "source": [
    "# sample (without folds)\n",
    "\n",
    "kind = 'nofolds'\n",
    "test_rate = 0.2\n",
    "T_, X_, Y_ = numpy.array(tsi_names), numpy.array(x_names), numpy.array(y_names)\n",
    "T, X, Y = data[T_].values, data[X_].values, data[Y_].values\n",
    "T_train, X_train, Y_train, T_test, X_test, Y_test = ts_sampler(T, X, Y, None, test_rate, kind)"
   ]
  },
  {
   "cell_type": "code",
   "execution_count": 19,
   "metadata": {},
   "outputs": [
    {
     "data": {
      "text/plain": [
       "(8650, 1)"
      ]
     },
     "execution_count": 19,
     "metadata": {},
     "output_type": "execute_result"
    }
   ],
   "source": [
    "Y_train.shape"
   ]
  },
  {
   "cell_type": "code",
   "execution_count": 29,
   "metadata": {},
   "outputs": [
    {
     "data": {
      "text/plain": [
       "-0.013913    2235\n",
       "-0.013654    2113\n",
       " 0.020800    1936\n",
       "-0.008051    1047\n",
       "-0.005066     619\n",
       " 0.012785     549\n",
       " 0.014356     151\n",
       "dtype: int64"
      ]
     },
     "execution_count": 29,
     "metadata": {},
     "output_type": "execute_result"
    }
   ],
   "source": [
    "pandas.Series(Y_train.ravel()).value_counts()"
   ]
  },
  {
   "cell_type": "code",
   "execution_count": 28,
   "metadata": {},
   "outputs": [
    {
     "data": {
      "text/plain": [
       "<matplotlib.axes._subplots.AxesSubplot at 0x1c140fcf9d0>"
      ]
     },
     "execution_count": 28,
     "metadata": {},
     "output_type": "execute_result"
    },
    {
     "data": {
      "image/png": "[encoded data removed]",
      "text/plain": [
       "<Figure size 432x288 with 1 Axes>"
      ]
     },
     "metadata": {
      "needs_background": "light"
     },
     "output_type": "display_data"
    }
   ],
   "source": [
    "pandas.Series(Y_train.ravel()).hist(bins=20)"
   ]
  },
  {
   "cell_type": "code",
   "execution_count": 34,
   "metadata": {},
   "outputs": [
    {
     "name": "stdout",
     "output_type": "stream",
     "text": [
      "0.14333284006655855\n",
      "0.14372903253270886\n",
      "0.14333284006655855\n",
      "0.14372903253270886\n"
     ]
    }
   ],
   "source": [
    "\"\"\"\n",
    "naive analysis\n",
    "\"\"\"\n",
    "\n",
    "model = LinearRegression()\n",
    "model.fit(X_train, Y_train)\n",
    "Y_hat_train = model.predict(X_train)\n",
    "Y_hat_test = model.predict(X_test)\n",
    "print(r2_adj(Y_train, Y_hat_train, X_train.shape[0], X_train.shape[1]))\n",
    "print(r2_score(Y_train, Y_hat_train))\n",
    "print(r2_adj(Y_train, Y_hat_train, X_train.shape[0], X_train.shape[1]))\n",
    "print(r2_score(Y_train, Y_hat_train))"
   ]
  },
  {
   "cell_type": "code",
   "execution_count": null,
   "metadata": {},
   "outputs": [],
   "source": []
  },
  {
   "cell_type": "code",
   "execution_count": null,
   "metadata": {},
   "outputs": [],
   "source": []
  },
  {
   "cell_type": "code",
   "execution_count": 16,
   "metadata": {},
   "outputs": [],
   "source": [
    "\"\"\"\n",
    "model realisation party A-00-1-SK: sklearn-interfaced models\n",
    "\"\"\"\n",
    "pass"
   ]
  },
  {
   "cell_type": "code",
   "execution_count": 17,
   "metadata": {},
   "outputs": [
    {
     "data": {
      "text/plain": [
       "{'LinearRegression': {'n_jobs': [-1]},\n",
       " 'ElasticNet': {'alpha': [0.01, 0.1, 0.25, 0.5, 0.75, 0.95, 0.99],\n",
       "  'l1_ratio': [0, 0.01, 0.1, 0.25, 0.5, 0.75, 0.95, 0.99],\n",
       "  'max_iter': [100000]},\n",
       " 'KNeighborsRegressor': {'n_neighbors': [2, 3, 5, 8, 10],\n",
       "  'weights': ['uniform', 'distance'],\n",
       "  'p': [1, 2],\n",
       "  'n_jobs': [-1]},\n",
       " 'LinearSVR': {'epsilon': [0.0, 0.1, 0.5, 1.0],\n",
       "  'C': [0.1, 1.0, 10.0, 100.0],\n",
       "  'max_iter': [100000]},\n",
       " 'SVR': {'kernel': ['poly', 'rbf', 'sigmoid'],\n",
       "  'gamma': ['auto', 'scale'],\n",
       "  'C': [0.1, 1.0, 10.0, 100.0],\n",
       "  'epsilon': [0.0, 0.1, 0.5, 1.0],\n",
       "  'shrinking': [True, False],\n",
       "  'max_iter': [100000]},\n",
       " 'NuSVR': {'nu': [0.1, 0.25, 0.5, 0.75, 1.0],\n",
       "  'C': [0.1, 1.0, 10.0, 100.0],\n",
       "  'kernel': ['poly', 'rbf', 'sigmoid'],\n",
       "  'gamma': ['auto', 'scale'],\n",
       "  'shrinking': [True, False],\n",
       "  'max_iter': [100000]},\n",
       " 'DecisionTreeRegressor': {'splitter': ['best', 'random'],\n",
       "  'max_depth': [None, 10, 5, 2],\n",
       "  'max_features': ['auto', 'sqrt', 'log2']},\n",
       " 'ExtraTreesRegressor': {'n_estimators': [10, 50, 100, 200, 500, 1000],\n",
       "  'max_depth': [None, 10, 5, 2],\n",
       "  'max_features': ['auto', 'sqrt', 'log2'],\n",
       "  'n_jobs': [-1]},\n",
       " 'RandomForestRegressor': {'n_estimators': [10, 50, 100, 200, 500, 1000],\n",
       "  'max_depth': [None, 10, 5, 2],\n",
       "  'max_features': ['auto', 'sqrt', 'log2'],\n",
       "  'n_jobs': [-1]},\n",
       " 'LGBMRegressor': {'max_depth': [-1, 10, 5, 2],\n",
       "  'learning_rate': [0.01, 0.1, 0.5],\n",
       "  'n_estimators': [10, 50, 100, 200],\n",
       "  'class_weight': ['balanced', None],\n",
       "  'subsample': [1.0, 0.95, 0.9],\n",
       "  'reg_alpha': [0.0, 0.1, 0.25, 0.5, 0.75, 0.9, 1.0],\n",
       "  'reg_lambda': [0.0, 0.1, 0.25, 0.5, 0.75, 0.9, 1.0],\n",
       "  'n_jobs': [-1]},\n",
       " 'XGBRegressor': {'n_estimators': [10, 50, 100, 200],\n",
       "  'learning_rate': [0.01, 0.1, 0.5],\n",
       "  'n_jobs': [-1],\n",
       "  'subsample': [1.0, 0.95, 0.9],\n",
       "  'reg_alpha': [0.0, 0.1, 0.25, 0.5, 0.75, 0.9, 1.0],\n",
       "  'reg_lambda': [0.0, 0.1, 0.25, 0.5, 0.75, 0.9, 1.0]}}"
      ]
     },
     "execution_count": 17,
     "metadata": {},
     "output_type": "execute_result"
    }
   ],
   "source": [
    "# models\n",
    "# all of them are stored in .json file with possible parameters\n",
    "\n",
    "import json\n",
    "\n",
    "with open('./models_params.json') as f:\n",
    "    models_params = json.load(f)\n",
    "\n",
    "models_params"
   ]
  },
  {
   "cell_type": "code",
   "execution_count": null,
   "metadata": {
    "scrolled": false
   },
   "outputs": [],
   "source": []
  },
  {
   "cell_type": "code",
   "execution_count": 18,
   "metadata": {},
   "outputs": [],
   "source": [
    "def multiply_params(params):\n",
    "    keys = numpy.array(list(params.keys()))\n",
    "    dims = numpy.array([len(params[keys[j]]) for j in numpy.arange(keys.shape[0])])\n",
    "    result = []\n",
    "    for j in numpy.arange(dims.prod()):\n",
    "        curr = j\n",
    "        res = {}\n",
    "        for k in numpy.arange(keys.shape[0]):\n",
    "            ix = curr % dims[k]\n",
    "            res[keys[k]] = params[keys[k]][ix]\n",
    "            curr = curr // dims[k]\n",
    "        result.append(res)\n",
    "    return result\n"
   ]
  },
  {
   "cell_type": "code",
   "execution_count": 19,
   "metadata": {},
   "outputs": [],
   "source": [
    "def r2_adj(y_true, y_pred, dim0, dim1):\n",
    "    r2 = r2_score(y_true, y_pred)\n",
    "    result = 1 - (1 - r2) * (dim0 - 1) / (dim0 - dim1 -1)\n",
    "    return result"
   ]
  },
  {
   "cell_type": "code",
   "execution_count": 20,
   "metadata": {},
   "outputs": [
    {
     "data": {
      "text/plain": [
       "((8650, 4), (2163, 4))"
      ]
     },
     "execution_count": 20,
     "metadata": {},
     "output_type": "execute_result"
    }
   ],
   "source": [
    "X_train.shape, X_test.shape"
   ]
  },
  {
   "cell_type": "code",
   "execution_count": 21,
   "metadata": {},
   "outputs": [
    {
     "data": {
      "text/plain": [
       "7"
      ]
     },
     "execution_count": 21,
     "metadata": {},
     "output_type": "execute_result"
    }
   ],
   "source": [
    "dim_transform = 0\n",
    "for transformer_name, transformer_params in transformers.items():\n",
    "    multiple_transformer_params = multiply_params(transformer_params)\n",
    "    dim_transform += len(multiple_transformer_params)\n",
    "dim_transform"
   ]
  },
  {
   "cell_type": "code",
   "execution_count": 22,
   "metadata": {},
   "outputs": [
    {
     "data": {
      "text/plain": [
       "16569"
      ]
     },
     "execution_count": 22,
     "metadata": {},
     "output_type": "execute_result"
    }
   ],
   "source": [
    "dim_models = 0\n",
    "for model_name, model_args in models_params.items():\n",
    "    multiple_model_args = multiply_params(model_args)\n",
    "    dim_models += len(multiple_model_args)\n",
    "dim_models"
   ]
  },
  {
   "cell_type": "code",
   "execution_count": 27,
   "metadata": {},
   "outputs": [
    {
     "name": "stdout",
     "output_type": "stream",
     "text": [
      "Total N of experiments: 115983\n"
     ]
    }
   ],
   "source": [
    "print('Total N of experiments: {}'.format(dim_transform * dim_models))"
   ]
  },
  {
   "cell_type": "code",
   "execution_count": 30,
   "metadata": {
    "scrolled": false
   },
   "outputs": [
    {
     "name": "stderr",
     "output_type": "stream",
     "text": [
      "E:\\venv\\financial_news_re\\lib\\site-packages\\sklearn\\linear_model\\_coordinate_descent.py:474: ConvergenceWarning: Objective did not converge. You might want to increase the number of iterations. Duality gap: 3712.152749228012, tolerance: 0.8649999999999919\n",
      "  model = cd_fast.enet_coordinate_descent(\n",
      "E:\\venv\\financial_news_re\\lib\\site-packages\\sklearn\\linear_model\\_coordinate_descent.py:474: ConvergenceWarning: Objective did not converge. You might want to increase the number of iterations. Duality gap: 3775.4058218036485, tolerance: 0.8649999999999919\n",
      "  model = cd_fast.enet_coordinate_descent(\n",
      "E:\\venv\\financial_news_re\\lib\\site-packages\\sklearn\\linear_model\\_coordinate_descent.py:474: ConvergenceWarning: Objective did not converge. You might want to increase the number of iterations. Duality gap: 3846.3273516735726, tolerance: 0.8649999999999919\n",
      "  model = cd_fast.enet_coordinate_descent(\n",
      "E:\\venv\\financial_news_re\\lib\\site-packages\\sklearn\\linear_model\\_coordinate_descent.py:474: ConvergenceWarning: Objective did not converge. You might want to increase the number of iterations. Duality gap: 3923.1434937864387, tolerance: 0.8649999999999919\n",
      "  model = cd_fast.enet_coordinate_descent(\n",
      "E:\\venv\\financial_news_re\\lib\\site-packages\\sklearn\\linear_model\\_coordinate_descent.py:474: ConvergenceWarning: Objective did not converge. You might want to increase the number of iterations. Duality gap: 3975.4107982826454, tolerance: 0.8649999999999919\n",
      "  model = cd_fast.enet_coordinate_descent(\n",
      "E:\\venv\\financial_news_re\\lib\\site-packages\\sklearn\\linear_model\\_coordinate_descent.py:474: ConvergenceWarning: Objective did not converge. You might want to increase the number of iterations. Duality gap: 4007.327760865483, tolerance: 0.8649999999999919\n",
      "  model = cd_fast.enet_coordinate_descent(\n",
      "E:\\venv\\financial_news_re\\lib\\site-packages\\sklearn\\linear_model\\_coordinate_descent.py:474: ConvergenceWarning: Objective did not converge. You might want to increase the number of iterations. Duality gap: 4012.9503227719674, tolerance: 0.8649999999999919\n",
      "  model = cd_fast.enet_coordinate_descent(\n"
     ]
    },
    {
     "name": "stdout",
     "output_type": "stream",
     "text": [
      "1000\n",
      "2000\n",
      "3000\n",
      "4000\n",
      "5000\n",
      "6000\n",
      "7000\n",
      "8000\n",
      "9000\n",
      "10000\n",
      "11000\n",
      "12000\n",
      "13000\n",
      "14000\n",
      "15000\n",
      "16000\n"
     ]
    },
    {
     "name": "stderr",
     "output_type": "stream",
     "text": [
      "E:\\venv\\financial_news_re\\lib\\site-packages\\sklearn\\linear_model\\_coordinate_descent.py:474: ConvergenceWarning: Objective did not converge. You might want to increase the number of iterations. Duality gap: 651.7116248617416, tolerance: 0.1504192473961074\n",
      "  model = cd_fast.enet_coordinate_descent(\n",
      "E:\\venv\\financial_news_re\\lib\\site-packages\\sklearn\\linear_model\\_coordinate_descent.py:474: ConvergenceWarning: Objective did not converge. You might want to increase the number of iterations. Duality gap: 685.1385404400504, tolerance: 0.1504192473961074\n",
      "  model = cd_fast.enet_coordinate_descent(\n",
      "E:\\venv\\financial_news_re\\lib\\site-packages\\sklearn\\linear_model\\_coordinate_descent.py:474: ConvergenceWarning: Objective did not converge. You might want to increase the number of iterations. Duality gap: 707.8012436306528, tolerance: 0.1504192473961074\n",
      "  model = cd_fast.enet_coordinate_descent(\n",
      "E:\\venv\\financial_news_re\\lib\\site-packages\\sklearn\\linear_model\\_coordinate_descent.py:474: ConvergenceWarning: Objective did not converge. You might want to increase the number of iterations. Duality gap: 723.6389766402161, tolerance: 0.1504192473961074\n",
      "  model = cd_fast.enet_coordinate_descent(\n",
      "E:\\venv\\financial_news_re\\lib\\site-packages\\sklearn\\linear_model\\_coordinate_descent.py:474: ConvergenceWarning: Objective did not converge. You might want to increase the number of iterations. Duality gap: 731.1137913040255, tolerance: 0.1504192473961074\n",
      "  model = cd_fast.enet_coordinate_descent(\n",
      "E:\\venv\\financial_news_re\\lib\\site-packages\\sklearn\\linear_model\\_coordinate_descent.py:474: ConvergenceWarning: Objective did not converge. You might want to increase the number of iterations. Duality gap: 734.7538556287498, tolerance: 0.1504192473961074\n",
      "  model = cd_fast.enet_coordinate_descent(\n",
      "E:\\venv\\financial_news_re\\lib\\site-packages\\sklearn\\linear_model\\_coordinate_descent.py:474: ConvergenceWarning: Objective did not converge. You might want to increase the number of iterations. Duality gap: 735.3351994746613, tolerance: 0.1504192473961074\n",
      "  model = cd_fast.enet_coordinate_descent(\n"
     ]
    },
    {
     "name": "stdout",
     "output_type": "stream",
     "text": [
      "17000\n",
      "18000\n",
      "19000\n",
      "20000\n",
      "21000\n",
      "22000\n",
      "23000\n",
      "24000\n",
      "25000\n",
      "26000\n",
      "27000\n",
      "28000\n",
      "29000\n",
      "30000\n",
      "31000\n",
      "32000\n",
      "33000\n"
     ]
    },
    {
     "name": "stderr",
     "output_type": "stream",
     "text": [
      "E:\\venv\\financial_news_re\\lib\\site-packages\\sklearn\\linear_model\\_coordinate_descent.py:474: ConvergenceWarning: Objective did not converge. You might want to increase the number of iterations. Duality gap: 2584.6719653710315, tolerance: 0.6016769895844296\n",
      "  model = cd_fast.enet_coordinate_descent(\n",
      "E:\\venv\\financial_news_re\\lib\\site-packages\\sklearn\\linear_model\\_coordinate_descent.py:474: ConvergenceWarning: Objective did not converge. You might want to increase the number of iterations. Duality gap: 2641.0289246472303, tolerance: 0.6016769895844296\n",
      "  model = cd_fast.enet_coordinate_descent(\n",
      "E:\\venv\\financial_news_re\\lib\\site-packages\\sklearn\\linear_model\\_coordinate_descent.py:474: ConvergenceWarning: Objective did not converge. You might want to increase the number of iterations. Duality gap: 2699.8891040834305, tolerance: 0.6016769895844296\n",
      "  model = cd_fast.enet_coordinate_descent(\n",
      "E:\\venv\\financial_news_re\\lib\\site-packages\\sklearn\\linear_model\\_coordinate_descent.py:474: ConvergenceWarning: Objective did not converge. You might want to increase the number of iterations. Duality gap: 2761.8456279183833, tolerance: 0.6016769895844296\n",
      "  model = cd_fast.enet_coordinate_descent(\n",
      "E:\\venv\\financial_news_re\\lib\\site-packages\\sklearn\\linear_model\\_coordinate_descent.py:474: ConvergenceWarning: Objective did not converge. You might want to increase the number of iterations. Duality gap: 2802.338561140495, tolerance: 0.6016769895844296\n",
      "  model = cd_fast.enet_coordinate_descent(\n",
      "E:\\venv\\financial_news_re\\lib\\site-packages\\sklearn\\linear_model\\_coordinate_descent.py:474: ConvergenceWarning: Objective did not converge. You might want to increase the number of iterations. Duality gap: 2826.1079904122935, tolerance: 0.6016769895844296\n",
      "  model = cd_fast.enet_coordinate_descent(\n",
      "E:\\venv\\financial_news_re\\lib\\site-packages\\sklearn\\linear_model\\_coordinate_descent.py:474: ConvergenceWarning: Objective did not converge. You might want to increase the number of iterations. Duality gap: 2830.20883780249, tolerance: 0.6016769895844296\n",
      "  model = cd_fast.enet_coordinate_descent(\n"
     ]
    },
    {
     "name": "stdout",
     "output_type": "stream",
     "text": [
      "34000\n",
      "35000\n",
      "36000\n",
      "37000\n",
      "38000\n",
      "39000\n",
      "40000\n",
      "41000\n",
      "42000\n",
      "43000\n",
      "44000\n",
      "45000\n",
      "46000\n",
      "47000\n",
      "48000\n",
      "49000\n"
     ]
    },
    {
     "name": "stderr",
     "output_type": "stream",
     "text": [
      "E:\\venv\\financial_news_re\\lib\\site-packages\\sklearn\\linear_model\\_coordinate_descent.py:474: ConvergenceWarning: Objective did not converge. You might want to increase the number of iterations. Duality gap: 1815.2413140211772, tolerance: 0.4189439126237486\n",
      "  model = cd_fast.enet_coordinate_descent(\n",
      "E:\\venv\\financial_news_re\\lib\\site-packages\\sklearn\\linear_model\\_coordinate_descent.py:474: ConvergenceWarning: Objective did not converge. You might want to increase the number of iterations. Duality gap: 1896.8607618600258, tolerance: 0.4189439126237486\n",
      "  model = cd_fast.enet_coordinate_descent(\n",
      "E:\\venv\\financial_news_re\\lib\\site-packages\\sklearn\\linear_model\\_coordinate_descent.py:474: ConvergenceWarning: Objective did not converge. You might want to increase the number of iterations. Duality gap: 1942.3936433753472, tolerance: 0.4189439126237486\n",
      "  model = cd_fast.enet_coordinate_descent(\n",
      "E:\\venv\\financial_news_re\\lib\\site-packages\\sklearn\\linear_model\\_coordinate_descent.py:474: ConvergenceWarning: Objective did not converge. You might want to increase the number of iterations. Duality gap: 1977.9735509872871, tolerance: 0.4189439126237486\n",
      "  model = cd_fast.enet_coordinate_descent(\n",
      "E:\\venv\\financial_news_re\\lib\\site-packages\\sklearn\\linear_model\\_coordinate_descent.py:474: ConvergenceWarning: Objective did not converge. You might want to increase the number of iterations. Duality gap: 1998.5890743579482, tolerance: 0.4189439126237486\n",
      "  model = cd_fast.enet_coordinate_descent(\n",
      "E:\\venv\\financial_news_re\\lib\\site-packages\\sklearn\\linear_model\\_coordinate_descent.py:474: ConvergenceWarning: Objective did not converge. You might want to increase the number of iterations. Duality gap: 2010.194318914394, tolerance: 0.4189439126237486\n",
      "  model = cd_fast.enet_coordinate_descent(\n",
      "E:\\venv\\financial_news_re\\lib\\site-packages\\sklearn\\linear_model\\_coordinate_descent.py:474: ConvergenceWarning: Objective did not converge. You might want to increase the number of iterations. Duality gap: 2012.1701705631501, tolerance: 0.4189439126237486\n",
      "  model = cd_fast.enet_coordinate_descent(\n"
     ]
    },
    {
     "name": "stdout",
     "output_type": "stream",
     "text": [
      "50000\n",
      "51000\n",
      "52000\n",
      "53000\n",
      "54000\n",
      "55000\n",
      "56000\n",
      "57000\n",
      "58000\n",
      "59000\n",
      "60000\n",
      "61000\n",
      "62000\n",
      "63000\n",
      "64000\n",
      "65000\n",
      "66000\n"
     ]
    },
    {
     "ename": "AttributeError",
     "evalue": "'Normalizer' object has no attribute 'inverse_transform'",
     "output_type": "error",
     "traceback": [
      "\u001b[1;31m---------------------------------------------------------------------------\u001b[0m",
      "\u001b[1;31mAttributeError\u001b[0m                            Traceback (most recent call last)",
      "\u001b[1;32m<ipython-input-30-16d427a14a7c>\u001b[0m in \u001b[0;36m<module>\u001b[1;34m\u001b[0m\n\u001b[0;32m     26\u001b[0m                 \u001b[0mY_hat_train_transformed\u001b[0m \u001b[1;33m=\u001b[0m \u001b[0mmodel\u001b[0m\u001b[1;33m.\u001b[0m\u001b[0mpredict\u001b[0m\u001b[1;33m(\u001b[0m\u001b[0mX_train_transformed\u001b[0m\u001b[1;33m)\u001b[0m\u001b[1;33m\u001b[0m\u001b[1;33m\u001b[0m\u001b[0m\n\u001b[0;32m     27\u001b[0m                 \u001b[0mY_hat_test_transformed\u001b[0m \u001b[1;33m=\u001b[0m \u001b[0mmodel\u001b[0m\u001b[1;33m.\u001b[0m\u001b[0mpredict\u001b[0m\u001b[1;33m(\u001b[0m\u001b[0mX_test_transformed\u001b[0m\u001b[1;33m)\u001b[0m\u001b[1;33m\u001b[0m\u001b[1;33m\u001b[0m\u001b[0m\n\u001b[1;32m---> 28\u001b[1;33m                 \u001b[0mY_hat_train\u001b[0m \u001b[1;33m=\u001b[0m \u001b[0my_transformer\u001b[0m\u001b[1;33m.\u001b[0m\u001b[0minverse_transform\u001b[0m\u001b[1;33m(\u001b[0m\u001b[0mY_hat_train_transformed\u001b[0m\u001b[1;33m.\u001b[0m\u001b[0mreshape\u001b[0m\u001b[1;33m(\u001b[0m\u001b[1;33m-\u001b[0m\u001b[1;36m1\u001b[0m\u001b[1;33m,\u001b[0m \u001b[1;36m1\u001b[0m\u001b[1;33m)\u001b[0m\u001b[1;33m)\u001b[0m\u001b[1;33m\u001b[0m\u001b[1;33m\u001b[0m\u001b[0m\n\u001b[0m\u001b[0;32m     29\u001b[0m                 \u001b[0mY_hat_test\u001b[0m \u001b[1;33m=\u001b[0m \u001b[0my_transformer\u001b[0m\u001b[1;33m.\u001b[0m\u001b[0minverse_transform\u001b[0m\u001b[1;33m(\u001b[0m\u001b[0mY_hat_test_transformed\u001b[0m\u001b[1;33m.\u001b[0m\u001b[0mreshape\u001b[0m\u001b[1;33m(\u001b[0m\u001b[1;33m-\u001b[0m\u001b[1;36m1\u001b[0m\u001b[1;33m,\u001b[0m \u001b[1;36m1\u001b[0m\u001b[1;33m)\u001b[0m\u001b[1;33m)\u001b[0m\u001b[1;33m\u001b[0m\u001b[1;33m\u001b[0m\u001b[0m\n\u001b[0;32m     30\u001b[0m                 \u001b[0mscore_train\u001b[0m \u001b[1;33m=\u001b[0m \u001b[0mscorer\u001b[0m\u001b[1;33m(\u001b[0m\u001b[0mY_train\u001b[0m\u001b[1;33m,\u001b[0m \u001b[0mY_hat_train\u001b[0m\u001b[1;33m,\u001b[0m \u001b[0mX_train\u001b[0m\u001b[1;33m.\u001b[0m\u001b[0mshape\u001b[0m\u001b[1;33m[\u001b[0m\u001b[1;36m0\u001b[0m\u001b[1;33m]\u001b[0m\u001b[1;33m,\u001b[0m \u001b[0mX_train\u001b[0m\u001b[1;33m.\u001b[0m\u001b[0mshape\u001b[0m\u001b[1;33m[\u001b[0m\u001b[1;36m1\u001b[0m\u001b[1;33m]\u001b[0m\u001b[1;33m)\u001b[0m\u001b[1;33m\u001b[0m\u001b[1;33m\u001b[0m\u001b[0m\n",
      "\u001b[1;31mAttributeError\u001b[0m: 'Normalizer' object has no attribute 'inverse_transform'"
     ]
    }
   ],
   "source": [
    "# well, let's loop over that all (NO GOD PLEASE NOOOOOO)\n",
    "# (kind: nofolds)\n",
    "\n",
    "scorer = r2_adj\n",
    "report = pandas.DataFrame(columns=['XP', 'trans', 'trans_p', 'model', 'model_p', 'sc_train', 'sc_test', 'time'])\n",
    "verbose_step = 1000\n",
    "\n",
    "#_ = 1\n",
    "xp = 1\n",
    "total_time = time.time()\n",
    "for transformer_name, transformer_params in transformers.items():\n",
    "    multiple_transformer_params = multiply_params(transformer_params)\n",
    "    for transformer_param in multiple_transformer_params:\n",
    "        x_transformer, y_transformer = locals()[transformer_name](**transformer_param), locals()[transformer_name](**transformer_param)\n",
    "        x_transformer.fit(X_train)\n",
    "        y_transformer.fit(Y_train)\n",
    "        for model_name, model_args in models_params.items():\n",
    "            multiple_model_args = multiply_params(model_args)\n",
    "            for model_arg in multiple_model_args:\n",
    "                model_time = time.time()\n",
    "                model = locals()[model_name](**model_arg)\n",
    "                X_train_transformed = x_transformer.transform(X_train)\n",
    "                X_test_transformed = x_transformer.transform(X_test)\n",
    "                Y_train_transformed = y_transformer.transform(Y_train)\n",
    "                model.fit(X_train_transformed, Y_train_transformed.ravel())\n",
    "                Y_hat_train_transformed = model.predict(X_train_transformed)\n",
    "                Y_hat_test_transformed = model.predict(X_test_transformed)\n",
    "                Y_hat_train = y_transformer.inverse_transform(Y_hat_train_transformed.reshape(-1, 1))\n",
    "                Y_hat_test = y_transformer.inverse_transform(Y_hat_test_transformed.reshape(-1, 1))\n",
    "                score_train = scorer(Y_train, Y_hat_train, X_train.shape[0], X_train.shape[1])\n",
    "                score_test = scorer(Y_test, Y_hat_test, X_test.shape[0], X_test.shape[1])\n",
    "                model_time = time.time() - model_time\n",
    "                result = {'XP': xp, 'trans': transformer_name, 'trans_p': str(transformer_param), 'model': model_name, 'model_p': str(model_arg), 'sc_train': score_train, 'sc_test': score_test, 'time': model_time}\n",
    "                report = report.append(result, ignore_index=True)\n",
    "                #if _ == 1:\n",
    "                #    print(model_name)\n",
    "                if xp % verbose_step == 0:\n",
    "                    print(xp)\n",
    "                xp += 1\n",
    "        _ += 1\n",
    "total_time = time.time() - total_time\n",
    "print('N experiments: {0:10}; Spent time: {1:.0f}h {2:.0f}m {3:.0f}s'.format(xp, (total_time // 3600), ((total_time // 60) % 60), ((total_time % 3600) % 60)))"
   ]
  },
  {
   "cell_type": "code",
   "execution_count": 32,
   "metadata": {},
   "outputs": [
    {
     "data": {
      "text/html": [
       "<div>\n",
       "<style scoped>\n",
       "    .dataframe tbody tr th:only-of-type {\n",
       "        vertical-align: middle;\n",
       "    }\n",
       "\n",
       "    .dataframe tbody tr th {\n",
       "        vertical-align: top;\n",
       "    }\n",
       "\n",
       "    .dataframe thead th {\n",
       "        text-align: right;\n",
       "    }\n",
       "</style>\n",
       "<table border=\"1\" class=\"dataframe\">\n",
       "  <thead>\n",
       "    <tr style=\"text-align: right;\">\n",
       "      <th></th>\n",
       "      <th>XP</th>\n",
       "      <th>trans</th>\n",
       "      <th>trans_p</th>\n",
       "      <th>model</th>\n",
       "      <th>model_p</th>\n",
       "      <th>sc_train</th>\n",
       "      <th>sc_test</th>\n",
       "      <th>time</th>\n",
       "    </tr>\n",
       "  </thead>\n",
       "  <tbody>\n",
       "    <tr>\n",
       "      <th>17091</th>\n",
       "      <td>17092</td>\n",
       "      <td>MinMaxScaler</td>\n",
       "      <td>{'feature_range': [0, 1]}</td>\n",
       "      <td>NuSVR</td>\n",
       "      <td>{'nu': 0.5, 'C': 100.0, 'kernel': 'sigmoid', '...</td>\n",
       "      <td>-1.268321e+09</td>\n",
       "      <td>-1.843973e+11</td>\n",
       "      <td>10.844788</td>\n",
       "    </tr>\n",
       "    <tr>\n",
       "      <th>16971</th>\n",
       "      <td>16972</td>\n",
       "      <td>MinMaxScaler</td>\n",
       "      <td>{'feature_range': [0, 1]}</td>\n",
       "      <td>NuSVR</td>\n",
       "      <td>{'nu': 0.5, 'C': 100.0, 'kernel': 'sigmoid', '...</td>\n",
       "      <td>-1.268321e+09</td>\n",
       "      <td>-1.843973e+11</td>\n",
       "      <td>8.756748</td>\n",
       "    </tr>\n",
       "    <tr>\n",
       "      <th>16970</th>\n",
       "      <td>16971</td>\n",
       "      <td>MinMaxScaler</td>\n",
       "      <td>{'feature_range': [0, 1]}</td>\n",
       "      <td>NuSVR</td>\n",
       "      <td>{'nu': 0.25, 'C': 100.0, 'kernel': 'sigmoid', ...</td>\n",
       "      <td>-4.785909e+08</td>\n",
       "      <td>-1.275273e+11</td>\n",
       "      <td>4.811206</td>\n",
       "    </tr>\n",
       "    <tr>\n",
       "      <th>17090</th>\n",
       "      <td>17091</td>\n",
       "      <td>MinMaxScaler</td>\n",
       "      <td>{'feature_range': [0, 1]}</td>\n",
       "      <td>NuSVR</td>\n",
       "      <td>{'nu': 0.25, 'C': 100.0, 'kernel': 'sigmoid', ...</td>\n",
       "      <td>-4.785909e+08</td>\n",
       "      <td>-1.275273e+11</td>\n",
       "      <td>5.563957</td>\n",
       "    </tr>\n",
       "    <tr>\n",
       "      <th>17092</th>\n",
       "      <td>17093</td>\n",
       "      <td>MinMaxScaler</td>\n",
       "      <td>{'feature_range': [0, 1]}</td>\n",
       "      <td>NuSVR</td>\n",
       "      <td>{'nu': 0.75, 'C': 100.0, 'kernel': 'sigmoid', ...</td>\n",
       "      <td>-1.608955e+09</td>\n",
       "      <td>-7.757069e+10</td>\n",
       "      <td>16.583703</td>\n",
       "    </tr>\n",
       "    <tr>\n",
       "      <th>...</th>\n",
       "      <td>...</td>\n",
       "      <td>...</td>\n",
       "      <td>...</td>\n",
       "      <td>...</td>\n",
       "      <td>...</td>\n",
       "      <td>...</td>\n",
       "      <td>...</td>\n",
       "      <td>...</td>\n",
       "    </tr>\n",
       "    <tr>\n",
       "      <th>659</th>\n",
       "      <td>660</td>\n",
       "      <td>StandardScaler</td>\n",
       "      <td>{}</td>\n",
       "      <td>RandomForestRegressor</td>\n",
       "      <td>{'n_estimators': 100, 'max_depth': 5, 'max_fea...</td>\n",
       "      <td>1.000000e+00</td>\n",
       "      <td>6.253231e-01</td>\n",
       "      <td>0.330700</td>\n",
       "    </tr>\n",
       "    <tr>\n",
       "      <th>50385</th>\n",
       "      <td>50386</td>\n",
       "      <td>MaxAbsScaler</td>\n",
       "      <td>{}</td>\n",
       "      <td>RandomForestRegressor</td>\n",
       "      <td>{'n_estimators': 200, 'max_depth': 10, 'max_fe...</td>\n",
       "      <td>1.000000e+00</td>\n",
       "      <td>6.358590e-01</td>\n",
       "      <td>0.663600</td>\n",
       "    </tr>\n",
       "    <tr>\n",
       "      <th>17215</th>\n",
       "      <td>17216</td>\n",
       "      <td>MinMaxScaler</td>\n",
       "      <td>{'feature_range': [0, 1]}</td>\n",
       "      <td>RandomForestRegressor</td>\n",
       "      <td>{'n_estimators': 50, 'max_depth': None, 'max_f...</td>\n",
       "      <td>1.000000e+00</td>\n",
       "      <td>7.400960e-01</td>\n",
       "      <td>0.193580</td>\n",
       "    </tr>\n",
       "    <tr>\n",
       "      <th>17227</th>\n",
       "      <td>17228</td>\n",
       "      <td>MinMaxScaler</td>\n",
       "      <td>{'feature_range': [0, 1]}</td>\n",
       "      <td>RandomForestRegressor</td>\n",
       "      <td>{'n_estimators': 50, 'max_depth': 5, 'max_feat...</td>\n",
       "      <td>1.000000e+00</td>\n",
       "      <td>9.208800e-01</td>\n",
       "      <td>0.195083</td>\n",
       "    </tr>\n",
       "    <tr>\n",
       "      <th>17220</th>\n",
       "      <td>17221</td>\n",
       "      <td>MinMaxScaler</td>\n",
       "      <td>{'feature_range': [0, 1]}</td>\n",
       "      <td>RandomForestRegressor</td>\n",
       "      <td>{'n_estimators': 10, 'max_depth': 10, 'max_fea...</td>\n",
       "      <td>1.000000e+00</td>\n",
       "      <td>9.767993e-01</td>\n",
       "      <td>0.082014</td>\n",
       "    </tr>\n",
       "  </tbody>\n",
       "</table>\n",
       "<p>66276 rows × 8 columns</p>\n",
       "</div>"
      ],
      "text/plain": [
       "          XP           trans                    trans_p  \\\n",
       "17091  17092    MinMaxScaler  {'feature_range': [0, 1]}   \n",
       "16971  16972    MinMaxScaler  {'feature_range': [0, 1]}   \n",
       "16970  16971    MinMaxScaler  {'feature_range': [0, 1]}   \n",
       "17090  17091    MinMaxScaler  {'feature_range': [0, 1]}   \n",
       "17092  17093    MinMaxScaler  {'feature_range': [0, 1]}   \n",
       "...      ...             ...                        ...   \n",
       "659      660  StandardScaler                         {}   \n",
       "50385  50386    MaxAbsScaler                         {}   \n",
       "17215  17216    MinMaxScaler  {'feature_range': [0, 1]}   \n",
       "17227  17228    MinMaxScaler  {'feature_range': [0, 1]}   \n",
       "17220  17221    MinMaxScaler  {'feature_range': [0, 1]}   \n",
       "\n",
       "                       model  \\\n",
       "17091                  NuSVR   \n",
       "16971                  NuSVR   \n",
       "16970                  NuSVR   \n",
       "17090                  NuSVR   \n",
       "17092                  NuSVR   \n",
       "...                      ...   \n",
       "659    RandomForestRegressor   \n",
       "50385  RandomForestRegressor   \n",
       "17215  RandomForestRegressor   \n",
       "17227  RandomForestRegressor   \n",
       "17220  RandomForestRegressor   \n",
       "\n",
       "                                                 model_p      sc_train  \\\n",
       "17091  {'nu': 0.5, 'C': 100.0, 'kernel': 'sigmoid', '... -1.268321e+09   \n",
       "16971  {'nu': 0.5, 'C': 100.0, 'kernel': 'sigmoid', '... -1.268321e+09   \n",
       "16970  {'nu': 0.25, 'C': 100.0, 'kernel': 'sigmoid', ... -4.785909e+08   \n",
       "17090  {'nu': 0.25, 'C': 100.0, 'kernel': 'sigmoid', ... -4.785909e+08   \n",
       "17092  {'nu': 0.75, 'C': 100.0, 'kernel': 'sigmoid', ... -1.608955e+09   \n",
       "...                                                  ...           ...   \n",
       "659    {'n_estimators': 100, 'max_depth': 5, 'max_fea...  1.000000e+00   \n",
       "50385  {'n_estimators': 200, 'max_depth': 10, 'max_fe...  1.000000e+00   \n",
       "17215  {'n_estimators': 50, 'max_depth': None, 'max_f...  1.000000e+00   \n",
       "17227  {'n_estimators': 50, 'max_depth': 5, 'max_feat...  1.000000e+00   \n",
       "17220  {'n_estimators': 10, 'max_depth': 10, 'max_fea...  1.000000e+00   \n",
       "\n",
       "            sc_test       time  \n",
       "17091 -1.843973e+11  10.844788  \n",
       "16971 -1.843973e+11   8.756748  \n",
       "16970 -1.275273e+11   4.811206  \n",
       "17090 -1.275273e+11   5.563957  \n",
       "17092 -7.757069e+10  16.583703  \n",
       "...             ...        ...  \n",
       "659    6.253231e-01   0.330700  \n",
       "50385  6.358590e-01   0.663600  \n",
       "17215  7.400960e-01   0.193580  \n",
       "17227  9.208800e-01   0.195083  \n",
       "17220  9.767993e-01   0.082014  \n",
       "\n",
       "[66276 rows x 8 columns]"
      ]
     },
     "execution_count": 32,
     "metadata": {},
     "output_type": "execute_result"
    }
   ],
   "source": [
    "report.sort_values(by=['sc_test'])"
   ]
  },
  {
   "cell_type": "code",
   "execution_count": null,
   "metadata": {},
   "outputs": [],
   "source": [
    "\"\"\"\n",
    "model group A-01\n",
    "\n",
    "targets: prc increase D2D for {open price; close price; max price; min price; volume}\n",
    "fields: any transform of the target + time axis\n",
    "\"\"\"\n",
    "pass"
   ]
  },
  {
   "cell_type": "code",
   "execution_count": null,
   "metadata": {},
   "outputs": [],
   "source": []
  },
  {
   "cell_type": "code",
   "execution_count": 11,
   "metadata": {},
   "outputs": [],
   "source": [
    "\"\"\"\n",
    "model group A-02\n",
    "\n",
    "targets: prc increase D2D for {open price; close price; max price; min price; volume}\n",
    "fields: any transform of the target + other targets\n",
    "\"\"\"\n",
    "pass"
   ]
  },
  {
   "cell_type": "code",
   "execution_count": null,
   "metadata": {},
   "outputs": [],
   "source": []
  },
  {
   "cell_type": "code",
   "execution_count": 12,
   "metadata": {},
   "outputs": [],
   "source": [
    "\"\"\"\n",
    "model group A-03\n",
    "\n",
    "targets: prc increase D2D for {open price; close price; max price; min price; volume}\n",
    "fields: any transform of the target + time axis + other targets\n",
    "\"\"\"\n",
    "pass"
   ]
  },
  {
   "cell_type": "code",
   "execution_count": null,
   "metadata": {},
   "outputs": [],
   "source": []
  },
  {
   "cell_type": "code",
   "execution_count": 13,
   "metadata": {},
   "outputs": [],
   "source": [
    "\"\"\"\n",
    "model group A-04\n",
    "\n",
    "targets: prc increase D2D for {open price; close price; max price; min price; volume}\n",
    "fields: any transform of the target + news\n",
    "\"\"\"\n",
    "pass"
   ]
  },
  {
   "cell_type": "code",
   "execution_count": null,
   "metadata": {},
   "outputs": [],
   "source": []
  },
  {
   "cell_type": "code",
   "execution_count": 14,
   "metadata": {},
   "outputs": [],
   "source": [
    "\"\"\"\n",
    "model group A-05\n",
    "\n",
    "targets: prc increase D2D for {open price; close price; max price; min price; volume}\n",
    "fields: any transform of the target + time axis + news\n",
    "\"\"\"\n",
    "pass"
   ]
  },
  {
   "cell_type": "code",
   "execution_count": null,
   "metadata": {},
   "outputs": [],
   "source": []
  },
  {
   "cell_type": "code",
   "execution_count": 15,
   "metadata": {},
   "outputs": [],
   "source": [
    "\"\"\"\n",
    "model group A-06\n",
    "\n",
    "targets: prc increase D2D for {open price; close price; max price; min price; volume}\n",
    "fields: any transform of the target + time axis + news + other targets\n",
    "\"\"\"\n",
    "pass"
   ]
  },
  {
   "cell_type": "code",
   "execution_count": null,
   "metadata": {},
   "outputs": [],
   "source": []
  },
  {
   "cell_type": "code",
   "execution_count": null,
   "metadata": {},
   "outputs": [],
   "source": []
  }
 ],
 "metadata": {
  "kernelspec": {
   "display_name": "Python 3",
   "language": "python",
   "name": "python3"
  },
  "language_info": {
   "codemirror_mode": {
    "name": "ipython",
    "version": 3
   },
   "file_extension": ".py",
   "mimetype": "text/x-python",
   "name": "python",
   "nbconvert_exporter": "python",
   "pygments_lexer": "ipython3",
   "version": "3.8.2"
  }
 },
 "nbformat": 4,
 "nbformat_minor": 4
}
