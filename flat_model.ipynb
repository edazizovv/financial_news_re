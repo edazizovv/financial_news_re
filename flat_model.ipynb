{
 "cells": [
  {
   "cell_type": "code",
   "execution_count": 1,
   "metadata": {},
   "outputs": [],
   "source": [
    "\"\"\"\n",
    "GENERAL OPTIONS:\n",
    "\n",
    "    regime: SOLO (MSFT)\n",
    "    kinds:  YIELD ITSELF\n",
    "    \n",
    "\"\"\"\n",
    "pass"
   ]
  },
  {
   "cell_type": "code",
   "execution_count": 2,
   "metadata": {},
   "outputs": [
    {
     "name": "stderr",
     "output_type": "stream",
     "text": [
      "E:\\venv\\financial_news_re\\lib\\site-packages\\pandas_datareader\\compat\\__init__.py:7: FutureWarning: pandas.util.testing is deprecated. Use the functions in the public API at pandas.testing instead.\n",
      "  from pandas.util.testing import assert_frame_equal\n"
     ]
    }
   ],
   "source": [
    "import json\n",
    "import time\n",
    "import numpy\n",
    "import pandas\n",
    "from data.flat import load"
   ]
  },
  {
   "cell_type": "code",
   "execution_count": 3,
   "metadata": {},
   "outputs": [],
   "source": [
    "from sklearn.metrics import r2_score\n",
    "from sklearn.preprocessing import StandardScaler, MinMaxScaler, MaxAbsScaler, Normalizer\n",
    "from sklearn.linear_model import LinearRegression, ElasticNet\n",
    "from sklearn.neighbors import KNeighborsRegressor, RadiusNeighborsRegressor\n",
    "from sklearn.svm import LinearSVR, SVR, NuSVR\n",
    "from sklearn.tree import DecisionTreeRegressor\n",
    "from sklearn.ensemble import ExtraTreesRegressor, RandomForestRegressor\n",
    "from lightgbm import LGBMRegressor\n",
    "from xgboost import XGBRegressor"
   ]
  },
  {
   "cell_type": "code",
   "execution_count": 3,
   "metadata": {},
   "outputs": [],
   "source": [
    "# k = 'C:/Users/MainUser/Desktop/AlphaVantage.txt'\n",
    "k = 'C:/Users/MainUser/Desktop/OpenAPI_sandbox.txt'\n",
    "crs = open(k, \"r\")\n",
    "for columns in ( raw.strip().split() for raw in crs ):\n",
    "    api_key = columns[0]"
   ]
  },
  {
   "cell_type": "code",
   "execution_count": 4,
   "metadata": {},
   "outputs": [],
   "source": [
    "target_quotes = ['MSFT']\n",
    "news_horizon = 10\n",
    "effect_horizon = 1\n",
    "max_quotes_lag = 10"
   ]
  },
  {
   "cell_type": "code",
   "execution_count": null,
   "metadata": {},
   "outputs": [],
   "source": []
  },
  {
   "cell_type": "code",
   "execution_count": 5,
   "metadata": {
    "scrolled": false
   },
   "outputs": [
    {
     "name": "stdout",
     "output_type": "stream",
     "text": [
      "0        2019-08-19\n",
      "1        2019-08-19\n",
      "2        2019-08-19\n",
      "3        2019-08-19\n",
      "4        2019-08-19\n",
      "            ...    \n",
      "77163    2019-10-11\n",
      "77164    2019-10-11\n",
      "77165    2019-10-11\n",
      "77166    2019-10-11\n",
      "77167    2019-10-11\n",
      "Name: time, Length: 77168, dtype: object\n",
      "0        2019-08-30\n",
      "1        2019-08-31\n",
      "2        2019-09-01\n",
      "3        2019-09-02\n",
      "4        2019-09-03\n",
      "            ...    \n",
      "86620    2019-10-10\n",
      "86621    2019-10-11\n",
      "86622    2019-10-12\n",
      "86623    2019-10-13\n",
      "86624    2019-10-14\n",
      "Name: target_date, Length: 86625, dtype: object\n"
     ]
    },
    {
     "ename": "MemoryError",
     "evalue": "Unable to allocate 1.82 GiB for an array with shape (2, 122013860) and data type int64",
     "output_type": "error",
     "traceback": [
      "\u001b[1;31m---------------------------------------------------------------------------\u001b[0m",
      "\u001b[1;31mMemoryError\u001b[0m                               Traceback (most recent call last)",
      "\u001b[1;32m<ipython-input-5-4708d9cad0a0>\u001b[0m in \u001b[0;36m<module>\u001b[1;34m\u001b[0m\n\u001b[1;32m----> 1\u001b[1;33m \u001b[0mdata\u001b[0m \u001b[1;33m=\u001b[0m \u001b[1;32mawait\u001b[0m \u001b[0mload\u001b[0m\u001b[1;33m(\u001b[0m\u001b[0mapi_key\u001b[0m\u001b[1;33m,\u001b[0m \u001b[0mtarget_quotes\u001b[0m\u001b[1;33m,\u001b[0m \u001b[0mnews_horizon\u001b[0m\u001b[1;33m,\u001b[0m \u001b[0meffect_horizon\u001b[0m\u001b[1;33m,\u001b[0m \u001b[0mmax_quotes_lag\u001b[0m\u001b[1;33m,\u001b[0m \u001b[0mshow_shapes\u001b[0m\u001b[1;33m=\u001b[0m\u001b[1;32mTrue\u001b[0m\u001b[1;33m)\u001b[0m\u001b[1;33m\u001b[0m\u001b[1;33m\u001b[0m\u001b[0m\n\u001b[0m\u001b[0;32m      2\u001b[0m \u001b[0mdata\u001b[0m\u001b[1;33m\u001b[0m\u001b[1;33m\u001b[0m\u001b[0m\n",
      "\u001b[1;32mC:\\Sygm\\RAMP\\IP-02\\OSTRTA\\financial_news_re\\data\\flat.py\u001b[0m in \u001b[0;36mload\u001b[1;34m(api_key, target_quotes, news_horizon, effect_horizon, max_quotes_lag, show_shapes, news_show)\u001b[0m\n\u001b[0;32m    195\u001b[0m     \u001b[0mprint\u001b[0m\u001b[1;33m(\u001b[0m\u001b[0mnewstitle_frame\u001b[0m\u001b[1;33m[\u001b[0m\u001b[1;34m'target_date'\u001b[0m\u001b[1;33m]\u001b[0m\u001b[1;33m)\u001b[0m\u001b[1;33m\u001b[0m\u001b[1;33m\u001b[0m\u001b[0m\n\u001b[0;32m    196\u001b[0m \u001b[1;33m\u001b[0m\u001b[0m\n\u001b[1;32m--> 197\u001b[1;33m     \u001b[0mthe_data\u001b[0m \u001b[1;33m=\u001b[0m \u001b[0mquotes_data\u001b[0m\u001b[1;33m.\u001b[0m\u001b[0mmerge\u001b[0m\u001b[1;33m(\u001b[0m\u001b[0mright\u001b[0m\u001b[1;33m=\u001b[0m\u001b[0mnewstitle_frame\u001b[0m\u001b[1;33m,\u001b[0m \u001b[0mleft_on\u001b[0m\u001b[1;33m=\u001b[0m\u001b[1;34m'time'\u001b[0m\u001b[1;33m,\u001b[0m \u001b[0mright_on\u001b[0m\u001b[1;33m=\u001b[0m\u001b[1;34m'target_date'\u001b[0m\u001b[1;33m)\u001b[0m\u001b[1;33m\u001b[0m\u001b[1;33m\u001b[0m\u001b[0m\n\u001b[0m\u001b[0;32m    198\u001b[0m     \u001b[0mprint\u001b[0m\u001b[1;33m(\u001b[0m\u001b[0mnewstitle_frame\u001b[0m\u001b[1;33m[\u001b[0m\u001b[1;34m'title'\u001b[0m\u001b[1;33m]\u001b[0m\u001b[1;33m.\u001b[0m\u001b[0mvalue_counts\u001b[0m\u001b[1;33m(\u001b[0m\u001b[1;33m)\u001b[0m\u001b[1;33m.\u001b[0m\u001b[0mshape\u001b[0m\u001b[1;33m)\u001b[0m\u001b[1;33m\u001b[0m\u001b[1;33m\u001b[0m\u001b[0m\n\u001b[0;32m    199\u001b[0m \u001b[1;33m\u001b[0m\u001b[0m\n",
      "\u001b[1;32mE:\\venv\\financial_news_re\\lib\\site-packages\\pandas\\core\\frame.py\u001b[0m in \u001b[0;36mmerge\u001b[1;34m(self, right, how, on, left_on, right_on, left_index, right_index, sort, suffixes, copy, indicator, validate)\u001b[0m\n\u001b[0;32m   7282\u001b[0m         \u001b[1;32mfrom\u001b[0m \u001b[0mpandas\u001b[0m\u001b[1;33m.\u001b[0m\u001b[0mcore\u001b[0m\u001b[1;33m.\u001b[0m\u001b[0mreshape\u001b[0m\u001b[1;33m.\u001b[0m\u001b[0mmerge\u001b[0m \u001b[1;32mimport\u001b[0m \u001b[0mmerge\u001b[0m\u001b[1;33m\u001b[0m\u001b[1;33m\u001b[0m\u001b[0m\n\u001b[0;32m   7283\u001b[0m \u001b[1;33m\u001b[0m\u001b[0m\n\u001b[1;32m-> 7284\u001b[1;33m         return merge(\n\u001b[0m\u001b[0;32m   7285\u001b[0m             \u001b[0mself\u001b[0m\u001b[1;33m,\u001b[0m\u001b[1;33m\u001b[0m\u001b[1;33m\u001b[0m\u001b[0m\n\u001b[0;32m   7286\u001b[0m             \u001b[0mright\u001b[0m\u001b[1;33m,\u001b[0m\u001b[1;33m\u001b[0m\u001b[1;33m\u001b[0m\u001b[0m\n",
      "\u001b[1;32mE:\\venv\\financial_news_re\\lib\\site-packages\\pandas\\core\\reshape\\merge.py\u001b[0m in \u001b[0;36mmerge\u001b[1;34m(left, right, how, on, left_on, right_on, left_index, right_index, sort, suffixes, copy, indicator, validate)\u001b[0m\n\u001b[0;32m     86\u001b[0m         \u001b[0mvalidate\u001b[0m\u001b[1;33m=\u001b[0m\u001b[0mvalidate\u001b[0m\u001b[1;33m,\u001b[0m\u001b[1;33m\u001b[0m\u001b[1;33m\u001b[0m\u001b[0m\n\u001b[0;32m     87\u001b[0m     )\n\u001b[1;32m---> 88\u001b[1;33m     \u001b[1;32mreturn\u001b[0m \u001b[0mop\u001b[0m\u001b[1;33m.\u001b[0m\u001b[0mget_result\u001b[0m\u001b[1;33m(\u001b[0m\u001b[1;33m)\u001b[0m\u001b[1;33m\u001b[0m\u001b[1;33m\u001b[0m\u001b[0m\n\u001b[0m\u001b[0;32m     89\u001b[0m \u001b[1;33m\u001b[0m\u001b[0m\n\u001b[0;32m     90\u001b[0m \u001b[1;33m\u001b[0m\u001b[0m\n",
      "\u001b[1;32mE:\\venv\\financial_news_re\\lib\\site-packages\\pandas\\core\\reshape\\merge.py\u001b[0m in \u001b[0;36mget_result\u001b[1;34m(self)\u001b[0m\n\u001b[0;32m    653\u001b[0m         \u001b[0mrindexers\u001b[0m \u001b[1;33m=\u001b[0m \u001b[1;33m{\u001b[0m\u001b[1;36m1\u001b[0m\u001b[1;33m:\u001b[0m \u001b[0mright_indexer\u001b[0m\u001b[1;33m}\u001b[0m \u001b[1;32mif\u001b[0m \u001b[0mright_indexer\u001b[0m \u001b[1;32mis\u001b[0m \u001b[1;32mnot\u001b[0m \u001b[1;32mNone\u001b[0m \u001b[1;32melse\u001b[0m \u001b[1;33m{\u001b[0m\u001b[1;33m}\u001b[0m\u001b[1;33m\u001b[0m\u001b[1;33m\u001b[0m\u001b[0m\n\u001b[0;32m    654\u001b[0m \u001b[1;33m\u001b[0m\u001b[0m\n\u001b[1;32m--> 655\u001b[1;33m         result_data = concatenate_block_managers(\n\u001b[0m\u001b[0;32m    656\u001b[0m             \u001b[1;33m[\u001b[0m\u001b[1;33m(\u001b[0m\u001b[0mldata\u001b[0m\u001b[1;33m,\u001b[0m \u001b[0mlindexers\u001b[0m\u001b[1;33m)\u001b[0m\u001b[1;33m,\u001b[0m \u001b[1;33m(\u001b[0m\u001b[0mrdata\u001b[0m\u001b[1;33m,\u001b[0m \u001b[0mrindexers\u001b[0m\u001b[1;33m)\u001b[0m\u001b[1;33m]\u001b[0m\u001b[1;33m,\u001b[0m\u001b[1;33m\u001b[0m\u001b[1;33m\u001b[0m\u001b[0m\n\u001b[0;32m    657\u001b[0m             \u001b[0maxes\u001b[0m\u001b[1;33m=\u001b[0m\u001b[1;33m[\u001b[0m\u001b[0mllabels\u001b[0m\u001b[1;33m.\u001b[0m\u001b[0mappend\u001b[0m\u001b[1;33m(\u001b[0m\u001b[0mrlabels\u001b[0m\u001b[1;33m)\u001b[0m\u001b[1;33m,\u001b[0m \u001b[0mjoin_index\u001b[0m\u001b[1;33m]\u001b[0m\u001b[1;33m,\u001b[0m\u001b[1;33m\u001b[0m\u001b[1;33m\u001b[0m\u001b[0m\n",
      "\u001b[1;32mE:\\venv\\financial_news_re\\lib\\site-packages\\pandas\\core\\internals\\managers.py\u001b[0m in \u001b[0;36mconcatenate_block_managers\u001b[1;34m(mgrs_indexers, axes, concat_axis, copy)\u001b[0m\n\u001b[0;32m   2020\u001b[0m         \u001b[1;32melse\u001b[0m\u001b[1;33m:\u001b[0m\u001b[1;33m\u001b[0m\u001b[1;33m\u001b[0m\u001b[0m\n\u001b[0;32m   2021\u001b[0m             b = make_block(\n\u001b[1;32m-> 2022\u001b[1;33m                 \u001b[0mconcatenate_join_units\u001b[0m\u001b[1;33m(\u001b[0m\u001b[0mjoin_units\u001b[0m\u001b[1;33m,\u001b[0m \u001b[0mconcat_axis\u001b[0m\u001b[1;33m,\u001b[0m \u001b[0mcopy\u001b[0m\u001b[1;33m=\u001b[0m\u001b[0mcopy\u001b[0m\u001b[1;33m)\u001b[0m\u001b[1;33m,\u001b[0m\u001b[1;33m\u001b[0m\u001b[1;33m\u001b[0m\u001b[0m\n\u001b[0m\u001b[0;32m   2023\u001b[0m                 \u001b[0mplacement\u001b[0m\u001b[1;33m=\u001b[0m\u001b[0mplacement\u001b[0m\u001b[1;33m,\u001b[0m\u001b[1;33m\u001b[0m\u001b[1;33m\u001b[0m\u001b[0m\n\u001b[0;32m   2024\u001b[0m             )\n",
      "\u001b[1;32mE:\\venv\\financial_news_re\\lib\\site-packages\\pandas\\core\\internals\\concat.py\u001b[0m in \u001b[0;36mconcatenate_join_units\u001b[1;34m(join_units, concat_axis, copy)\u001b[0m\n\u001b[0;32m    244\u001b[0m     \u001b[0mempty_dtype\u001b[0m\u001b[1;33m,\u001b[0m \u001b[0mupcasted_na\u001b[0m \u001b[1;33m=\u001b[0m \u001b[0m_get_empty_dtype_and_na\u001b[0m\u001b[1;33m(\u001b[0m\u001b[0mjoin_units\u001b[0m\u001b[1;33m)\u001b[0m\u001b[1;33m\u001b[0m\u001b[1;33m\u001b[0m\u001b[0m\n\u001b[0;32m    245\u001b[0m \u001b[1;33m\u001b[0m\u001b[0m\n\u001b[1;32m--> 246\u001b[1;33m     to_concat = [\n\u001b[0m\u001b[0;32m    247\u001b[0m         \u001b[0mju\u001b[0m\u001b[1;33m.\u001b[0m\u001b[0mget_reindexed_values\u001b[0m\u001b[1;33m(\u001b[0m\u001b[0mempty_dtype\u001b[0m\u001b[1;33m=\u001b[0m\u001b[0mempty_dtype\u001b[0m\u001b[1;33m,\u001b[0m \u001b[0mupcasted_na\u001b[0m\u001b[1;33m=\u001b[0m\u001b[0mupcasted_na\u001b[0m\u001b[1;33m)\u001b[0m\u001b[1;33m\u001b[0m\u001b[1;33m\u001b[0m\u001b[0m\n\u001b[0;32m    248\u001b[0m         \u001b[1;32mfor\u001b[0m \u001b[0mju\u001b[0m \u001b[1;32min\u001b[0m \u001b[0mjoin_units\u001b[0m\u001b[1;33m\u001b[0m\u001b[1;33m\u001b[0m\u001b[0m\n",
      "\u001b[1;32mE:\\venv\\financial_news_re\\lib\\site-packages\\pandas\\core\\internals\\concat.py\u001b[0m in \u001b[0;36m<listcomp>\u001b[1;34m(.0)\u001b[0m\n\u001b[0;32m    245\u001b[0m \u001b[1;33m\u001b[0m\u001b[0m\n\u001b[0;32m    246\u001b[0m     to_concat = [\n\u001b[1;32m--> 247\u001b[1;33m         \u001b[0mju\u001b[0m\u001b[1;33m.\u001b[0m\u001b[0mget_reindexed_values\u001b[0m\u001b[1;33m(\u001b[0m\u001b[0mempty_dtype\u001b[0m\u001b[1;33m=\u001b[0m\u001b[0mempty_dtype\u001b[0m\u001b[1;33m,\u001b[0m \u001b[0mupcasted_na\u001b[0m\u001b[1;33m=\u001b[0m\u001b[0mupcasted_na\u001b[0m\u001b[1;33m)\u001b[0m\u001b[1;33m\u001b[0m\u001b[1;33m\u001b[0m\u001b[0m\n\u001b[0m\u001b[0;32m    248\u001b[0m         \u001b[1;32mfor\u001b[0m \u001b[0mju\u001b[0m \u001b[1;32min\u001b[0m \u001b[0mjoin_units\u001b[0m\u001b[1;33m\u001b[0m\u001b[1;33m\u001b[0m\u001b[0m\n\u001b[0;32m    249\u001b[0m     ]\n",
      "\u001b[1;32mE:\\venv\\financial_news_re\\lib\\site-packages\\pandas\\core\\internals\\concat.py\u001b[0m in \u001b[0;36mget_reindexed_values\u001b[1;34m(self, empty_dtype, upcasted_na)\u001b[0m\n\u001b[0;32m    229\u001b[0m         \u001b[1;32melse\u001b[0m\u001b[1;33m:\u001b[0m\u001b[1;33m\u001b[0m\u001b[1;33m\u001b[0m\u001b[0m\n\u001b[0;32m    230\u001b[0m             \u001b[1;32mfor\u001b[0m \u001b[0max\u001b[0m\u001b[1;33m,\u001b[0m \u001b[0mindexer\u001b[0m \u001b[1;32min\u001b[0m \u001b[0mself\u001b[0m\u001b[1;33m.\u001b[0m\u001b[0mindexers\u001b[0m\u001b[1;33m.\u001b[0m\u001b[0mitems\u001b[0m\u001b[1;33m(\u001b[0m\u001b[1;33m)\u001b[0m\u001b[1;33m:\u001b[0m\u001b[1;33m\u001b[0m\u001b[1;33m\u001b[0m\u001b[0m\n\u001b[1;32m--> 231\u001b[1;33m                 \u001b[0mvalues\u001b[0m \u001b[1;33m=\u001b[0m \u001b[0malgos\u001b[0m\u001b[1;33m.\u001b[0m\u001b[0mtake_nd\u001b[0m\u001b[1;33m(\u001b[0m\u001b[0mvalues\u001b[0m\u001b[1;33m,\u001b[0m \u001b[0mindexer\u001b[0m\u001b[1;33m,\u001b[0m \u001b[0maxis\u001b[0m\u001b[1;33m=\u001b[0m\u001b[0max\u001b[0m\u001b[1;33m,\u001b[0m \u001b[0mfill_value\u001b[0m\u001b[1;33m=\u001b[0m\u001b[0mfill_value\u001b[0m\u001b[1;33m)\u001b[0m\u001b[1;33m\u001b[0m\u001b[1;33m\u001b[0m\u001b[0m\n\u001b[0m\u001b[0;32m    232\u001b[0m \u001b[1;33m\u001b[0m\u001b[0m\n\u001b[0;32m    233\u001b[0m         \u001b[1;32mreturn\u001b[0m \u001b[0mvalues\u001b[0m\u001b[1;33m\u001b[0m\u001b[1;33m\u001b[0m\u001b[0m\n",
      "\u001b[1;32mE:\\venv\\financial_news_re\\lib\\site-packages\\pandas\\core\\algorithms.py\u001b[0m in \u001b[0;36mtake_nd\u001b[1;34m(arr, indexer, axis, out, fill_value, allow_fill)\u001b[0m\n\u001b[0;32m   1655\u001b[0m             \u001b[0mout\u001b[0m \u001b[1;33m=\u001b[0m \u001b[0mnp\u001b[0m\u001b[1;33m.\u001b[0m\u001b[0mempty\u001b[0m\u001b[1;33m(\u001b[0m\u001b[0mout_shape\u001b[0m\u001b[1;33m,\u001b[0m \u001b[0mdtype\u001b[0m\u001b[1;33m=\u001b[0m\u001b[0mdtype\u001b[0m\u001b[1;33m,\u001b[0m \u001b[0morder\u001b[0m\u001b[1;33m=\u001b[0m\u001b[1;34m\"F\"\u001b[0m\u001b[1;33m)\u001b[0m\u001b[1;33m\u001b[0m\u001b[1;33m\u001b[0m\u001b[0m\n\u001b[0;32m   1656\u001b[0m         \u001b[1;32melse\u001b[0m\u001b[1;33m:\u001b[0m\u001b[1;33m\u001b[0m\u001b[1;33m\u001b[0m\u001b[0m\n\u001b[1;32m-> 1657\u001b[1;33m             \u001b[0mout\u001b[0m \u001b[1;33m=\u001b[0m \u001b[0mnp\u001b[0m\u001b[1;33m.\u001b[0m\u001b[0mempty\u001b[0m\u001b[1;33m(\u001b[0m\u001b[0mout_shape\u001b[0m\u001b[1;33m,\u001b[0m \u001b[0mdtype\u001b[0m\u001b[1;33m=\u001b[0m\u001b[0mdtype\u001b[0m\u001b[1;33m)\u001b[0m\u001b[1;33m\u001b[0m\u001b[1;33m\u001b[0m\u001b[0m\n\u001b[0m\u001b[0;32m   1658\u001b[0m \u001b[1;33m\u001b[0m\u001b[0m\n\u001b[0;32m   1659\u001b[0m     func = _get_take_nd_function(\n",
      "\u001b[1;31mMemoryError\u001b[0m: Unable to allocate 1.82 GiB for an array with shape (2, 122013860) and data type int64"
     ]
    }
   ],
   "source": [
    "data = await load(api_key, target_quotes, news_horizon, effect_horizon, max_quotes_lag, show_shapes=True)\n",
    "data"
   ]
  },
  {
   "cell_type": "code",
   "execution_count": null,
   "metadata": {},
   "outputs": [],
   "source": []
  },
  {
   "cell_type": "code",
   "execution_count": 7,
   "metadata": {},
   "outputs": [],
   "source": [
    "\"\"\"\n",
    "model group A-00\n",
    "\n",
    "targets: prc increase D2D for {open price; close price; max price; min price; volume}\n",
    "fields: any transform of the target\n",
    "\"\"\"\n",
    "pass"
   ]
  },
  {
   "cell_type": "code",
   "execution_count": 8,
   "metadata": {},
   "outputs": [],
   "source": [
    "\"\"\"\n",
    "model A-00-1: open price\n",
    "\"\"\"\n",
    "pass"
   ]
  },
  {
   "cell_type": "code",
   "execution_count": 9,
   "metadata": {},
   "outputs": [],
   "source": [
    "# step 1: prepare data"
   ]
  },
  {
   "cell_type": "code",
   "execution_count": 10,
   "metadata": {},
   "outputs": [],
   "source": [
    "# clarify names\n",
    "\n",
    "data = data.rename(columns={'lag': 'news_horizon'})"
   ]
  },
  {
   "cell_type": "code",
   "execution_count": 13,
   "metadata": {},
   "outputs": [],
   "source": [
    "# set model specification\n",
    "\n",
    "tsi_names = ['target_date']\n",
    "y_names = ['open_HOZ0_PCT1']\n",
    "x_names = [x for x in data.columns.values if 'open' in x and x not in y_names] + ['news_horizon']"
   ]
  },
  {
   "cell_type": "code",
   "execution_count": 14,
   "metadata": {},
   "outputs": [
    {
     "data": {
      "text/html": [
       "<div>\n",
       "<style scoped>\n",
       "    .dataframe tbody tr th:only-of-type {\n",
       "        vertical-align: middle;\n",
       "    }\n",
       "\n",
       "    .dataframe tbody tr th {\n",
       "        vertical-align: top;\n",
       "    }\n",
       "\n",
       "    .dataframe thead th {\n",
       "        text-align: right;\n",
       "    }\n",
       "</style>\n",
       "<table border=\"1\" class=\"dataframe\">\n",
       "  <thead>\n",
       "    <tr style=\"text-align: right;\">\n",
       "      <th></th>\n",
       "      <th>open_HOZ1_PCT1</th>\n",
       "      <th>news_horizon</th>\n",
       "    </tr>\n",
       "  </thead>\n",
       "  <tbody>\n",
       "    <tr>\n",
       "      <th>0</th>\n",
       "      <td>0.000798</td>\n",
       "      <td>1</td>\n",
       "    </tr>\n",
       "    <tr>\n",
       "      <th>1</th>\n",
       "      <td>0.000798</td>\n",
       "      <td>1</td>\n",
       "    </tr>\n",
       "    <tr>\n",
       "      <th>2</th>\n",
       "      <td>0.000798</td>\n",
       "      <td>1</td>\n",
       "    </tr>\n",
       "    <tr>\n",
       "      <th>3</th>\n",
       "      <td>0.000798</td>\n",
       "      <td>1</td>\n",
       "    </tr>\n",
       "    <tr>\n",
       "      <th>4</th>\n",
       "      <td>0.000798</td>\n",
       "      <td>1</td>\n",
       "    </tr>\n",
       "    <tr>\n",
       "      <th>...</th>\n",
       "      <td>...</td>\n",
       "      <td>...</td>\n",
       "    </tr>\n",
       "    <tr>\n",
       "      <th>30837427</th>\n",
       "      <td>-0.000714</td>\n",
       "      <td>6</td>\n",
       "    </tr>\n",
       "    <tr>\n",
       "      <th>30837428</th>\n",
       "      <td>-0.000714</td>\n",
       "      <td>6</td>\n",
       "    </tr>\n",
       "    <tr>\n",
       "      <th>30837429</th>\n",
       "      <td>-0.000714</td>\n",
       "      <td>6</td>\n",
       "    </tr>\n",
       "    <tr>\n",
       "      <th>30837430</th>\n",
       "      <td>-0.000714</td>\n",
       "      <td>6</td>\n",
       "    </tr>\n",
       "    <tr>\n",
       "      <th>30837431</th>\n",
       "      <td>-0.000714</td>\n",
       "      <td>6</td>\n",
       "    </tr>\n",
       "  </tbody>\n",
       "</table>\n",
       "<p>30837432 rows × 2 columns</p>\n",
       "</div>"
      ],
      "text/plain": [
       "          open_HOZ1_PCT1  news_horizon\n",
       "0               0.000798             1\n",
       "1               0.000798             1\n",
       "2               0.000798             1\n",
       "3               0.000798             1\n",
       "4               0.000798             1\n",
       "...                  ...           ...\n",
       "30837427       -0.000714             6\n",
       "30837428       -0.000714             6\n",
       "30837429       -0.000714             6\n",
       "30837430       -0.000714             6\n",
       "30837431       -0.000714             6\n",
       "\n",
       "[30837432 rows x 2 columns]"
      ]
     },
     "execution_count": 14,
     "metadata": {},
     "output_type": "execute_result"
    }
   ],
   "source": [
    "data[x_names]"
   ]
  },
  {
   "cell_type": "code",
   "execution_count": 15,
   "metadata": {},
   "outputs": [
    {
     "data": {
      "text/plain": [
       "{'StandardScaler': {},\n",
       " 'MinMaxScaler': {'feature_range': [[0, 1], [-1, 1]]},\n",
       " 'MaxAbsScaler': {},\n",
       " 'Normalizer': {'norm': ['l1', 'l2', 'max']}}"
      ]
     },
     "execution_count": 15,
     "metadata": {},
     "output_type": "execute_result"
    }
   ],
   "source": [
    "# transformations\n",
    "# all of them are in the .json file\n",
    "\n",
    "with open('./transformers.json') as f:\n",
    "    transformers = json.load(f)\n",
    "\n",
    "transformers"
   ]
  },
  {
   "cell_type": "code",
   "execution_count": 16,
   "metadata": {},
   "outputs": [],
   "source": [
    "# sampling function\n",
    "\n",
    "def ts_sampler(T, X, Y, n_folds, test_rate, kind):\n",
    "    if kind == 'nofolds':\n",
    "        thresh = int((1 - test_rate) * X.shape[0])\n",
    "        T_train, X_train, Y_train, T_test, X_test, Y_test = T[:thresh, :], X[:thresh, :], Y[:thresh, :], T[thresh:, :], X[thresh:, :], Y[thresh:, :]\n",
    "    if kind == 'folded':\n",
    "        thresh = int((1 - test_rate) * X.shape[0])\n",
    "        T_train, X_train, Y_train, T_test, X_test, Y_test = T[:thresh, :], X[:thresh, :], Y[:thresh, :], T[thresh:, :], X[thresh:, :], Y[thresh:, :]\n",
    "        fold_length = thresh / n_folds\n",
    "        fold_bounds = [(int(j * fold_length), int((j + 1) * fold_length)) for j in range(n_folds)]\n",
    "        T_train = [T_train[fold_bounds[j][0]:T_train[fold_bounds[j][1]], :] for j in range(n_folds)]\n",
    "        X_train = [X_train[fold_bounds[j][0]:X_train[fold_bounds[j][1]], :] for j in range(n_folds)]\n",
    "        Y_train = [Y_train[fold_bounds[j][0]:Y_train[fold_bounds[j][1]], :] for j in range(n_folds)]\n",
    "    return T_train, X_train, Y_train, T_test, X_test, Y_test\n",
    "    "
   ]
  },
  {
   "cell_type": "code",
   "execution_count": 17,
   "metadata": {},
   "outputs": [],
   "source": [
    "\"\"\"\n",
    "# sample (with folds)\n",
    "\n",
    "kind = 'folded'\n",
    "n_folds, test_rate = 3, 0.2\n",
    "T_, X_, Y_ = numpy.array(tsi_names), numpy.array(x_names), numpy.array(y_names)\n",
    "T, X, Y = data[T_].values, data[X_].values, data[Y_].values\n",
    "T_train, X_train, Y_train, T_test, X_test, Y_test = ts_sampler(T, X, Y, n_folds, test_rate, kind)\n",
    "\"\"\"\n",
    "pass"
   ]
  },
  {
   "cell_type": "code",
   "execution_count": 18,
   "metadata": {},
   "outputs": [],
   "source": [
    "# sample (without folds)\n",
    "\n",
    "kind = 'nofolds'\n",
    "test_rate = 0.2\n",
    "T_, X_, Y_ = numpy.array(tsi_names), numpy.array(x_names), numpy.array(y_names)\n",
    "T, X, Y = data[T_].values, data[X_].values, data[Y_].values\n",
    "T_train, X_train, Y_train, T_test, X_test, Y_test = ts_sampler(T, X, Y, None, test_rate, kind)"
   ]
  },
  {
   "cell_type": "code",
   "execution_count": 19,
   "metadata": {},
   "outputs": [
    {
     "data": {
      "text/plain": [
       "(24669945, 1)"
      ]
     },
     "execution_count": 19,
     "metadata": {},
     "output_type": "execute_result"
    }
   ],
   "source": [
    "Y_train.shape"
   ]
  },
  {
   "cell_type": "code",
   "execution_count": 20,
   "metadata": {},
   "outputs": [
    {
     "data": {
      "text/plain": [
       " 0.000000    3278891\n",
       " 0.000072      25320\n",
       "-0.000146      24726\n",
       "-0.000287      23946\n",
       "-0.000287      22416\n",
       "              ...   \n",
       "-0.000363        845\n",
       "-0.000735        845\n",
       " 0.000732        845\n",
       "-0.000922        845\n",
       "-0.000425        845\n",
       "Length: 5895, dtype: int64"
      ]
     },
     "execution_count": 20,
     "metadata": {},
     "output_type": "execute_result"
    }
   ],
   "source": [
    "pandas.Series(Y_train.ravel()).value_counts()"
   ]
  },
  {
   "cell_type": "code",
   "execution_count": 21,
   "metadata": {},
   "outputs": [
    {
     "ename": "ImportError",
     "evalue": "matplotlib is required for plotting when the default backend \"matplotlib\" is selected.",
     "output_type": "error",
     "traceback": [
      "\u001b[1;31m---------------------------------------------------------------------------\u001b[0m",
      "\u001b[1;31mImportError\u001b[0m                               Traceback (most recent call last)",
      "\u001b[1;32m<ipython-input-21-15f8c68738f8>\u001b[0m in \u001b[0;36m<module>\u001b[1;34m\u001b[0m\n\u001b[1;32m----> 1\u001b[1;33m \u001b[0mpandas\u001b[0m\u001b[1;33m.\u001b[0m\u001b[0mSeries\u001b[0m\u001b[1;33m(\u001b[0m\u001b[0mY_train\u001b[0m\u001b[1;33m.\u001b[0m\u001b[0mravel\u001b[0m\u001b[1;33m(\u001b[0m\u001b[1;33m)\u001b[0m\u001b[1;33m)\u001b[0m\u001b[1;33m.\u001b[0m\u001b[0mhist\u001b[0m\u001b[1;33m(\u001b[0m\u001b[0mbins\u001b[0m\u001b[1;33m=\u001b[0m\u001b[1;36m20\u001b[0m\u001b[1;33m)\u001b[0m\u001b[1;33m\u001b[0m\u001b[1;33m\u001b[0m\u001b[0m\n\u001b[0m",
      "\u001b[1;32mE:\\venv\\financial_news_re\\lib\\site-packages\\pandas\\plotting\\_core.py\u001b[0m in \u001b[0;36mhist_series\u001b[1;34m(self, by, ax, grid, xlabelsize, xrot, ylabelsize, yrot, figsize, bins, backend, **kwargs)\u001b[0m\n\u001b[0;32m     71\u001b[0m     \u001b[0mmatplotlib\u001b[0m\u001b[1;33m.\u001b[0m\u001b[0maxes\u001b[0m\u001b[1;33m.\u001b[0m\u001b[0mAxes\u001b[0m\u001b[1;33m.\u001b[0m\u001b[0mhist\u001b[0m \u001b[1;33m:\u001b[0m \u001b[0mPlot\u001b[0m \u001b[0ma\u001b[0m \u001b[0mhistogram\u001b[0m \u001b[0musing\u001b[0m \u001b[0mmatplotlib\u001b[0m\u001b[1;33m.\u001b[0m\u001b[1;33m\u001b[0m\u001b[1;33m\u001b[0m\u001b[0m\n\u001b[0;32m     72\u001b[0m     \"\"\"\n\u001b[1;32m---> 73\u001b[1;33m     \u001b[0mplot_backend\u001b[0m \u001b[1;33m=\u001b[0m \u001b[0m_get_plot_backend\u001b[0m\u001b[1;33m(\u001b[0m\u001b[0mbackend\u001b[0m\u001b[1;33m)\u001b[0m\u001b[1;33m\u001b[0m\u001b[1;33m\u001b[0m\u001b[0m\n\u001b[0m\u001b[0;32m     74\u001b[0m     return plot_backend.hist_series(\n\u001b[0;32m     75\u001b[0m         \u001b[0mself\u001b[0m\u001b[1;33m,\u001b[0m\u001b[1;33m\u001b[0m\u001b[1;33m\u001b[0m\u001b[0m\n",
      "\u001b[1;32mE:\\venv\\financial_news_re\\lib\\site-packages\\pandas\\plotting\\_core.py\u001b[0m in \u001b[0;36m_get_plot_backend\u001b[1;34m(backend)\u001b[0m\n\u001b[0;32m   1664\u001b[0m             \u001b[1;32mimport\u001b[0m \u001b[0mpandas\u001b[0m\u001b[1;33m.\u001b[0m\u001b[0mplotting\u001b[0m\u001b[1;33m.\u001b[0m\u001b[0m_matplotlib\u001b[0m \u001b[1;32mas\u001b[0m \u001b[0mmodule\u001b[0m\u001b[1;33m\u001b[0m\u001b[1;33m\u001b[0m\u001b[0m\n\u001b[0;32m   1665\u001b[0m         \u001b[1;32mexcept\u001b[0m \u001b[0mImportError\u001b[0m\u001b[1;33m:\u001b[0m\u001b[1;33m\u001b[0m\u001b[1;33m\u001b[0m\u001b[0m\n\u001b[1;32m-> 1666\u001b[1;33m             raise ImportError(\n\u001b[0m\u001b[0;32m   1667\u001b[0m                 \u001b[1;34m\"matplotlib is required for plotting when the \"\u001b[0m\u001b[1;33m\u001b[0m\u001b[1;33m\u001b[0m\u001b[0m\n\u001b[0;32m   1668\u001b[0m                 \u001b[1;34m'default backend \"matplotlib\" is selected.'\u001b[0m\u001b[1;33m\u001b[0m\u001b[1;33m\u001b[0m\u001b[0m\n",
      "\u001b[1;31mImportError\u001b[0m: matplotlib is required for plotting when the default backend \"matplotlib\" is selected."
     ]
    }
   ],
   "source": [
    "pandas.Series(Y_train.ravel()).hist(bins=20)"
   ]
  },
  {
   "cell_type": "code",
   "execution_count": 34,
   "metadata": {},
   "outputs": [
    {
     "name": "stdout",
     "output_type": "stream",
     "text": [
      "0.14333284006655855\n",
      "0.14372903253270886\n",
      "0.14333284006655855\n",
      "0.14372903253270886\n"
     ]
    }
   ],
   "source": [
    "\"\"\"\n",
    "naive analysis\n",
    "\"\"\"\n",
    "\n",
    "model = LinearRegression()\n",
    "model.fit(X_train, Y_train)\n",
    "Y_hat_train = model.predict(X_train)\n",
    "Y_hat_test = model.predict(X_test)\n",
    "print(r2_adj(Y_train, Y_hat_train, X_train.shape[0], X_train.shape[1]))\n",
    "print(r2_score(Y_train, Y_hat_train))\n",
    "print(r2_adj(Y_train, Y_hat_train, X_train.shape[0], X_train.shape[1]))\n",
    "print(r2_score(Y_train, Y_hat_train))"
   ]
  },
  {
   "cell_type": "code",
   "execution_count": null,
   "metadata": {},
   "outputs": [],
   "source": []
  },
  {
   "cell_type": "code",
   "execution_count": null,
   "metadata": {},
   "outputs": [],
   "source": []
  },
  {
   "cell_type": "code",
   "execution_count": 16,
   "metadata": {},
   "outputs": [],
   "source": [
    "\"\"\"\n",
    "model realisation party A-00-1-SK: sklearn-interfaced models\n",
    "\"\"\"\n",
    "pass"
   ]
  },
  {
   "cell_type": "code",
   "execution_count": 22,
   "metadata": {},
   "outputs": [
    {
     "data": {
      "text/plain": [
       "{'LinearRegression': {'n_jobs': [-1]},\n",
       " 'ElasticNet': {'alpha': [0.01, 0.1, 0.25, 0.5, 0.75, 0.95, 0.99],\n",
       "  'l1_ratio': [0, 0.01, 0.1, 0.25, 0.5, 0.75, 0.95, 0.99],\n",
       "  'max_iter': [100000]},\n",
       " 'KNeighborsRegressor': {'n_neighbors': [2, 3, 5, 8, 10],\n",
       "  'weights': ['uniform', 'distance'],\n",
       "  'p': [1, 2],\n",
       "  'n_jobs': [-1]},\n",
       " 'LinearSVR': {'epsilon': [0.0, 0.1, 0.5, 1.0],\n",
       "  'C': [0.1, 1.0, 10.0, 100.0],\n",
       "  'max_iter': [100000]},\n",
       " 'SVR': {'kernel': ['poly', 'rbf', 'sigmoid'],\n",
       "  'gamma': ['auto', 'scale'],\n",
       "  'C': [0.1, 1.0, 10.0, 100.0],\n",
       "  'epsilon': [0.0, 0.1, 0.5, 1.0],\n",
       "  'shrinking': [True, False],\n",
       "  'max_iter': [100000]},\n",
       " 'NuSVR': {'nu': [0.1, 0.25, 0.5, 0.75, 1.0],\n",
       "  'C': [0.1, 1.0, 10.0, 100.0],\n",
       "  'kernel': ['poly', 'rbf', 'sigmoid'],\n",
       "  'gamma': ['auto', 'scale'],\n",
       "  'shrinking': [True, False],\n",
       "  'max_iter': [100000]},\n",
       " 'DecisionTreeRegressor': {'splitter': ['best', 'random'],\n",
       "  'max_depth': [None, 10, 5, 2],\n",
       "  'max_features': ['auto', 'sqrt', 'log2']},\n",
       " 'ExtraTreesRegressor': {'n_estimators': [10, 50, 100, 200, 500, 1000],\n",
       "  'max_depth': [None, 10, 5, 2],\n",
       "  'max_features': ['auto', 'sqrt', 'log2'],\n",
       "  'n_jobs': [-1]},\n",
       " 'RandomForestRegressor': {'n_estimators': [10, 50, 100, 200, 500, 1000],\n",
       "  'max_depth': [None, 10, 5, 2],\n",
       "  'max_features': ['auto', 'sqrt', 'log2'],\n",
       "  'n_jobs': [-1]},\n",
       " 'LGBMRegressor': {'max_depth': [-1, 10, 5, 2],\n",
       "  'learning_rate': [0.01, 0.1, 0.5],\n",
       "  'n_estimators': [10, 50, 100, 200],\n",
       "  'class_weight': ['balanced', None],\n",
       "  'subsample': [1.0, 0.95, 0.9],\n",
       "  'reg_alpha': [0.0, 0.1, 0.25, 0.5, 0.75, 0.9, 1.0],\n",
       "  'reg_lambda': [0.0, 0.1, 0.25, 0.5, 0.75, 0.9, 1.0],\n",
       "  'n_jobs': [-1]},\n",
       " 'XGBRegressor': {'n_estimators': [10, 50, 100, 200],\n",
       "  'learning_rate': [0.01, 0.1, 0.5],\n",
       "  'n_jobs': [-1],\n",
       "  'subsample': [1.0, 0.95, 0.9],\n",
       "  'reg_alpha': [0.0, 0.1, 0.25, 0.5, 0.75, 0.9, 1.0],\n",
       "  'reg_lambda': [0.0, 0.1, 0.25, 0.5, 0.75, 0.9, 1.0]}}"
      ]
     },
     "execution_count": 22,
     "metadata": {},
     "output_type": "execute_result"
    }
   ],
   "source": [
    "# models\n",
    "# all of them are stored in .json file with possible parameters\n",
    "\n",
    "import json\n",
    "\n",
    "with open('./models_params.json') as f:\n",
    "    models_params = json.load(f)\n",
    "\n",
    "models_params"
   ]
  },
  {
   "cell_type": "code",
   "execution_count": null,
   "metadata": {
    "scrolled": false
   },
   "outputs": [],
   "source": []
  },
  {
   "cell_type": "code",
   "execution_count": 23,
   "metadata": {},
   "outputs": [],
   "source": [
    "def multiply_params(params):\n",
    "    keys = numpy.array(list(params.keys()))\n",
    "    dims = numpy.array([len(params[keys[j]]) for j in numpy.arange(keys.shape[0])])\n",
    "    result = []\n",
    "    for j in numpy.arange(dims.prod()):\n",
    "        curr = j\n",
    "        res = {}\n",
    "        for k in numpy.arange(keys.shape[0]):\n",
    "            ix = curr % dims[k]\n",
    "            res[keys[k]] = params[keys[k]][ix]\n",
    "            curr = curr // dims[k]\n",
    "        result.append(res)\n",
    "    return result\n"
   ]
  },
  {
   "cell_type": "code",
   "execution_count": 24,
   "metadata": {},
   "outputs": [],
   "source": [
    "def r2_adj(y_true, y_pred, dim0, dim1):\n",
    "    r2 = r2_score(y_true, y_pred)\n",
    "    result = 1 - (1 - r2) * (dim0 - 1) / (dim0 - dim1 -1)\n",
    "    return result"
   ]
  },
  {
   "cell_type": "code",
   "execution_count": 25,
   "metadata": {},
   "outputs": [
    {
     "data": {
      "text/plain": [
       "((24669945, 2), (6167487, 2))"
      ]
     },
     "execution_count": 25,
     "metadata": {},
     "output_type": "execute_result"
    }
   ],
   "source": [
    "X_train.shape, X_test.shape"
   ]
  },
  {
   "cell_type": "code",
   "execution_count": 26,
   "metadata": {},
   "outputs": [
    {
     "data": {
      "text/plain": [
       "7"
      ]
     },
     "execution_count": 26,
     "metadata": {},
     "output_type": "execute_result"
    }
   ],
   "source": [
    "dim_transform = 0\n",
    "for transformer_name, transformer_params in transformers.items():\n",
    "    multiple_transformer_params = multiply_params(transformer_params)\n",
    "    dim_transform += len(multiple_transformer_params)\n",
    "dim_transform"
   ]
  },
  {
   "cell_type": "code",
   "execution_count": 27,
   "metadata": {},
   "outputs": [
    {
     "data": {
      "text/plain": [
       "16569"
      ]
     },
     "execution_count": 27,
     "metadata": {},
     "output_type": "execute_result"
    }
   ],
   "source": [
    "dim_models = 0\n",
    "for model_name, model_args in models_params.items():\n",
    "    multiple_model_args = multiply_params(model_args)\n",
    "    dim_models += len(multiple_model_args)\n",
    "dim_models"
   ]
  },
  {
   "cell_type": "code",
   "execution_count": 28,
   "metadata": {},
   "outputs": [
    {
     "name": "stdout",
     "output_type": "stream",
     "text": [
      "Total N of experiments: 115983\n"
     ]
    }
   ],
   "source": [
    "print('Total N of experiments: {}'.format(dim_transform * dim_models))"
   ]
  },
  {
   "cell_type": "code",
   "execution_count": null,
   "metadata": {
    "scrolled": false
   },
   "outputs": [
    {
     "name": "stderr",
     "output_type": "stream",
     "text": [
      "E:\\venv\\financial_news_re\\lib\\site-packages\\sklearn\\linear_model\\_coordinate_descent.py:474: ConvergenceWarning: Objective did not converge. You might want to increase the number of iterations. Duality gap: 11886658.3700256, tolerance: 2466.9944999895497\n",
      "  model = cd_fast.enet_coordinate_descent(\n"
     ]
    }
   ],
   "source": [
    "# well, let's loop over that all (NO GOD PLEASE NOOOOOO)\n",
    "# (kind: nofolds)\n",
    "\n",
    "scorer = r2_adj\n",
    "report = pandas.DataFrame(columns=['XP', 'trans', 'trans_p', 'model', 'model_p', 'sc_train', 'sc_test', 'time'])\n",
    "verbose_step = 1000\n",
    "\n",
    "#_ = 1\n",
    "xp = 1\n",
    "total_time = time.time()\n",
    "for transformer_name, transformer_params in transformers.items():\n",
    "    multiple_transformer_params = multiply_params(transformer_params)\n",
    "    for transformer_param in multiple_transformer_params:\n",
    "        x_transformer, y_transformer = locals()[transformer_name](**transformer_param), locals()[transformer_name](**transformer_param)\n",
    "        x_transformer.fit(X_train)\n",
    "        y_transformer.fit(Y_train)\n",
    "        for model_name, model_args in models_params.items():\n",
    "            multiple_model_args = multiply_params(model_args)\n",
    "            for model_arg in multiple_model_args:\n",
    "                model_time = time.time()\n",
    "                model = locals()[model_name](**model_arg)\n",
    "                X_train_transformed = x_transformer.transform(X_train)\n",
    "                X_test_transformed = x_transformer.transform(X_test)\n",
    "                Y_train_transformed = y_transformer.transform(Y_train)\n",
    "                model.fit(X_train_transformed, Y_train_transformed.ravel())\n",
    "                Y_hat_train_transformed = model.predict(X_train_transformed)\n",
    "                Y_hat_test_transformed = model.predict(X_test_transformed)\n",
    "                Y_hat_train = y_transformer.inverse_transform(Y_hat_train_transformed.reshape(-1, 1))\n",
    "                Y_hat_test = y_transformer.inverse_transform(Y_hat_test_transformed.reshape(-1, 1))\n",
    "                score_train = scorer(Y_train, Y_hat_train, X_train.shape[0], X_train.shape[1])\n",
    "                score_test = scorer(Y_test, Y_hat_test, X_test.shape[0], X_test.shape[1])\n",
    "                model_time = time.time() - model_time\n",
    "                result = {'XP': xp, 'trans': transformer_name, 'trans_p': str(transformer_param), 'model': model_name, 'model_p': str(model_arg), 'sc_train': score_train, 'sc_test': score_test, 'time': model_time}\n",
    "                report = report.append(result, ignore_index=True)\n",
    "                #if _ == 1:\n",
    "                #    print(model_name)\n",
    "                if xp % verbose_step == 0:\n",
    "                    print(xp)\n",
    "                xp += 1\n",
    "        _ += 1\n",
    "total_time = time.time() - total_time\n",
    "print('N experiments: {0:10}; Spent time: {1:.0f}h {2:.0f}m {3:.0f}s'.format(xp, (total_time // 3600), ((total_time // 60) % 60), ((total_time % 3600) % 60)))"
   ]
  },
  {
   "cell_type": "code",
   "execution_count": 32,
   "metadata": {},
   "outputs": [
    {
     "data": {
      "text/html": [
       "<div>\n",
       "<style scoped>\n",
       "    .dataframe tbody tr th:only-of-type {\n",
       "        vertical-align: middle;\n",
       "    }\n",
       "\n",
       "    .dataframe tbody tr th {\n",
       "        vertical-align: top;\n",
       "    }\n",
       "\n",
       "    .dataframe thead th {\n",
       "        text-align: right;\n",
       "    }\n",
       "</style>\n",
       "<table border=\"1\" class=\"dataframe\">\n",
       "  <thead>\n",
       "    <tr style=\"text-align: right;\">\n",
       "      <th></th>\n",
       "      <th>XP</th>\n",
       "      <th>trans</th>\n",
       "      <th>trans_p</th>\n",
       "      <th>model</th>\n",
       "      <th>model_p</th>\n",
       "      <th>sc_train</th>\n",
       "      <th>sc_test</th>\n",
       "      <th>time</th>\n",
       "    </tr>\n",
       "  </thead>\n",
       "  <tbody>\n",
       "    <tr>\n",
       "      <th>17091</th>\n",
       "      <td>17092</td>\n",
       "      <td>MinMaxScaler</td>\n",
       "      <td>{'feature_range': [0, 1]}</td>\n",
       "      <td>NuSVR</td>\n",
       "      <td>{'nu': 0.5, 'C': 100.0, 'kernel': 'sigmoid', '...</td>\n",
       "      <td>-1.268321e+09</td>\n",
       "      <td>-1.843973e+11</td>\n",
       "      <td>10.844788</td>\n",
       "    </tr>\n",
       "    <tr>\n",
       "      <th>16971</th>\n",
       "      <td>16972</td>\n",
       "      <td>MinMaxScaler</td>\n",
       "      <td>{'feature_range': [0, 1]}</td>\n",
       "      <td>NuSVR</td>\n",
       "      <td>{'nu': 0.5, 'C': 100.0, 'kernel': 'sigmoid', '...</td>\n",
       "      <td>-1.268321e+09</td>\n",
       "      <td>-1.843973e+11</td>\n",
       "      <td>8.756748</td>\n",
       "    </tr>\n",
       "    <tr>\n",
       "      <th>16970</th>\n",
       "      <td>16971</td>\n",
       "      <td>MinMaxScaler</td>\n",
       "      <td>{'feature_range': [0, 1]}</td>\n",
       "      <td>NuSVR</td>\n",
       "      <td>{'nu': 0.25, 'C': 100.0, 'kernel': 'sigmoid', ...</td>\n",
       "      <td>-4.785909e+08</td>\n",
       "      <td>-1.275273e+11</td>\n",
       "      <td>4.811206</td>\n",
       "    </tr>\n",
       "    <tr>\n",
       "      <th>17090</th>\n",
       "      <td>17091</td>\n",
       "      <td>MinMaxScaler</td>\n",
       "      <td>{'feature_range': [0, 1]}</td>\n",
       "      <td>NuSVR</td>\n",
       "      <td>{'nu': 0.25, 'C': 100.0, 'kernel': 'sigmoid', ...</td>\n",
       "      <td>-4.785909e+08</td>\n",
       "      <td>-1.275273e+11</td>\n",
       "      <td>5.563957</td>\n",
       "    </tr>\n",
       "    <tr>\n",
       "      <th>17092</th>\n",
       "      <td>17093</td>\n",
       "      <td>MinMaxScaler</td>\n",
       "      <td>{'feature_range': [0, 1]}</td>\n",
       "      <td>NuSVR</td>\n",
       "      <td>{'nu': 0.75, 'C': 100.0, 'kernel': 'sigmoid', ...</td>\n",
       "      <td>-1.608955e+09</td>\n",
       "      <td>-7.757069e+10</td>\n",
       "      <td>16.583703</td>\n",
       "    </tr>\n",
       "    <tr>\n",
       "      <th>...</th>\n",
       "      <td>...</td>\n",
       "      <td>...</td>\n",
       "      <td>...</td>\n",
       "      <td>...</td>\n",
       "      <td>...</td>\n",
       "      <td>...</td>\n",
       "      <td>...</td>\n",
       "      <td>...</td>\n",
       "    </tr>\n",
       "    <tr>\n",
       "      <th>659</th>\n",
       "      <td>660</td>\n",
       "      <td>StandardScaler</td>\n",
       "      <td>{}</td>\n",
       "      <td>RandomForestRegressor</td>\n",
       "      <td>{'n_estimators': 100, 'max_depth': 5, 'max_fea...</td>\n",
       "      <td>1.000000e+00</td>\n",
       "      <td>6.253231e-01</td>\n",
       "      <td>0.330700</td>\n",
       "    </tr>\n",
       "    <tr>\n",
       "      <th>50385</th>\n",
       "      <td>50386</td>\n",
       "      <td>MaxAbsScaler</td>\n",
       "      <td>{}</td>\n",
       "      <td>RandomForestRegressor</td>\n",
       "      <td>{'n_estimators': 200, 'max_depth': 10, 'max_fe...</td>\n",
       "      <td>1.000000e+00</td>\n",
       "      <td>6.358590e-01</td>\n",
       "      <td>0.663600</td>\n",
       "    </tr>\n",
       "    <tr>\n",
       "      <th>17215</th>\n",
       "      <td>17216</td>\n",
       "      <td>MinMaxScaler</td>\n",
       "      <td>{'feature_range': [0, 1]}</td>\n",
       "      <td>RandomForestRegressor</td>\n",
       "      <td>{'n_estimators': 50, 'max_depth': None, 'max_f...</td>\n",
       "      <td>1.000000e+00</td>\n",
       "      <td>7.400960e-01</td>\n",
       "      <td>0.193580</td>\n",
       "    </tr>\n",
       "    <tr>\n",
       "      <th>17227</th>\n",
       "      <td>17228</td>\n",
       "      <td>MinMaxScaler</td>\n",
       "      <td>{'feature_range': [0, 1]}</td>\n",
       "      <td>RandomForestRegressor</td>\n",
       "      <td>{'n_estimators': 50, 'max_depth': 5, 'max_feat...</td>\n",
       "      <td>1.000000e+00</td>\n",
       "      <td>9.208800e-01</td>\n",
       "      <td>0.195083</td>\n",
       "    </tr>\n",
       "    <tr>\n",
       "      <th>17220</th>\n",
       "      <td>17221</td>\n",
       "      <td>MinMaxScaler</td>\n",
       "      <td>{'feature_range': [0, 1]}</td>\n",
       "      <td>RandomForestRegressor</td>\n",
       "      <td>{'n_estimators': 10, 'max_depth': 10, 'max_fea...</td>\n",
       "      <td>1.000000e+00</td>\n",
       "      <td>9.767993e-01</td>\n",
       "      <td>0.082014</td>\n",
       "    </tr>\n",
       "  </tbody>\n",
       "</table>\n",
       "<p>66276 rows × 8 columns</p>\n",
       "</div>"
      ],
      "text/plain": [
       "          XP           trans                    trans_p  \\\n",
       "17091  17092    MinMaxScaler  {'feature_range': [0, 1]}   \n",
       "16971  16972    MinMaxScaler  {'feature_range': [0, 1]}   \n",
       "16970  16971    MinMaxScaler  {'feature_range': [0, 1]}   \n",
       "17090  17091    MinMaxScaler  {'feature_range': [0, 1]}   \n",
       "17092  17093    MinMaxScaler  {'feature_range': [0, 1]}   \n",
       "...      ...             ...                        ...   \n",
       "659      660  StandardScaler                         {}   \n",
       "50385  50386    MaxAbsScaler                         {}   \n",
       "17215  17216    MinMaxScaler  {'feature_range': [0, 1]}   \n",
       "17227  17228    MinMaxScaler  {'feature_range': [0, 1]}   \n",
       "17220  17221    MinMaxScaler  {'feature_range': [0, 1]}   \n",
       "\n",
       "                       model  \\\n",
       "17091                  NuSVR   \n",
       "16971                  NuSVR   \n",
       "16970                  NuSVR   \n",
       "17090                  NuSVR   \n",
       "17092                  NuSVR   \n",
       "...                      ...   \n",
       "659    RandomForestRegressor   \n",
       "50385  RandomForestRegressor   \n",
       "17215  RandomForestRegressor   \n",
       "17227  RandomForestRegressor   \n",
       "17220  RandomForestRegressor   \n",
       "\n",
       "                                                 model_p      sc_train  \\\n",
       "17091  {'nu': 0.5, 'C': 100.0, 'kernel': 'sigmoid', '... -1.268321e+09   \n",
       "16971  {'nu': 0.5, 'C': 100.0, 'kernel': 'sigmoid', '... -1.268321e+09   \n",
       "16970  {'nu': 0.25, 'C': 100.0, 'kernel': 'sigmoid', ... -4.785909e+08   \n",
       "17090  {'nu': 0.25, 'C': 100.0, 'kernel': 'sigmoid', ... -4.785909e+08   \n",
       "17092  {'nu': 0.75, 'C': 100.0, 'kernel': 'sigmoid', ... -1.608955e+09   \n",
       "...                                                  ...           ...   \n",
       "659    {'n_estimators': 100, 'max_depth': 5, 'max_fea...  1.000000e+00   \n",
       "50385  {'n_estimators': 200, 'max_depth': 10, 'max_fe...  1.000000e+00   \n",
       "17215  {'n_estimators': 50, 'max_depth': None, 'max_f...  1.000000e+00   \n",
       "17227  {'n_estimators': 50, 'max_depth': 5, 'max_feat...  1.000000e+00   \n",
       "17220  {'n_estimators': 10, 'max_depth': 10, 'max_fea...  1.000000e+00   \n",
       "\n",
       "            sc_test       time  \n",
       "17091 -1.843973e+11  10.844788  \n",
       "16971 -1.843973e+11   8.756748  \n",
       "16970 -1.275273e+11   4.811206  \n",
       "17090 -1.275273e+11   5.563957  \n",
       "17092 -7.757069e+10  16.583703  \n",
       "...             ...        ...  \n",
       "659    6.253231e-01   0.330700  \n",
       "50385  6.358590e-01   0.663600  \n",
       "17215  7.400960e-01   0.193580  \n",
       "17227  9.208800e-01   0.195083  \n",
       "17220  9.767993e-01   0.082014  \n",
       "\n",
       "[66276 rows x 8 columns]"
      ]
     },
     "execution_count": 32,
     "metadata": {},
     "output_type": "execute_result"
    }
   ],
   "source": [
    "report.sort_values(by=['sc_test'])"
   ]
  },
  {
   "cell_type": "code",
   "execution_count": null,
   "metadata": {},
   "outputs": [],
   "source": [
    "\"\"\"\n",
    "model group A-01\n",
    "\n",
    "targets: prc increase D2D for {open price; close price; max price; min price; volume}\n",
    "fields: any transform of the target + time axis\n",
    "\"\"\"\n",
    "pass"
   ]
  },
  {
   "cell_type": "code",
   "execution_count": null,
   "metadata": {},
   "outputs": [],
   "source": []
  },
  {
   "cell_type": "code",
   "execution_count": 11,
   "metadata": {},
   "outputs": [],
   "source": [
    "\"\"\"\n",
    "model group A-02\n",
    "\n",
    "targets: prc increase D2D for {open price; close price; max price; min price; volume}\n",
    "fields: any transform of the target + other targets\n",
    "\"\"\"\n",
    "pass"
   ]
  },
  {
   "cell_type": "code",
   "execution_count": null,
   "metadata": {},
   "outputs": [],
   "source": []
  },
  {
   "cell_type": "code",
   "execution_count": 12,
   "metadata": {},
   "outputs": [],
   "source": [
    "\"\"\"\n",
    "model group A-03\n",
    "\n",
    "targets: prc increase D2D for {open price; close price; max price; min price; volume}\n",
    "fields: any transform of the target + time axis + other targets\n",
    "\"\"\"\n",
    "pass"
   ]
  },
  {
   "cell_type": "code",
   "execution_count": null,
   "metadata": {},
   "outputs": [],
   "source": []
  },
  {
   "cell_type": "code",
   "execution_count": 13,
   "metadata": {},
   "outputs": [],
   "source": [
    "\"\"\"\n",
    "model group A-04\n",
    "\n",
    "targets: prc increase D2D for {open price; close price; max price; min price; volume}\n",
    "fields: any transform of the target + news\n",
    "\"\"\"\n",
    "pass"
   ]
  },
  {
   "cell_type": "code",
   "execution_count": null,
   "metadata": {},
   "outputs": [],
   "source": []
  },
  {
   "cell_type": "code",
   "execution_count": 14,
   "metadata": {},
   "outputs": [],
   "source": [
    "\"\"\"\n",
    "model group A-05\n",
    "\n",
    "targets: prc increase D2D for {open price; close price; max price; min price; volume}\n",
    "fields: any transform of the target + time axis + news\n",
    "\"\"\"\n",
    "pass"
   ]
  },
  {
   "cell_type": "code",
   "execution_count": null,
   "metadata": {},
   "outputs": [],
   "source": []
  },
  {
   "cell_type": "code",
   "execution_count": 15,
   "metadata": {},
   "outputs": [],
   "source": [
    "\"\"\"\n",
    "model group A-06\n",
    "\n",
    "targets: prc increase D2D for {open price; close price; max price; min price; volume}\n",
    "fields: any transform of the target + time axis + news + other targets\n",
    "\"\"\"\n",
    "pass"
   ]
  },
  {
   "cell_type": "code",
   "execution_count": null,
   "metadata": {},
   "outputs": [],
   "source": []
  },
  {
   "cell_type": "code",
   "execution_count": null,
   "metadata": {},
   "outputs": [],
   "source": []
  }
 ],
 "metadata": {
  "kernelspec": {
   "display_name": "Python 3",
   "language": "python",
   "name": "python3"
  },
  "language_info": {
   "codemirror_mode": {
    "name": "ipython",
    "version": 3
   },
   "file_extension": ".py",
   "mimetype": "text/x-python",
   "name": "python",
   "nbconvert_exporter": "python",
   "pygments_lexer": "ipython3",
   "version": "3.8.3"
  }
 },
 "nbformat": 4,
 "nbformat_minor": 4
}
